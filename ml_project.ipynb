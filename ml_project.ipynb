{
 "cells": [
  {
   "cell_type": "markdown",
   "metadata": {},
   "source": [
    "Names: Aman Tewari, Ebaad Imran, Akin Bilen, Jake Medina "
   ]
  },
  {
   "cell_type": "markdown",
   "metadata": {},
   "source": [
    "We have two main goals for this project, we will first attempt to predict where songs rank on the apple charts based on selected features. We want to approach this as a classification problem, as we care less about the exact ranking of a song, and more about how relatively popular it is going to be on the charts. Thus, we will split Apple rankings into 5 classes, apple_chart_category_276+,\tapple_chart_category_1-50, apple_chart_category_51-100, apple_chart_category_101-200, apple_chart_category_201-275, and attempt to predict which class a given song falls under. \n",
    "\n",
    "We specifically chose the apple chart because it appears to be a chart that doesn't only rank based on number of streams, the first cell of part 2 demostrates that there is only a rougly .38 correlation between average_streams_per_year and ranking, implying there are other factors that apple chooses to use to rank songs, and we want to explore what they are, or at least what we need to predict them. \n",
    "\n",
    "The second goal of the project is much more ambitious, we wish to predict roughly the stream ranking of a song based on only features that would be given pre-release, i.e. we can't use features like in_spotify_playlists which describes how many spotify playlists contain the song. This would be very useful because it would create a model that producer could use to engineer a song that is \"supposed\" to top charts and honestly probably what happens in the industry today. Note: we chose streams_ranking rather than streams because the variance in the stream data is extremely high, and is will have more unusual patterns than stream_ranking. Of course, we would need much more training data to do this with a hypothetical song, but it's a good proof of concept."
   ]
  },
  {
   "cell_type": "markdown",
   "metadata": {},
   "source": [
    "Part 1: Data Collection, Cleanup, Feature Engineering (Combining Correlated Features)"
   ]
  },
  {
   "cell_type": "code",
   "execution_count": 42,
   "metadata": {},
   "outputs": [],
   "source": [
    "# ML Project\n",
    "\n",
    "# headers\n",
    "import numpy as np\n",
    "import pandas as pd\n",
    "import matplotlib.pyplot as plt\n",
    "from sklearn.preprocessing import StandardScaler, MinMaxScaler, OneHotEncoder\n",
    "from sklearn.compose import ColumnTransformer\n",
    "from sklearn.pipeline import Pipeline, FeatureUnion\n",
    "\n",
    "import warnings\n",
    "from sklearn.exceptions import ConvergenceWarning \n",
    "warnings.filterwarnings('ignore', category=ConvergenceWarning)"
   ]
  },
  {
   "cell_type": "code",
   "execution_count": 43,
   "metadata": {},
   "outputs": [
    {
     "name": "stdout",
     "output_type": "stream",
     "text": [
      "                            track_name    artist(s)_name  artist_count  \\\n",
      "0  Seven (feat. Latto) (Explicit Ver.)  Latto, Jung Kook             2   \n",
      "1                                 LALA       Myke Towers             1   \n",
      "2                              vampire    Olivia Rodrigo             1   \n",
      "3                         Cruel Summer      Taylor Swift             1   \n",
      "4                       WHERE SHE GOES         Bad Bunny             1   \n",
      "\n",
      "   released_year  released_month  released_day  in_spotify_playlists  \\\n",
      "0           2023               7            14                   553   \n",
      "1           2023               3            23                  1474   \n",
      "2           2023               6            30                  1397   \n",
      "3           2019               8            23                  7858   \n",
      "4           2023               5            18                  3133   \n",
      "\n",
      "   in_spotify_charts    streams  in_apple_playlists  ...  bpm key   mode  \\\n",
      "0                147  141381703                  43  ...  125   B  Major   \n",
      "1                 48  133716286                  48  ...   92  C#  Major   \n",
      "2                113  140003974                  94  ...  138   F  Major   \n",
      "3                100  800840817                 116  ...  170   A  Major   \n",
      "4                 50  303236322                  84  ...  144   A  Minor   \n",
      "\n",
      "  danceability_%  valence_% energy_% acousticness_%  instrumentalness_%  \\\n",
      "0             80         89       83             31                   0   \n",
      "1             71         61       74              7                   0   \n",
      "2             51         32       53             17                   0   \n",
      "3             55         58       72             11                   0   \n",
      "4             65         23       80             14                  63   \n",
      "\n",
      "   liveness_%  speechiness_%  \n",
      "0           8              4  \n",
      "1          10              4  \n",
      "2          31              6  \n",
      "3          11             15  \n",
      "4          11              6  \n",
      "\n",
      "[5 rows x 24 columns]\n"
     ]
    }
   ],
   "source": [
    "raw_data = pd.read_csv(\"spotify-2023.csv\", skipinitialspace = True)\n",
    "# raw_data.drop(raw_data['in_shazam_charts'], axis=1, inplace=True)\n",
    "print(raw_data.head())"
   ]
  },
  {
   "cell_type": "code",
   "execution_count": 44,
   "metadata": {},
   "outputs": [
    {
     "name": "stdout",
     "output_type": "stream",
     "text": [
      "<class 'pandas.core.frame.DataFrame'>\n",
      "RangeIndex: 953 entries, 0 to 952\n",
      "Data columns (total 24 columns):\n",
      " #   Column                Non-Null Count  Dtype \n",
      "---  ------                --------------  ----- \n",
      " 0   track_name            953 non-null    object\n",
      " 1   artist(s)_name        953 non-null    object\n",
      " 2   artist_count          953 non-null    int64 \n",
      " 3   released_year         953 non-null    int64 \n",
      " 4   released_month        953 non-null    int64 \n",
      " 5   released_day          953 non-null    int64 \n",
      " 6   in_spotify_playlists  953 non-null    int64 \n",
      " 7   in_spotify_charts     953 non-null    int64 \n",
      " 8   streams               953 non-null    int64 \n",
      " 9   in_apple_playlists    953 non-null    int64 \n",
      " 10  in_apple_charts       953 non-null    int64 \n",
      " 11  in_deezer_playlists   953 non-null    object\n",
      " 12  in_deezer_charts      953 non-null    int64 \n",
      " 13  in_shazam_charts      903 non-null    object\n",
      " 14  bpm                   953 non-null    int64 \n",
      " 15  key                   858 non-null    object\n",
      " 16  mode                  953 non-null    object\n",
      " 17  danceability_%        953 non-null    int64 \n",
      " 18  valence_%             953 non-null    int64 \n",
      " 19  energy_%              953 non-null    int64 \n",
      " 20  acousticness_%        953 non-null    int64 \n",
      " 21  instrumentalness_%    953 non-null    int64 \n",
      " 22  liveness_%            953 non-null    int64 \n",
      " 23  speechiness_%         953 non-null    int64 \n",
      "dtypes: int64(18), object(6)\n",
      "memory usage: 178.8+ KB\n",
      "None\n",
      "track_name               0\n",
      "artist(s)_name           0\n",
      "artist_count             0\n",
      "released_year            0\n",
      "released_month           0\n",
      "released_day             0\n",
      "in_spotify_playlists     0\n",
      "in_spotify_charts        0\n",
      "streams                  0\n",
      "in_apple_playlists       0\n",
      "in_apple_charts          0\n",
      "in_deezer_playlists      0\n",
      "in_deezer_charts         0\n",
      "in_shazam_charts        50\n",
      "bpm                      0\n",
      "key                     95\n",
      "mode                     0\n",
      "danceability_%           0\n",
      "valence_%                0\n",
      "energy_%                 0\n",
      "acousticness_%           0\n",
      "instrumentalness_%       0\n",
      "liveness_%               0\n",
      "speechiness_%            0\n",
      "dtype: int64\n"
     ]
    }
   ],
   "source": [
    "print(raw_data.info())\n",
    "\n",
    "# let's check for missing values\n",
    "missing_values = raw_data.isna().sum()\n",
    "print(missing_values)\n",
    "\n"
   ]
  },
  {
   "cell_type": "code",
   "execution_count": 45,
   "metadata": {},
   "outputs": [
    {
     "data": {
      "text/plain": [
       "track_name                0\n",
       "artist(s)_name            0\n",
       "artist_count              0\n",
       "released_year             0\n",
       "released_month            0\n",
       "released_day              0\n",
       "in_spotify_playlists      0\n",
       "in_spotify_charts       405\n",
       "streams                   0\n",
       "in_apple_playlists       23\n",
       "in_apple_charts         100\n",
       "in_deezer_playlists       0\n",
       "in_deezer_charts        558\n",
       "in_shazam_charts          0\n",
       "bpm                       0\n",
       "key                       0\n",
       "mode                      0\n",
       "danceability_%            0\n",
       "valence_%                 0\n",
       "energy_%                  0\n",
       "acousticness_%           60\n",
       "instrumentalness_%      866\n",
       "liveness_%                0\n",
       "speechiness_%             0\n",
       "dtype: int64"
      ]
     },
     "execution_count": 45,
     "metadata": {},
     "output_type": "execute_result"
    }
   ],
   "source": [
    "# it seems that there are some blank values in the shazam_charts column.\n",
    "# let's check how many values have a value 0\n",
    "\n",
    "zero_counts = (raw_data == 0).sum()\n",
    "zero_counts "
   ]
  },
  {
   "cell_type": "code",
   "execution_count": 46,
   "metadata": {},
   "outputs": [
    {
     "name": "stdout",
     "output_type": "stream",
     "text": [
      "147 58 275\n"
     ]
    }
   ],
   "source": [
    "max_values_spot = raw_data['in_spotify_charts'].max()\n",
    "max_values_deez = raw_data['in_deezer_charts'].max()\n",
    "max_values_app = raw_data['in_apple_charts'].max()\n",
    "print(max_values_spot, max_values_deez, max_values_app)"
   ]
  },
  {
   "cell_type": "code",
   "execution_count": 47,
   "metadata": {},
   "outputs": [
    {
     "name": "stdout",
     "output_type": "stream",
     "text": [
      "888\n",
      "0\n",
      "0\n",
      "0\n"
     ]
    }
   ],
   "source": [
    "# print out rows that have 0 in Apple, Spotify, AND Deezer charts. That is bad.\n",
    "\n",
    "# a mirror of all of the records\n",
    "# the value is false if it doesn't meet the condition\n",
    "# the value is true otherwise\n",
    "all_zero_chart_rankings = ((raw_data['in_spotify_charts'] == 0) & (raw_data['in_deezer_charts'] == 0) & (raw_data['in_apple_charts'] == 0))\n",
    "\n",
    "# print(all_zero_chart_rankings)\n",
    "print((all_zero_chart_rankings == False).sum())\n",
    "\n",
    "# only print rows of raw_data where the matching row from all_zero_chart_rankings is True\n",
    "filtered_df = raw_data[all_zero_chart_rankings]\n",
    "# print(filtered_df)  # 0 rows\n",
    "print(filtered_df['in_spotify_charts'].sum())  # 0'])\n",
    "print(filtered_df['in_deezer_charts'].sum())  # 0'])\n",
    "print(filtered_df['in_apple_charts'].sum())  # 0']) \n",
    "\n",
    "\n",
    "# There are 65 records in total that have 0 in all three charts.\n",
    "\n",
    "# We can try to weigh charts with the total missing values for each chart.\n",
    "# We can try to "
   ]
  },
  {
   "cell_type": "code",
   "execution_count": 48,
   "metadata": {},
   "outputs": [
    {
     "name": "stdout",
     "output_type": "stream",
     "text": [
      "888\n",
      "                                  track_name                artist(s)_name  \\\n",
      "29   Dance The Night (From Barbie The Album)                      Dua Lipa   \n",
      "47                               Die For You                    The Weeknd   \n",
      "53              (It Goes Like) Nanana - Edit                     Peggy Gou   \n",
      "62   Left and Right (Feat. Jung Kook of BTS)  Charlie Puth, BTS, Jung Kook   \n",
      "66                                     Karma                  Taylor Swift   \n",
      "..                                       ...                           ...   \n",
      "947                            The Great War                  Taylor Swift   \n",
      "948                             My Mind & Me                  Selena Gomez   \n",
      "949                Bigger Than The Whole Sky                  Taylor Swift   \n",
      "950                     A Veces (feat. Feid)            Feid, Paulo Londra   \n",
      "951                            En La De Ella            Feid, Sech, Jhayco   \n",
      "\n",
      "     artist_count  released_year  released_month  released_day  \\\n",
      "29              1           2023               5            25   \n",
      "47              1           2016              11            24   \n",
      "53              1           2023               6            15   \n",
      "62              3           2022               6            24   \n",
      "66              1           2022              10            21   \n",
      "..            ...            ...             ...           ...   \n",
      "947             1           2022              10            21   \n",
      "948             1           2022              11             3   \n",
      "949             1           2022              10            21   \n",
      "950             2           2022              11             3   \n",
      "951             3           2022              10            20   \n",
      "\n",
      "     in_spotify_playlists  in_spotify_charts     streams  in_apple_playlists  \\\n",
      "29                   2988                101   127408954                   0   \n",
      "47                   2483                 59  1647990401                  68   \n",
      "53                   2259                 59    57876440                   0   \n",
      "62                   3107                 39   720434240                  38   \n",
      "66                   3818                 23   404562836                  37   \n",
      "..                    ...                ...         ...                 ...   \n",
      "947                  1274                  0   181382590                   1   \n",
      "948                   953                  0    91473363                  61   \n",
      "949                  1180                  0   121871870                   4   \n",
      "950                   573                  0    73513683                   2   \n",
      "951                  1320                  0   133895612                  29   \n",
      "\n",
      "     ...  bpm key   mode danceability_%  valence_% energy_% acousticness_%  \\\n",
      "29   ...  110   B  Minor             67         78       85              2   \n",
      "47   ...  134  C#  Minor             59         51       52              9   \n",
      "53   ...  130   G  Minor             67         96       88             12   \n",
      "62   ...  101   D  Major             88         72       59             62   \n",
      "66   ...   90  G#  Major             64         10       62              7   \n",
      "..   ...  ...  ..    ...            ...        ...      ...            ...   \n",
      "947  ...   96   F  Major             57         55       74             22   \n",
      "948  ...  144   A  Major             60         24       39             57   \n",
      "949  ...  166  F#  Major             42          7       24             83   \n",
      "950  ...   92  C#  Major             80         81       67              4   \n",
      "951  ...   97  C#  Major             82         67       77              8   \n",
      "\n",
      "     instrumentalness_%  liveness_%  speechiness_%  \n",
      "29                    0          33              5  \n",
      "47                    0          15              7  \n",
      "53                   19           8              4  \n",
      "62                    0           9              3  \n",
      "66                    0          48              7  \n",
      "..                  ...         ...            ...  \n",
      "947                   0           8              4  \n",
      "948                   0           8              3  \n",
      "949                   1          12              6  \n",
      "950                   0           8              6  \n",
      "951                   0          12              5  \n",
      "\n",
      "[627 rows x 24 columns]\n",
      "405\n",
      "558\n",
      "100\n"
     ]
    }
   ],
   "source": [
    "\n",
    "some_zero_chart_rankings = ((raw_data['in_spotify_charts'] == 0) | (raw_data['in_deezer_charts'] == 0) | (raw_data['in_apple_charts'] == 0))\n",
    "print((all_zero_chart_rankings == 0).sum())\n",
    "filtered_df = raw_data[some_zero_chart_rankings]\n",
    "print(filtered_df)  # 0 rows\n",
    "print((filtered_df['in_spotify_charts'] == 0).sum())  # 0'])\n",
    "print((filtered_df['in_deezer_charts']== 0).sum())  # 0'])\n",
    "print((filtered_df['in_apple_charts'] == 0).sum())  # 0']) \n",
    "\n",
    "# There are 627(includes 65 records that have no ranking) records in total that are missing at least one ranking from the Spotify, Deezer, or Apple charts.\n",
    "\n",
    "# TODO: We did not include Shazam charts in this analysis. We should include Shazam charts in this analysis.\n",
    "# There are no MISSING values in Spotify, Deezer, Apple charts, BUT there are 50 missing values in Shazam charts so we have to remember to add those in"
   ]
  },
  {
   "cell_type": "code",
   "execution_count": 49,
   "metadata": {},
   "outputs": [
    {
     "name": "stdout",
     "output_type": "stream",
     "text": [
      "953\n",
      "0      summer\n",
      "1      spring\n",
      "2      summer\n",
      "3      summer\n",
      "4      spring\n",
      "        ...  \n",
      "948      fall\n",
      "949      fall\n",
      "950      fall\n",
      "951      fall\n",
      "952      fall\n",
      "Name: season, Length: 953, dtype: object\n",
      "season\n",
      "spring    280\n",
      "winter    270\n",
      "fall      209\n",
      "summer    194\n",
      "Name: count, dtype: int64\n"
     ]
    }
   ],
   "source": [
    "\"\"\"\n",
    "Add season column as a new feature\n",
    "\"\"\"\n",
    "print(len(raw_data))\n",
    "seasons = []\n",
    "# print(len(raw_data.iterrows()))\n",
    "for index,row in raw_data.iterrows():\n",
    "    if row['released_month'] in [12,1,2]:\n",
    "        seasons.append('winter')\n",
    "    elif row['released_month'] in [3,4,5]:\n",
    "        seasons.append('spring')\n",
    "    elif row['released_month'] in [6,7,8]:\n",
    "        seasons.append('summer')\n",
    "    elif row['released_month'] in [9,10,11]:\n",
    "        seasons.append('fall')\n",
    "    else:\n",
    "        seasons.append('unknown')\n",
    "\n",
    "raw_data['season'] = seasons\n",
    "print(raw_data['season'])\n",
    "print(raw_data['season'].value_counts())"
   ]
  },
  {
   "cell_type": "code",
   "execution_count": 50,
   "metadata": {},
   "outputs": [
    {
     "name": "stdout",
     "output_type": "stream",
     "text": [
      "                                        track_name  \\\n",
      "55                                 Blinding Lights   \n",
      "179                                   Shape of You   \n",
      "86                               Someone You Loved   \n",
      "620                                   Dance Monkey   \n",
      "41   Sunflower - Spider-Man: Into the Spider-Verse   \n",
      "162                                      One Dance   \n",
      "84                       STAY (with Justin Bieber)   \n",
      "140                                       Believer   \n",
      "725                                         Closer   \n",
      "48                                         Starboy   \n",
      "138                                        Perfect   \n",
      "71                                      Heat Waves   \n",
      "14                                       As It Was   \n",
      "693                                          Se��o   \n",
      "324                           Say You Won't Let Go   \n",
      "128                           lovely - Bonus Track   \n",
      "127                               Watermelon Sugar   \n",
      "407                                Don't Start Now   \n",
      "621                                   Lucid Dreams   \n",
      "73                                 Sweater Weather   \n",
      "\n",
      "                   artist(s)_name     streams  stream_ranking  \n",
      "55                     The Weeknd  3703895074               1  \n",
      "179                    Ed Sheeran  3562543890               2  \n",
      "86                  Lewis Capaldi  2887241814               3  \n",
      "620                   Tones and I  2864791672               4  \n",
      "41          Post Malone, Swae Lee  2808096550               5  \n",
      "162           Drake, WizKid, Kyla  2713922350               6  \n",
      "84   Justin Bieber, The Kid Laroi  2665343922               7  \n",
      "140               Imagine Dragons  2594040133               8  \n",
      "725      The Chainsmokers, Halsey  2591224264               9  \n",
      "48          The Weeknd, Daft Punk  2565529693              10  \n",
      "138                    Ed Sheeran  2559529074              11  \n",
      "71                  Glass Animals  2557975762              12  \n",
      "14                   Harry Styles  2513188493              13  \n",
      "693  Shawn Mendes, Camila Cabello  2484812918              14  \n",
      "324                  James Arthur  2420461338              15  \n",
      "128         Billie Eilish, Khalid  2355719893              16  \n",
      "127                  Harry Styles  2322580122              17  \n",
      "407                      Dua Lipa  2303033973              18  \n",
      "621                    Juice WRLD  2288695111              19  \n",
      "73              The Neighbourhood  2282771485              20  \n"
     ]
    }
   ],
   "source": [
    "\"\"\"\n",
    "Add ranking column\n",
    "\"\"\"\n",
    "raw_data['stream_ranking'] = raw_data['streams'].rank(ascending=False).astype(int)\n",
    "print((raw_data[['track_name', 'artist(s)_name', 'streams', 'stream_ranking']]).sort_values(by='stream_ranking').head(20))"
   ]
  },
  {
   "cell_type": "code",
   "execution_count": 51,
   "metadata": {},
   "outputs": [
    {
     "name": "stdout",
     "output_type": "stream",
     "text": [
      "                                track_name  released_year     streams  \\\n",
      "12                                 Flowers           2023  1316855716   \n",
      "14                               As It Was           2022  2513188493   \n",
      "84               STAY (with Justin Bieber)           2021  2665343922   \n",
      "55                         Blinding Lights           2019  3703895074   \n",
      "6                          Ella Baila Sola           2023   725980112   \n",
      "133  Shakira: Bzrp Music Sessions, Vol. 53           2023   721975598   \n",
      "87                         Me Porto Bonito           2022  1440757818   \n",
      "74   Quevedo: Bzrp Music Sessions, Vol. 52           2022  1356565093   \n",
      "71                              Heat Waves           2020  2557975762   \n",
      "192                       Titi Me Pregunt�           2022  1264310836   \n",
      "513                               good 4 u           2021  1887039593   \n",
      "535                        drivers license           2021  1858144199   \n",
      "34                                     TQG           2023   618990393   \n",
      "77               Unholy (feat. Kim Petras)           2022  1230675890   \n",
      "57                              La Bachata           2022  1214083358   \n",
      "410      INDUSTRY BABY (feat. Jack Harlow)           2021  1814349763   \n",
      "15                               Kill Bill           2022  1163093654   \n",
      "620                           Dance Monkey           2019  2864791672   \n",
      "146                          Ojitos Lindos           2022  1133865788   \n",
      "42                         I'm Good (Blue)           2022  1109433169   \n",
      "\n",
      "     average_streams_per_year  \n",
      "12              1316855716.00  \n",
      "14              1256594246.50  \n",
      "84               888447974.00  \n",
      "55               740779014.80  \n",
      "6                725980112.00  \n",
      "133              721975598.00  \n",
      "87               720378909.00  \n",
      "74               678282546.50  \n",
      "71               639493940.50  \n",
      "192              632155418.00  \n",
      "513              629013197.67  \n",
      "535              619381399.67  \n",
      "34               618990393.00  \n",
      "77               615337945.00  \n",
      "57               607041679.00  \n",
      "410              604783254.33  \n",
      "15               581546827.00  \n",
      "620              572958334.40  \n",
      "146              566932894.00  \n",
      "42               554716584.50  \n"
     ]
    }
   ],
   "source": [
    "\"\"\"Add average streams per year column, this should be helpful on comparing songs that were released in different years, but not overall ranking\"\"\"\n",
    "\"\"\"\"Now newers songs that haven't had as much time to accumulate strings get more presence in the ranking.\"\"\"\"\"\n",
    "raw_data['average_streams_per_year'] = raw_data['streams'] / (2024 - raw_data['released_year'])\n",
    "pd.options.display.float_format = '{:.2f}'.format\n",
    "print((raw_data[['track_name', 'released_year', 'streams', 'average_streams_per_year']]).sort_values(by='average_streams_per_year', ascending=False).head(20))"
   ]
  },
  {
   "cell_type": "code",
   "execution_count": 52,
   "metadata": {},
   "outputs": [
    {
     "name": "stdout",
     "output_type": "stream",
     "text": [
      "bpm_category\n",
      "3    338\n",
      "1    308\n",
      "2    307\n",
      "Name: count, dtype: int64\n"
     ]
    }
   ],
   "source": [
    "\"\"\"\"Bin bpm into 3 categories: slow, medium, fast(Thresholds were determined by general bpm differentiation across genres)\"\"\"\n",
    "bpm_col = raw_data['bpm']\n",
    "bpm_bins = [0, 105, 130, 300]\n",
    "bpm_labels = [1, 2, 3]\n",
    "raw_data['bpm_category'] = pd.cut(x =bpm_col, bins=bpm_bins, labels=bpm_labels)\n",
    "\n",
    "\n",
    "# DELETE raw_data['bpm'] ?? \n",
    "# raw_data.drop(['bpm'], axis=1, inplace=True)\n",
    "print(raw_data['bpm_category'].value_counts())"
   ]
  },
  {
   "cell_type": "code",
   "execution_count": 53,
   "metadata": {},
   "outputs": [
    {
     "name": "stdout",
     "output_type": "stream",
     "text": [
      "charted_on_spotify\n",
      "True     548\n",
      "False    405\n",
      "Name: count, dtype: int64\n"
     ]
    }
   ],
   "source": [
    "'''Spotify charts: binary label, 1 for in charts, 0 for not in charts\n",
    "This can be used as an alternative class label.\n",
    "We are using this label because we are trying to predict whether a song will be charted on Spotify\n",
    "'''\n",
    "\n",
    "# all zero values indicate that a song was not charted\n",
    "\n",
    "# create a new column called charted_on_spotify\n",
    "\n",
    "charted_on_spotify = raw_data['in_spotify_charts'] != 0\n",
    "raw_data['charted_on_spotify'] = charted_on_spotify\n",
    "print(raw_data['charted_on_spotify'].value_counts())"
   ]
  },
  {
   "cell_type": "code",
   "execution_count": 54,
   "metadata": {},
   "outputs": [
    {
     "name": "stdout",
     "output_type": "stream",
     "text": [
      "class_label_apple_chart_category\n",
      "1    439\n",
      "2    243\n",
      "3    158\n",
      "5    100\n",
      "4     13\n",
      "Name: count, dtype: int64\n",
      "                            track_name    artist(s)_name  artist_count  \\\n",
      "0  Seven (feat. Latto) (Explicit Ver.)  Latto, Jung Kook             2   \n",
      "1                                 LALA       Myke Towers             1   \n",
      "2                              vampire    Olivia Rodrigo             1   \n",
      "3                         Cruel Summer      Taylor Swift             1   \n",
      "4                       WHERE SHE GOES         Bad Bunny             1   \n",
      "\n",
      "   released_year  released_month  released_day  in_spotify_playlists  \\\n",
      "0           2023               7            14                   553   \n",
      "1           2023               3            23                  1474   \n",
      "2           2023               6            30                  1397   \n",
      "3           2019               8            23                  7858   \n",
      "4           2023               5            18                  3133   \n",
      "\n",
      "   in_spotify_charts    streams  in_apple_playlists  ...  acousticness_%  \\\n",
      "0                147  141381703                  43  ...              31   \n",
      "1                 48  133716286                  48  ...               7   \n",
      "2                113  140003974                  94  ...              17   \n",
      "3                100  800840817                 116  ...              11   \n",
      "4                 50  303236322                  84  ...              14   \n",
      "\n",
      "  instrumentalness_%  liveness_% speechiness_%  season stream_ranking  \\\n",
      "0                  0           8             4  summer            716   \n",
      "1                  0          10             4  spring            738   \n",
      "2                  0          31             6  summer            719   \n",
      "3                  0          11            15  summer            196   \n",
      "4                 63          11             6  spring            458   \n",
      "\n",
      "  average_streams_per_year  bpm_category  charted_on_spotify  \\\n",
      "0             141381703.00             2                True   \n",
      "1             133716286.00             1                True   \n",
      "2             140003974.00             3                True   \n",
      "3             160168163.40             3                True   \n",
      "4             303236322.00             3                True   \n",
      "\n",
      "   class_label_apple_chart_category  \n",
      "0                                 4  \n",
      "1                                 3  \n",
      "2                                 4  \n",
      "3                                 4  \n",
      "4                                 3  \n",
      "\n",
      "[5 rows x 30 columns]\n"
     ]
    }
   ],
   "source": [
    "'''Apple charts: binned, 1-100, 101-200, 201-275, 276+'''\n",
    "'''This could also be used as a class label, or a feature'''\n",
    "\n",
    "# we are assuming that every row with an \"in_apple_charts\" value of 0 is a song that didn't make the top 275 charts\n",
    "# initially the bins were 1-100, 101-200, 201-275, 276+ and the result is:\n",
    "'''1-100      677\n",
    "   101-200    163\n",
    "   276+       100\n",
    "   201-275     13'''\n",
    "\n",
    "# Because the 1-100 bin has the most values, we are going to change the bins to 1-50, 51-100, 101-200, 201-275, 276+\n",
    "# So that the bins are less skewed\n",
    "apple_chart_bins = [-1, 0, 51, 101, 201, 276]\n",
    "apple_chart_labels = [ 5, 1, 2, 3, 4]\n",
    "raw_data['class_label_apple_chart_category'] = pd.cut(x = raw_data['in_apple_charts'], bins=apple_chart_bins, labels=apple_chart_labels)\n",
    "\n",
    "print(raw_data['class_label_apple_chart_category'].value_counts())\n",
    "\n",
    "# one-hot encode the apple_chart_category column\n",
    "\n",
    "#raw_data = pd.get_dummies(raw_data, columns=['apple_chart_category'])\n",
    "print(raw_data.head())"
   ]
  },
  {
   "cell_type": "code",
   "execution_count": 55,
   "metadata": {},
   "outputs": [
    {
     "name": "stdout",
     "output_type": "stream",
     "text": [
      "key\n",
      "C#   0.14\n",
      "G    0.25\n",
      "G#   0.36\n",
      "F    0.46\n",
      "B    0.56\n",
      "D    0.65\n",
      "A    0.74\n",
      "F#   0.82\n",
      "E    0.90\n",
      "A#   0.96\n",
      "D#   1.00\n",
      "Name: count, dtype: float64\n",
      "before key\n",
      "C#    120\n",
      "G      96\n",
      "G#     91\n",
      "F      89\n",
      "B      81\n",
      "D      81\n",
      "A      75\n",
      "F#     73\n",
      "E      62\n",
      "A#     57\n",
      "D#     33\n",
      "Name: count, dtype: int64\n",
      "after key\n",
      "C#    131\n",
      "G     109\n",
      "F     105\n",
      "G#     97\n",
      "B      92\n",
      "D      89\n",
      "A      86\n",
      "F#     78\n",
      "E      67\n",
      "A#     63\n",
      "D#     36\n",
      "Name: count, dtype: int64\n"
     ]
    }
   ],
   "source": [
    "'''We have decided to fill in the missing values of the 'key' column based on\n",
    "the probability distribution of the 'keys' that exist in the data set.'''\n",
    "\n",
    "keys = raw_data['key'].dropna().unique()\n",
    "counts = raw_data['key'].value_counts()\n",
    "sums = raw_data['key'].value_counts().sum()\n",
    "counts = counts / sums\n",
    "for i in range(1,len(keys)):\n",
    "    counts.iloc[i] = counts.iloc[i] + counts.iloc[i-1]\n",
    "\n",
    "print(counts)\n",
    "\n",
    "import random\n",
    "# random number between 0 and 1\n",
    "\n",
    "# for each record with column value ['key'] that is n/a, choose a random number bewteen 0 and 1\n",
    "# set the key value to the corresponding key value in counts\n",
    "\n",
    "print('before', raw_data['key'].value_counts())\n",
    "\n",
    "def get_key(num):\n",
    "    for i in range(len(counts)):\n",
    "        if num < counts.iloc[i]:\n",
    "            return keys[i]\n",
    "    return keys[len(keys)-1]\n",
    "\n",
    "new_data_with_key_filled_in = raw_data['key'].apply(lambda x: get_key(random.uniform(0,1)) if pd.isna(x) else x)\n",
    "raw_data['key'] = new_data_with_key_filled_in\n",
    "\n",
    "# print out number of missing values in key column\n",
    "print('after', new_data_with_key_filled_in.value_counts())\n",
    "\n"
   ]
  },
  {
   "cell_type": "code",
   "execution_count": 56,
   "metadata": {},
   "outputs": [
    {
     "data": {
      "image/png": "[encoded data removed]",
      "text/plain": [
       "<Figure size 640x480 with 1 Axes>"
      ]
     },
     "metadata": {},
     "output_type": "display_data"
    },
    {
     "data": {
      "text/plain": [
       "count   953.00\n",
       "mean    122.40\n",
       "std      27.98\n",
       "min      65.00\n",
       "25%      99.00\n",
       "50%     120.00\n",
       "75%     140.00\n",
       "max     206.00\n",
       "Name: bpm, dtype: float64"
      ]
     },
     "execution_count": 56,
     "metadata": {},
     "output_type": "execute_result"
    }
   ],
   "source": [
    "'''Explore BPM data'''\n",
    "\n",
    "\n",
    "raw_data.boxplot(column='bpm', vert=False)\n",
    "plt.show()\n",
    "raw_data['bpm'].describe()"
   ]
  },
  {
   "cell_type": "code",
   "execution_count": 57,
   "metadata": {},
   "outputs": [
    {
     "data": {
      "image/png": "[encoded data removed]",
      "text/plain": [
       "<Figure size 640x480 with 1 Axes>"
      ]
     },
     "metadata": {},
     "output_type": "display_data"
    },
    {
     "data": {
      "text/plain": [
       "count   953.00\n",
       "mean     66.97\n",
       "std      14.63\n",
       "min      23.00\n",
       "25%      57.00\n",
       "50%      69.00\n",
       "75%      78.00\n",
       "max      96.00\n",
       "Name: danceability_%, dtype: float64"
      ]
     },
     "execution_count": 57,
     "metadata": {},
     "output_type": "execute_result"
    }
   ],
   "source": [
    "raw_data['danceability_%'].plot(kind='hist', title='Distribution by key')\n",
    "plt.show()\n",
    "raw_data['danceability_%'].describe()"
   ]
  },
  {
   "cell_type": "markdown",
   "metadata": {},
   "source": [
    "Part 2: Feature Engineering"
   ]
  },
  {
   "cell_type": "code",
   "execution_count": 58,
   "metadata": {},
   "outputs": [
    {
     "name": "stdout",
     "output_type": "stream",
     "text": [
      "Correlation between Streams and Apple Charts: 0.3829483122725129\n",
      "Correlation between Apple Playlists and Apple Charts: 0.41452330571208174\n"
     ]
    }
   ],
   "source": [
    "correlation = raw_data['average_streams_per_year'].corr(raw_data['in_apple_charts'])\n",
    "correlation2 = raw_data['in_apple_playlists'].corr(raw_data['in_apple_charts'])\n",
    "print(\"Correlation between Streams and Apple Charts:\", correlation)\n",
    "print(\"Correlation between Apple Playlists and Apple Charts:\", correlation2)\n",
    "#Justification of why we chose apple specifically, isn't soley based off streams/how many playlists have it"
   ]
  },
  {
   "cell_type": "code",
   "execution_count": 187,
   "metadata": {},
   "outputs": [],
   "source": [
    "# Drop data that doesn't matter to us or that we have already processed into a seperate feature or that doesn't matter to us (avg_streams_per_year) \n",
    "# because we have total streams and years since release\n",
    "useable_data = raw_data.copy()\n",
    "useable_data.drop(['in_shazam_charts','released_day', 'released_month', 'track_name', 'artist(s)_name','artist_count','bpm', \n",
    "'in_spotify_charts', 'in_apple_charts', 'in_deezer_charts', 'in_deezer_playlists'], axis=1, inplace=True)\n"
   ]
  },
  {
   "cell_type": "code",
   "execution_count": 60,
   "metadata": {},
   "outputs": [],
   "source": [
    "#useable_data.to_csv('my_data.csv', index=False) # sanity check to get an overview of the data"
   ]
  },
  {
   "cell_type": "markdown",
   "metadata": {},
   "source": [
    "Part 3: Classification"
   ]
  },
  {
   "cell_type": "code",
   "execution_count": 61,
   "metadata": {},
   "outputs": [
    {
     "name": "stdout",
     "output_type": "stream",
     "text": [
      "   released_year  in_spotify_playlists    streams  in_apple_playlists key  \\\n",
      "0           2023                   553  141381703                  43   B   \n",
      "1           2023                  1474  133716286                  48  C#   \n",
      "2           2023                  1397  140003974                  94   F   \n",
      "3           2019                  7858  800840817                 116   A   \n",
      "4           2023                  3133  303236322                  84   A   \n",
      "\n",
      "    mode  danceability_%  valence_%  energy_%  acousticness_%  \\\n",
      "0  Major              80         89        83              31   \n",
      "1  Major              71         61        74               7   \n",
      "2  Major              51         32        53              17   \n",
      "3  Major              55         58        72              11   \n",
      "4  Minor              65         23        80              14   \n",
      "\n",
      "   instrumentalness_%  liveness_%  speechiness_%  season bpm_category  \\\n",
      "0                   0           8              4  summer            2   \n",
      "1                   0          10              4  spring            1   \n",
      "2                   0          31              6  summer            3   \n",
      "3                   0          11             15  summer            3   \n",
      "4                  63          11              6  spring            3   \n",
      "\n",
      "   charted_on_spotify  \n",
      "0                True  \n",
      "1                True  \n",
      "2                True  \n",
      "3                True  \n",
      "4                True  \n"
     ]
    }
   ],
   "source": [
    "#Picking features for our classification problem\n",
    "classification_data = useable_data.copy()\n",
    "classification_labels_data = classification_data['class_label_apple_chart_category'].copy()\n",
    "classification_data.drop(['class_label_apple_chart_category'], axis=1, inplace=True)\n",
    "\n",
    "\n",
    "print(classification_data.head())\n",
    "# Doesn't do anything because of how standard scaler works\n",
    "# classification_data['released_year'] = abs(classification_data['released_year']-2023)\n",
    "# min_value = classification_data['released_year'].min()\n",
    "# max_value = classification_data['released_year'].max()\n",
    "\n",
    "# print(\"Minimum value in 'Numeric1' column:\", min_value)\n",
    "# print(\"Maximum value in 'Numeric1' column:\", max_value)\n",
    "\n"
   ]
  },
  {
   "cell_type": "code",
   "execution_count": 62,
   "metadata": {},
   "outputs": [
    {
     "name": "stdout",
     "output_type": "stream",
     "text": [
      "['key', 'mode', 'season']\n",
      "    0    1    2    3    4    5    6    7    8    9   ...   18   19   20   21  \\\n",
      "0 1.00 0.01 0.04 0.06 0.78 0.91 0.84 0.32 0.00 0.05  ... 0.00 0.00 0.00 0.00   \n",
      "1 1.00 0.03 0.04 0.07 0.66 0.61 0.74 0.07 0.00 0.07  ... 0.00 0.00 0.00 0.00   \n",
      "2 1.00 0.03 0.04 0.14 0.38 0.30 0.50 0.18 0.00 0.30  ... 1.00 0.00 0.00 0.00   \n",
      "3 0.96 0.15 0.22 0.17 0.44 0.58 0.72 0.11 0.00 0.09  ... 0.00 0.00 0.00 0.00   \n",
      "4 1.00 0.06 0.08 0.12 0.58 0.20 0.81 0.14 0.69 0.09  ... 0.00 0.00 0.00 0.00   \n",
      "\n",
      "    22   23   24   25   26   27  \n",
      "0 1.00 0.00 0.00 0.00 1.00 0.00  \n",
      "1 1.00 0.00 0.00 1.00 0.00 0.00  \n",
      "2 1.00 0.00 0.00 0.00 1.00 0.00  \n",
      "3 1.00 0.00 0.00 0.00 1.00 0.00  \n",
      "4 0.00 1.00 0.00 1.00 0.00 0.00  \n",
      "\n",
      "[5 rows x 28 columns]\n",
      "(953, 28)\n"
     ]
    }
   ],
   "source": [
    "# One hot encoding our data and normalizing our data\n",
    "\n",
    "categorical_cols = list(classification_data.select_dtypes(include=['object']).columns)\n",
    "numeric_cols = list(classification_data.select_dtypes(include=['int64', 'float64']).columns)\n",
    "print(categorical_cols)\n",
    "numeric_pipeline = Pipeline(steps=[\n",
    "    ('scaler', MinMaxScaler(feature_range=(0, 1)))\n",
    "])\n",
    "\n",
    "categorical_pipeline = Pipeline(steps=[\n",
    "    ('onehot', OneHotEncoder(sparse_output=False))  \n",
    "])\n",
    "\n",
    "preprocessor = ColumnTransformer(\n",
    "    transformers=[\n",
    "        ('num', numeric_pipeline, numeric_cols),\n",
    "        ('cat', categorical_pipeline, categorical_cols)\n",
    "    ])\n",
    "\n",
    "processed_data = preprocessor.fit_transform(classification_data)\n",
    "\n",
    "processed_df = pd.DataFrame(processed_data)\n",
    "print(processed_df.head())\n",
    "print(processed_df.shape)\n",
    "processed_df.to_csv('processed_df.csv', index=False) # sanity check to get an overview of the data"
   ]
  },
  {
   "cell_type": "markdown",
   "metadata": {},
   "source": [
    "Decision Trees"
   ]
  },
  {
   "cell_type": "code",
   "execution_count": 63,
   "metadata": {},
   "outputs": [
    {
     "name": "stdout",
     "output_type": "stream",
     "text": [
      "Accuracy on test set: 0.4973821989528796\n",
      "Cross-validation scores: [0.29842932 0.40314136 0.36125654 0.48947368 0.52631579]\n",
      "Mean cross-validation score: 0.41572333976302006\n"
     ]
    }
   ],
   "source": [
    "#Normal Decision Tree\n",
    "from sklearn.model_selection import train_test_split, cross_val_score\n",
    "from sklearn.tree import DecisionTreeClassifier\n",
    "\n",
    "\n",
    "\n",
    "X_train, X_test, y_train, y_test = train_test_split(processed_df, classification_labels_data, test_size=0.2)\n",
    "\n",
    "clf = DecisionTreeClassifier(max_depth=5, min_samples_split=2)\n",
    "clf.fit(X_train, y_train)\n",
    "\n",
    "accuracy = clf.score(X_test, y_test)\n",
    "print(\"Accuracy on test set:\", accuracy)\n",
    "\n",
    "cross_val_scores = cross_val_score(clf, processed_df, classification_labels_data, cv=5)\n",
    "print(\"Cross-validation scores:\", cross_val_scores)\n",
    "print(\"Mean cross-validation score:\", cross_val_scores.mean())\n"
   ]
  },
  {
   "cell_type": "code",
   "execution_count": 64,
   "metadata": {},
   "outputs": [
    {
     "name": "stdout",
     "output_type": "stream",
     "text": [
      "Accuracy on outer test set: 0.5340314136125655\n",
      "Accuracy on outer test set: 0.41361256544502617\n",
      "Accuracy on outer test set: 0.4816753926701571\n",
      "Accuracy on outer test set: 0.4842105263157895\n",
      "Accuracy on outer test set: 0.4842105263157895\n",
      "Best parameters for each outer fold: [{'max_depth': 3, 'min_samples_split': 2}, {'max_depth': 3, 'min_samples_split': 2}, {'max_depth': 3, 'min_samples_split': 2}, {'max_depth': 3, 'min_samples_split': 2}, {'max_depth': 3, 'min_samples_split': 2}]\n"
     ]
    }
   ],
   "source": [
    "# Decision Tree with Nested CV\n",
    "\n",
    "from sklearn.model_selection import GridSearchCV, cross_val_score, KFold\n",
    "from sklearn.tree import DecisionTreeClassifier\n",
    "import numpy as np\n",
    "\n",
    "param_grid = {\n",
    "    'max_depth': [3, 5, 7, 9],\n",
    "    'min_samples_split': [2, 5, 10]\n",
    "}\n",
    "\n",
    "outer_cv = KFold(n_splits=5, shuffle=True)\n",
    "inner_cv = KFold(n_splits=3, shuffle=True)\n",
    "\n",
    "best_params = []\n",
    "\n",
    "for train_index, test_index in outer_cv.split(processed_df):\n",
    "    X_train_outer, X_test_outer = processed_df.iloc[train_index], processed_df.iloc[test_index]\n",
    "    y_train_outer, y_test_outer = classification_labels_data.iloc[train_index], classification_labels_data.iloc[test_index]\n",
    "\n",
    "    clf = GridSearchCV(DecisionTreeClassifier(), param_grid, cv=inner_cv)\n",
    "    clf.fit(X_train_outer, y_train_outer)\n",
    "\n",
    "    best_params.append(clf.best_params_)\n",
    "\n",
    "    accuracy = clf.score(X_test_outer, y_test_outer)\n",
    "    print(\"Accuracy on outer test set:\", accuracy)\n",
    "\n",
    "print(\"Best parameters for each outer fold:\", best_params)"
   ]
  },
  {
   "cell_type": "code",
   "execution_count": 65,
   "metadata": {},
   "outputs": [
    {
     "name": "stdout",
     "output_type": "stream",
     "text": [
      "Best parameters: {'max_depth': 3, 'min_samples_split': 2}\n",
      "Best cross-validation score: 0.4209644530173602\n"
     ]
    }
   ],
   "source": [
    "from sklearn.model_selection import GridSearchCV\n",
    "from sklearn.tree import DecisionTreeClassifier\n",
    "\n",
    "param_grid = {\n",
    "    'max_depth': [3, 5, 7, 9],\n",
    "    'min_samples_split': [2, 5, 10]\n",
    "}\n",
    "\n",
    "clf = DecisionTreeClassifier()\n",
    "\n",
    "grid_search = GridSearchCV(clf, param_grid, cv=5)\n",
    "grid_search.fit(processed_df, classification_labels_data)\n",
    "\n",
    "best_params = grid_search.best_params_\n",
    "best_score = grid_search.best_score_\n",
    "\n",
    "print(\"Best parameters:\", best_params)\n",
    "print(\"Best cross-validation score:\", best_score)"
   ]
  },
  {
   "cell_type": "code",
   "execution_count": 66,
   "metadata": {},
   "outputs": [
    {
     "name": "stdout",
     "output_type": "stream",
     "text": [
      "Accuracy on test set: 0.5026178010471204\n",
      "Cross-validation scores: [0.42408377 0.42931937 0.40837696 0.48421053 0.48947368]\n",
      "Mean cross-validation score: 0.4470928630476716\n"
     ]
    }
   ],
   "source": [
    "#Random Forest Ensemble\n",
    "from sklearn.ensemble import RandomForestClassifier\n",
    "\n",
    "\n",
    "X_train, X_test, y_train, y_test = train_test_split(processed_df, classification_labels_data, test_size=0.2)\n",
    "clf = RandomForestClassifier(n_estimators=1000)\n",
    "clf.fit(X_train, y_train)\n",
    "\n",
    "accuracy = clf.score(X_test, y_test)\n",
    "print(\"Accuracy on test set:\", accuracy)\n",
    "\n",
    "cross_val_scores = cross_val_score(clf, processed_df, classification_labels_data, cv=5)\n",
    "print(\"Cross-validation scores:\", cross_val_scores)\n",
    "print(\"Mean cross-validation score:\", cross_val_scores.mean())\n"
   ]
  },
  {
   "cell_type": "code",
   "execution_count": 67,
   "metadata": {},
   "outputs": [
    {
     "name": "stdout",
     "output_type": "stream",
     "text": [
      "Accuracy on test set: 0.33507853403141363\n",
      "Cross-validation scores: [0.32460733 0.46073298 0.30890052 0.49473684 0.52105263]\n",
      "Mean cross-validation score: 0.4220060622761091\n"
     ]
    }
   ],
   "source": [
    "# AdaBoosting\n",
    "from sklearn.ensemble import AdaBoostClassifier\n",
    "from sklearn.model_selection import train_test_split, cross_val_score\n",
    "\n",
    "X_train, X_test, y_train, y_test = train_test_split(processed_df, classification_labels_data, test_size=0.2)\n",
    "\n",
    "clf = AdaBoostClassifier(n_estimators=10)\n",
    "clf.fit(X_train, y_train)\n",
    "\n",
    "accuracy = clf.score(X_test, y_test)\n",
    "print(\"Accuracy on test set:\", accuracy)\n",
    "\n",
    "cross_val_scores = cross_val_score(clf, processed_df, classification_labels_data, cv=5)\n",
    "print(\"Cross-validation scores:\", cross_val_scores)\n",
    "print(\"Mean cross-validation score:\", cross_val_scores.mean())\n"
   ]
  },
  {
   "cell_type": "code",
   "execution_count": 68,
   "metadata": {},
   "outputs": [
    {
     "name": "stdout",
     "output_type": "stream",
     "text": [
      "Accuracy on test set: 0.42408376963350786\n",
      "Cross-validation scores: [0.37696335 0.45026178 0.35602094 0.44736842 0.52105263]\n",
      "Mean cross-validation score: 0.4303334251860017\n"
     ]
    }
   ],
   "source": [
    "# Gradient Boosing\n",
    "from sklearn.ensemble import GradientBoostingClassifier\n",
    "from sklearn.model_selection import train_test_split, cross_val_score\n",
    "\n",
    "X_train, X_test, y_train, y_test = train_test_split(processed_df, classification_labels_data, test_size=0.2)\n",
    "\n",
    "clf = GradientBoostingClassifier(n_estimators=25)\n",
    "clf.fit(X_train, y_train)\n",
    "\n",
    "accuracy = clf.score(X_test, y_test)\n",
    "print(\"Accuracy on test set:\", accuracy)\n",
    "\n",
    "cross_val_scores = cross_val_score(clf, processed_df, classification_labels_data, cv=5)\n",
    "print(\"Cross-validation scores:\", cross_val_scores)\n",
    "print(\"Mean cross-validation score:\", cross_val_scores.mean())\n"
   ]
  },
  {
   "cell_type": "code",
   "execution_count": 69,
   "metadata": {},
   "outputs": [
    {
     "name": "stdout",
     "output_type": "stream",
     "text": [
      "Accuracy on test set: 0.44502617801047123\n",
      "Cross-validation scores: [0.37172775 0.39267016 0.37172775 0.41052632 0.48421053]\n",
      "Mean cross-validation score: 0.406172499311105\n"
     ]
    }
   ],
   "source": [
    "from sklearn.ensemble import BaggingClassifier\n",
    "from sklearn.tree import DecisionTreeClassifier\n",
    "from sklearn.model_selection import train_test_split, cross_val_score\n",
    "\n",
    "X_train, X_test, y_train, y_test = train_test_split(processed_df, classification_labels_data, test_size=0.2)\n",
    "\n",
    "# Using DecisionTreeClassifier as the base estimator for Bagging\n",
    "tree = DecisionTreeClassifier()\n",
    "\n",
    "clf = BaggingClassifier(estimator=tree, n_estimators=25)\n",
    "clf.fit(X_train, y_train)\n",
    "\n",
    "accuracy = clf.score(X_test, y_test)\n",
    "print(\"Accuracy on test set:\", accuracy)\n",
    "\n",
    "cross_val_scores = cross_val_score(clf, processed_df, classification_labels_data, cv=5)\n",
    "print(\"Cross-validation scores:\", cross_val_scores)\n",
    "print(\"Mean cross-validation score:\", cross_val_scores.mean())\n"
   ]
  },
  {
   "cell_type": "code",
   "execution_count": 70,
   "metadata": {},
   "outputs": [
    {
     "name": "stdout",
     "output_type": "stream",
     "text": [
      "Accuracy on test set: 0.4607329842931937\n",
      "Cross-validation scores: [0.32984293 0.38219895 0.39267016 0.44210526 0.43684211]\n",
      "Mean cross-validation score: 0.39673188206117393\n"
     ]
    }
   ],
   "source": [
    "from sklearn.ensemble import ExtraTreesClassifier\n",
    "from sklearn.model_selection import train_test_split, cross_val_score\n",
    "\n",
    "X_train, X_test, y_train, y_test = train_test_split(processed_df, classification_labels_data, test_size=0.2)\n",
    "clf = ExtraTreesClassifier(n_estimators=25)\n",
    "clf.fit(X_train, y_train)\n",
    "\n",
    "accuracy = clf.score(X_test, y_test)\n",
    "print(\"Accuracy on test set:\", accuracy)\n",
    "\n",
    "cross_val_scores = cross_val_score(clf, processed_df, classification_labels_data, cv=5)\n",
    "print(\"Cross-validation scores:\", cross_val_scores)\n",
    "print(\"Mean cross-validation score:\", cross_val_scores.mean())\n"
   ]
  },
  {
   "cell_type": "markdown",
   "metadata": {},
   "source": [
    "Other Classification methods"
   ]
  },
  {
   "cell_type": "code",
   "execution_count": 71,
   "metadata": {},
   "outputs": [
    {
     "name": "stdout",
     "output_type": "stream",
     "text": [
      "Accuracy on test set: 0.4031413612565445\n"
     ]
    }
   ],
   "source": [
    "from sklearn.neural_network import MLPClassifier\n",
    "from sklearn.model_selection import train_test_split, cross_val_score\n",
    "\n",
    "X_train, X_test, y_train, y_test = train_test_split(processed_df, classification_labels_data, test_size=0.2)\n",
    "\n",
    "clf = MLPClassifier(hidden_layer_sizes=(1000, ), max_iter=10000) \n",
    "\n",
    "clf.fit(X_train, y_train)\n",
    "\n",
    "accuracy = clf.score(X_test, y_test)\n",
    "print(\"Accuracy on test set:\", accuracy)\n",
    "\n",
    "# cross_val_scores = cross_val_score(clf, processed_df, classification_labels_data, cv=5)\n",
    "# print(\"Cross-validation scores:\", cross_val_scores)\n",
    "# print(\"Mean cross-validation score:\", cross_val_scores.mean())\n"
   ]
  },
  {
   "cell_type": "code",
   "execution_count": 72,
   "metadata": {},
   "outputs": [
    {
     "name": "stdout",
     "output_type": "stream",
     "text": [
      "Accuracy on outer test set: 0.4031413612565445\n",
      "Accuracy on outer test set: 0.41361256544502617\n",
      "Accuracy on outer test set: 0.36649214659685864\n",
      "Accuracy on outer test set: 0.38421052631578945\n",
      "Accuracy on outer test set: 0.4052631578947368\n",
      "Best parameters for each outer fold: [{'hidden_layer_sizes': (50,), 'max_iter': 1000}, {'hidden_layer_sizes': (50,), 'max_iter': 1000}, {'hidden_layer_sizes': (500,), 'max_iter': 5000}, {'hidden_layer_sizes': (50,), 'max_iter': 1000}, {'hidden_layer_sizes': (500,), 'max_iter': 10000}]\n"
     ]
    }
   ],
   "source": [
    "from sklearn.neural_network import MLPClassifier\n",
    "from sklearn.model_selection import GridSearchCV, KFold, cross_val_score, train_test_split\n",
    "\n",
    "param_grid = {\n",
    "    'hidden_layer_sizes': [(50,), (100,), (500,), (1000,)],\n",
    "    'max_iter': [1000, 5000, 10000]\n",
    "}\n",
    "\n",
    "outer_cv = KFold(n_splits=5, shuffle=True)\n",
    "inner_cv = KFold(n_splits=3, shuffle=True)\n",
    "\n",
    "best_params = []\n",
    "\n",
    "for train_index, test_index in outer_cv.split(processed_df):\n",
    "    X_train_outer, X_test_outer = processed_df.iloc[train_index], processed_df.iloc[test_index]\n",
    "    y_train_outer, y_test_outer = classification_labels_data.iloc[train_index], classification_labels_data.iloc[test_index]\n",
    "\n",
    "    clf = GridSearchCV(MLPClassifier(), param_grid, cv=inner_cv)\n",
    "    clf.fit(X_train_outer, y_train_outer)\n",
    "\n",
    "    best_params.append(clf.best_params_)\n",
    "\n",
    "    accuracy = clf.score(X_test_outer, y_test_outer)\n",
    "    print(\"Accuracy on outer test set:\", accuracy)\n",
    "\n",
    "print(\"Best parameters for each outer fold:\", best_params)"
   ]
  },
  {
   "cell_type": "code",
   "execution_count": 73,
   "metadata": {},
   "outputs": [
    {
     "name": "stdout",
     "output_type": "stream",
     "text": [
      "Best parameters: {'hidden_layer_sizes': (50,), 'max_iter': 10000}\n",
      "Best cross-validation score: 0.436936704506364\n",
      "Accuracy on test set with best parameters: 0.39267015706806285\n"
     ]
    }
   ],
   "source": [
    "from sklearn.neural_network import MLPClassifier\n",
    "from sklearn.model_selection import GridSearchCV, train_test_split\n",
    "\n",
    "param_grid = {\n",
    "    'hidden_layer_sizes': [(50,), (100,), (500,), (1000,)],\n",
    "    'max_iter': [1000, 5000, 10000]\n",
    "}\n",
    "\n",
    "X_train, X_test, y_train, y_test = train_test_split(processed_df, classification_labels_data, test_size=0.2)\n",
    "\n",
    "clf = GridSearchCV(MLPClassifier(), param_grid, cv=5)\n",
    "clf.fit(X_train, y_train)\n",
    "\n",
    "best_params = clf.best_params_\n",
    "best_score = clf.best_score_\n",
    "\n",
    "accuracy = clf.score(X_test, y_test)\n",
    "print(\"Best parameters:\", best_params)\n",
    "print(\"Best cross-validation score:\", best_score)\n",
    "print(\"Accuracy on test set with best parameters:\", accuracy)"
   ]
  },
  {
   "cell_type": "markdown",
   "metadata": {},
   "source": [
    "PCA for SVM and KNN"
   ]
  },
  {
   "cell_type": "code",
   "execution_count": 74,
   "metadata": {},
   "outputs": [
    {
     "name": "stdout",
     "output_type": "stream",
     "text": [
      "     0     1     2     3     4     5     6     7     8     9     10\n",
      "0 -0.52 -0.02  0.38  0.88 -0.14 -0.01 -0.54 -0.21 -0.44  0.66 -0.08\n",
      "1 -0.59 -0.71 -0.41  0.02  0.92  0.02  0.02 -0.13  0.04 -0.03  0.08\n",
      "2 -0.58  0.05  0.37  0.84 -0.29 -0.53  0.52 -0.48  0.15  0.14 -0.08\n",
      "3 -0.59  0.04  0.38  0.88 -0.17 -0.03  0.13  0.32 -0.24 -0.00  0.79\n",
      "4  0.80 -0.76 -0.27 -0.08 -0.12 -0.02  0.23  0.43 -0.20 -0.05  0.80\n",
      "(953, 11)\n",
      "(953, 28)\n"
     ]
    }
   ],
   "source": [
    "from sklearn.decomposition import PCA\n",
    "\n",
    "\n",
    "pca = PCA(n_components=.8)\n",
    "processed_df_pca = pca.fit_transform(processed_df)\n",
    "print(pd.DataFrame(processed_df_pca).head())\n",
    "print(processed_df_pca.shape)\n",
    "print(processed_df.shape)\n",
    "#pca only for svm and knn "
   ]
  },
  {
   "cell_type": "code",
   "execution_count": 75,
   "metadata": {},
   "outputs": [
    {
     "name": "stdout",
     "output_type": "stream",
     "text": [
      "Accuracy on test set with distance weighting: 0.32460732984293195\n",
      "Cross-validation scores with distance weighting: [0.36125654 0.31937173 0.32984293 0.29473684 0.33684211]\n",
      "Mean cross-validation score with distance weighting: 0.3284100303113805\n"
     ]
    }
   ],
   "source": [
    "\n",
    "from sklearn.neighbors import KNeighborsClassifier\n",
    "X_train, X_test, y_train, y_test = train_test_split(processed_df_pca, classification_labels_data, test_size=0.2)\n",
    "\n",
    "\n",
    "clf = KNeighborsClassifier(weights='distance')  \n",
    "\n",
    "clf.fit(X_train, y_train)\n",
    "\n",
    "accuracy = clf.score(X_test, y_test)\n",
    "print(\"Accuracy on test set with distance weighting:\", accuracy)\n",
    "\n",
    "cross_val_scores = cross_val_score(clf, processed_df_pca, classification_labels_data, cv=5)\n",
    "print(\"Cross-validation scores with distance weighting:\", cross_val_scores)\n",
    "print(\"Mean cross-validation score with distance weighting:\", cross_val_scores.mean())\n"
   ]
  },
  {
   "cell_type": "code",
   "execution_count": 76,
   "metadata": {},
   "outputs": [
    {
     "name": "stdout",
     "output_type": "stream",
     "text": [
      "Accuracy on outer test set: 0.45751633986928103\n",
      "Accuracy on outer test set: 0.35294117647058826\n",
      "Accuracy on outer test set: 0.42105263157894735\n",
      "Accuracy on outer test set: 0.42105263157894735\n",
      "Accuracy on outer test set: 0.4605263157894737\n",
      "Best parameters for each outer fold: [{'n_neighbors': 9, 'weights': 'uniform'}, {'n_neighbors': 11, 'weights': 'uniform'}, {'n_neighbors': 9, 'weights': 'uniform'}, {'n_neighbors': 9, 'weights': 'uniform'}, {'n_neighbors': 11, 'weights': 'uniform'}]\n"
     ]
    }
   ],
   "source": [
    "from sklearn.model_selection import GridSearchCV, KFold, cross_val_score, train_test_split\n",
    "from sklearn.neighbors import KNeighborsClassifier\n",
    "\n",
    "param_grid = {\n",
    "    'n_neighbors': [3, 5, 7, 9, 11],\n",
    "    'weights': ['uniform', 'distance']\n",
    "}\n",
    "\n",
    "X_train, X_test, y_train, y_test = train_test_split(processed_df_pca, classification_labels_data, test_size=0.2)\n",
    "\n",
    "outer_cv = KFold(n_splits=5, shuffle=True)\n",
    "inner_cv = KFold(n_splits=3, shuffle=True)\n",
    "\n",
    "best_params = []\n",
    "\n",
    "for train_index, test_index in outer_cv.split(X_train):\n",
    "    X_train_outer, X_test_outer = X_train[train_index], X_train[test_index]\n",
    "    y_train_outer, y_test_outer = y_train.iloc[train_index], y_train.iloc[test_index]\n",
    "\n",
    "    clf = GridSearchCV(KNeighborsClassifier(), param_grid, cv=inner_cv)\n",
    "    clf.fit(X_train_outer, y_train_outer)\n",
    "\n",
    "    best_params.append(clf.best_params_)\n",
    "\n",
    "    accuracy = clf.score(X_test_outer, y_test_outer)\n",
    "    print(\"Accuracy on outer test set:\", accuracy)\n",
    "\n",
    "print(\"Best parameters for each outer fold:\", best_params)"
   ]
  },
  {
   "cell_type": "code",
   "execution_count": 77,
   "metadata": {},
   "outputs": [
    {
     "name": "stdout",
     "output_type": "stream",
     "text": [
      "Best parameters: {'n_neighbors': 11, 'weights': 'uniform'}\n",
      "Best cross-validation score: 0.4019271339668935\n"
     ]
    }
   ],
   "source": [
    "from sklearn.model_selection import GridSearchCV\n",
    "from sklearn.neighbors import KNeighborsClassifier\n",
    "\n",
    "param_grid = {\n",
    "    'n_neighbors': [3, 5, 7, 9, 11],\n",
    "    'weights': ['uniform', 'distance']\n",
    "}\n",
    "\n",
    "clf = GridSearchCV(KNeighborsClassifier(), param_grid, cv=3)  # Perform grid search with 3-fold cross-validation\n",
    "clf.fit(processed_df_pca, classification_labels_data)\n",
    "\n",
    "best_params = clf.best_params_\n",
    "best_score = clf.best_score_\n",
    "\n",
    "print(\"Best parameters:\", best_params)\n",
    "print(\"Best cross-validation score:\", best_score)"
   ]
  },
  {
   "cell_type": "code",
   "execution_count": 188,
   "metadata": {},
   "outputs": [
    {
     "name": "stdout",
     "output_type": "stream",
     "text": [
      "Accuracy on test set: 0.4973821989528796\n",
      "Cross-validation scores: [0.45549738 0.40837696 0.47643979 0.43157895 0.47894737]\n",
      "Mean cross-validation score: 0.45016809038302563\n"
     ]
    }
   ],
   "source": [
    "from sklearn.svm import SVC\n",
    "from sklearn.model_selection import train_test_split, cross_val_score\n",
    "\n",
    "X_train, X_test, y_train, y_test = train_test_split(processed_df_pca, classification_labels_data, test_size=0.2)\n",
    "\n",
    "clf = SVC(kernel='rbf')\n",
    "\n",
    "clf.fit(X_train, y_train)\n",
    "\n",
    "accuracy = clf.score(X_test, y_test)\n",
    "print(\"Accuracy on test set:\", accuracy)\n",
    "\n",
    "cross_val_scores = cross_val_score(clf, processed_df_pca, classification_labels_data, cv=5)\n",
    "print(\"Cross-validation scores:\", cross_val_scores)\n",
    "print(\"Mean cross-validation score:\", cross_val_scores.mean())\n"
   ]
  },
  {
   "cell_type": "code",
   "execution_count": 79,
   "metadata": {},
   "outputs": [
    {
     "name": "stdout",
     "output_type": "stream",
     "text": [
      "Accuracy on outer test set: 0.45751633986928103\n",
      "Accuracy on outer test set: 0.45751633986928103\n",
      "Accuracy on outer test set: 0.4407894736842105\n",
      "Accuracy on outer test set: 0.4605263157894737\n",
      "Accuracy on outer test set: 0.46710526315789475\n",
      "Best parameters for each outer fold: [{'C': 0.1, 'gamma': 0.1, 'kernel': 'linear'}, {'C': 0.1, 'gamma': 0.1, 'kernel': 'linear'}, {'C': 0.1, 'gamma': 0.1, 'kernel': 'linear'}, {'C': 0.1, 'gamma': 0.1, 'kernel': 'linear'}, {'C': 0.1, 'gamma': 0.1, 'kernel': 'linear'}]\n"
     ]
    }
   ],
   "source": [
    "from sklearn.model_selection import GridSearchCV, KFold, train_test_split\n",
    "from sklearn.svm import SVC\n",
    "\n",
    "param_grid = {\n",
    "    'C': [0.1, 1, 10],\n",
    "    'gamma': [0.1, 1, 'scale'],\n",
    "    'kernel': ['linear', 'rbf', 'poly']\n",
    "}\n",
    "\n",
    "X_train, X_test, y_train, y_test = train_test_split(processed_df_pca, classification_labels_data, test_size=0.2)\n",
    "\n",
    "outer_cv = KFold(n_splits=5, shuffle=True)\n",
    "inner_cv = KFold(n_splits=3, shuffle=True)\n",
    "\n",
    "best_params = []\n",
    "\n",
    "for train_index, test_index in outer_cv.split(X_train):\n",
    "    X_train_outer, X_test_outer = X_train[train_index], X_train[test_index]\n",
    "    y_train_outer, y_test_outer = y_train.iloc[train_index], y_train.iloc[test_index]\n",
    "\n",
    "    clf = GridSearchCV(SVC(), param_grid, cv=inner_cv)\n",
    "    clf.fit(X_train_outer, y_train_outer)\n",
    "\n",
    "    best_params.append(clf.best_params_)\n",
    "\n",
    "    accuracy = clf.score(X_test_outer, y_test_outer)\n",
    "    print(\"Accuracy on outer test set:\", accuracy)\n",
    "\n",
    "print(\"Best parameters for each outer fold:\", best_params)"
   ]
  },
  {
   "cell_type": "code",
   "execution_count": 80,
   "metadata": {},
   "outputs": [
    {
     "name": "stdout",
     "output_type": "stream",
     "text": [
      "Best parameters: {'C': 0.1, 'gamma': 0.1, 'kernel': 'linear'}\n",
      "Best cross-validation score: 0.46066041042530537\n"
     ]
    }
   ],
   "source": [
    "from sklearn.model_selection import GridSearchCV, KFold\n",
    "from sklearn.svm import SVC\n",
    "\n",
    "param_grid = {\n",
    "    'C': [0.1, 1, 10],\n",
    "    'gamma': [0.1, 1, 'scale'],\n",
    "    'kernel': ['linear', 'rbf', 'poly']\n",
    "}\n",
    "\n",
    "outer_cv = KFold(n_splits=5, shuffle=True)\n",
    "inner_cv = KFold(n_splits=3, shuffle=True)\n",
    "\n",
    "clf = GridSearchCV(SVC(), param_grid, cv=inner_cv)\n",
    "clf.fit(processed_df_pca, classification_labels_data)\n",
    "\n",
    "best_params = clf.best_params_\n",
    "best_score = clf.best_score_\n",
    "\n",
    "print(\"Best parameters:\", best_params)\n",
    "print(\"Best cross-validation score:\", best_score)"
   ]
  },
  {
   "cell_type": "markdown",
   "metadata": {},
   "source": [
    "Goal 2 "
   ]
  },
  {
   "cell_type": "code",
   "execution_count": 197,
   "metadata": {},
   "outputs": [
    {
     "name": "stdout",
     "output_type": "stream",
     "text": [
      "<class 'pandas.core.series.Series'>\n"
     ]
    }
   ],
   "source": [
    "#Picking features for our regression problem\n",
    "regression_data = useable_data.copy()\n",
    "regression_labels_data = regression_data['stream_ranking'].copy()\n",
    "regression_data.drop(['in_spotify_playlists', 'average_streams_per_year', 'stream_ranking', 'in_apple_playlists','class_label_apple_chart_category'], axis=1, inplace=True)\n",
    "\n",
    "\n",
    "print(type(regression_labels_data))\n",
    "regression_data.to_csv('reg_data.csv', index=False) # sanity check to get an overview of the data\n",
    "\n",
    "\n"
   ]
  },
  {
   "cell_type": "code",
   "execution_count": 207,
   "metadata": {},
   "outputs": [
    {
     "name": "stdout",
     "output_type": "stream",
     "text": [
      "['key', 'mode', 'season']\n",
      "    0    1    2    3    4    5    6    7    8    9   ...   16   17   18   19  \\\n",
      "0 1.00 0.04 0.78 0.91 0.84 0.32 0.00 0.05 0.03 0.00  ... 0.00 0.00 0.00 0.00   \n",
      "1 1.00 0.04 0.66 0.61 0.74 0.07 0.00 0.07 0.03 0.00  ... 0.00 0.00 0.00 0.00   \n",
      "2 1.00 0.04 0.38 0.30 0.50 0.18 0.00 0.30 0.06 0.00  ... 1.00 0.00 0.00 0.00   \n",
      "3 0.96 0.22 0.44 0.58 0.72 0.11 0.00 0.09 0.21 1.00  ... 0.00 0.00 0.00 0.00   \n",
      "4 1.00 0.08 0.58 0.20 0.81 0.14 0.69 0.09 0.06 1.00  ... 0.00 0.00 0.00 0.00   \n",
      "\n",
      "    20   21   22   23   24   25  \n",
      "0 1.00 0.00 0.00 0.00 1.00 0.00  \n",
      "1 1.00 0.00 0.00 1.00 0.00 0.00  \n",
      "2 1.00 0.00 0.00 0.00 1.00 0.00  \n",
      "3 1.00 0.00 0.00 0.00 1.00 0.00  \n",
      "4 0.00 1.00 0.00 1.00 0.00 0.00  \n",
      "\n",
      "[5 rows x 26 columns]\n",
      "(953, 26)\n"
     ]
    },
    {
     "ename": "PermissionError",
     "evalue": "[Errno 13] Permission denied: 'processed_reg_df.csv'",
     "output_type": "error",
     "traceback": [
      "\u001b[1;31m---------------------------------------------------------------------------\u001b[0m",
      "\u001b[1;31mPermissionError\u001b[0m                           Traceback (most recent call last)",
      "\u001b[1;32mc:\\Users\\amana\\Downloads\\ML\\ML-Project\\ml_project.ipynb Cell 50\u001b[0m line \u001b[0;36m2\n\u001b[0;32m     <a href='vscode-notebook-cell:/c%3A/Users/amana/Downloads/ML/ML-Project/ml_project.ipynb#Y102sZmlsZQ%3D%3D?line=22'>23</a>\u001b[0m \u001b[39mprint\u001b[39m(processed_reg_df\u001b[39m.\u001b[39mhead())\n\u001b[0;32m     <a href='vscode-notebook-cell:/c%3A/Users/amana/Downloads/ML/ML-Project/ml_project.ipynb#Y102sZmlsZQ%3D%3D?line=23'>24</a>\u001b[0m \u001b[39mprint\u001b[39m(processed_reg_df\u001b[39m.\u001b[39mshape)\n\u001b[1;32m---> <a href='vscode-notebook-cell:/c%3A/Users/amana/Downloads/ML/ML-Project/ml_project.ipynb#Y102sZmlsZQ%3D%3D?line=24'>25</a>\u001b[0m processed_reg_df\u001b[39m.\u001b[39;49mto_csv(\u001b[39m'\u001b[39;49m\u001b[39mprocessed_reg_df.csv\u001b[39;49m\u001b[39m'\u001b[39;49m, index\u001b[39m=\u001b[39;49m\u001b[39mFalse\u001b[39;49;00m) \u001b[39m# sanity check to get an overview of the data\u001b[39;00m\n",
      "File \u001b[1;32m~\\AppData\\Local\\Packages\\PythonSoftwareFoundation.Python.3.11_qbz5n2kfra8p0\\LocalCache\\local-packages\\Python311\\site-packages\\pandas\\core\\generic.py:3902\u001b[0m, in \u001b[0;36mNDFrame.to_csv\u001b[1;34m(self, path_or_buf, sep, na_rep, float_format, columns, header, index, index_label, mode, encoding, compression, quoting, quotechar, lineterminator, chunksize, date_format, doublequote, escapechar, decimal, errors, storage_options)\u001b[0m\n\u001b[0;32m   3891\u001b[0m df \u001b[39m=\u001b[39m \u001b[39mself\u001b[39m \u001b[39mif\u001b[39;00m \u001b[39misinstance\u001b[39m(\u001b[39mself\u001b[39m, ABCDataFrame) \u001b[39melse\u001b[39;00m \u001b[39mself\u001b[39m\u001b[39m.\u001b[39mto_frame()\n\u001b[0;32m   3893\u001b[0m formatter \u001b[39m=\u001b[39m DataFrameFormatter(\n\u001b[0;32m   3894\u001b[0m     frame\u001b[39m=\u001b[39mdf,\n\u001b[0;32m   3895\u001b[0m     header\u001b[39m=\u001b[39mheader,\n\u001b[1;32m   (...)\u001b[0m\n\u001b[0;32m   3899\u001b[0m     decimal\u001b[39m=\u001b[39mdecimal,\n\u001b[0;32m   3900\u001b[0m )\n\u001b[1;32m-> 3902\u001b[0m \u001b[39mreturn\u001b[39;00m DataFrameRenderer(formatter)\u001b[39m.\u001b[39;49mto_csv(\n\u001b[0;32m   3903\u001b[0m     path_or_buf,\n\u001b[0;32m   3904\u001b[0m     lineterminator\u001b[39m=\u001b[39;49mlineterminator,\n\u001b[0;32m   3905\u001b[0m     sep\u001b[39m=\u001b[39;49msep,\n\u001b[0;32m   3906\u001b[0m     encoding\u001b[39m=\u001b[39;49mencoding,\n\u001b[0;32m   3907\u001b[0m     errors\u001b[39m=\u001b[39;49merrors,\n\u001b[0;32m   3908\u001b[0m     compression\u001b[39m=\u001b[39;49mcompression,\n\u001b[0;32m   3909\u001b[0m     quoting\u001b[39m=\u001b[39;49mquoting,\n\u001b[0;32m   3910\u001b[0m     columns\u001b[39m=\u001b[39;49mcolumns,\n\u001b[0;32m   3911\u001b[0m     index_label\u001b[39m=\u001b[39;49mindex_label,\n\u001b[0;32m   3912\u001b[0m     mode\u001b[39m=\u001b[39;49mmode,\n\u001b[0;32m   3913\u001b[0m     chunksize\u001b[39m=\u001b[39;49mchunksize,\n\u001b[0;32m   3914\u001b[0m     quotechar\u001b[39m=\u001b[39;49mquotechar,\n\u001b[0;32m   3915\u001b[0m     date_format\u001b[39m=\u001b[39;49mdate_format,\n\u001b[0;32m   3916\u001b[0m     doublequote\u001b[39m=\u001b[39;49mdoublequote,\n\u001b[0;32m   3917\u001b[0m     escapechar\u001b[39m=\u001b[39;49mescapechar,\n\u001b[0;32m   3918\u001b[0m     storage_options\u001b[39m=\u001b[39;49mstorage_options,\n\u001b[0;32m   3919\u001b[0m )\n",
      "File \u001b[1;32m~\\AppData\\Local\\Packages\\PythonSoftwareFoundation.Python.3.11_qbz5n2kfra8p0\\LocalCache\\local-packages\\Python311\\site-packages\\pandas\\io\\formats\\format.py:1152\u001b[0m, in \u001b[0;36mDataFrameRenderer.to_csv\u001b[1;34m(self, path_or_buf, encoding, sep, columns, index_label, mode, compression, quoting, quotechar, lineterminator, chunksize, date_format, doublequote, escapechar, errors, storage_options)\u001b[0m\n\u001b[0;32m   1131\u001b[0m     created_buffer \u001b[39m=\u001b[39m \u001b[39mFalse\u001b[39;00m\n\u001b[0;32m   1133\u001b[0m csv_formatter \u001b[39m=\u001b[39m CSVFormatter(\n\u001b[0;32m   1134\u001b[0m     path_or_buf\u001b[39m=\u001b[39mpath_or_buf,\n\u001b[0;32m   1135\u001b[0m     lineterminator\u001b[39m=\u001b[39mlineterminator,\n\u001b[1;32m   (...)\u001b[0m\n\u001b[0;32m   1150\u001b[0m     formatter\u001b[39m=\u001b[39m\u001b[39mself\u001b[39m\u001b[39m.\u001b[39mfmt,\n\u001b[0;32m   1151\u001b[0m )\n\u001b[1;32m-> 1152\u001b[0m csv_formatter\u001b[39m.\u001b[39;49msave()\n\u001b[0;32m   1154\u001b[0m \u001b[39mif\u001b[39;00m created_buffer:\n\u001b[0;32m   1155\u001b[0m     \u001b[39massert\u001b[39;00m \u001b[39misinstance\u001b[39m(path_or_buf, StringIO)\n",
      "File \u001b[1;32m~\\AppData\\Local\\Packages\\PythonSoftwareFoundation.Python.3.11_qbz5n2kfra8p0\\LocalCache\\local-packages\\Python311\\site-packages\\pandas\\io\\formats\\csvs.py:247\u001b[0m, in \u001b[0;36mCSVFormatter.save\u001b[1;34m(self)\u001b[0m\n\u001b[0;32m    243\u001b[0m \u001b[39m\u001b[39m\u001b[39m\"\"\"\u001b[39;00m\n\u001b[0;32m    244\u001b[0m \u001b[39mCreate the writer & save.\u001b[39;00m\n\u001b[0;32m    245\u001b[0m \u001b[39m\"\"\"\u001b[39;00m\n\u001b[0;32m    246\u001b[0m \u001b[39m# apply compression and byte/text conversion\u001b[39;00m\n\u001b[1;32m--> 247\u001b[0m \u001b[39mwith\u001b[39;00m get_handle(\n\u001b[0;32m    248\u001b[0m     \u001b[39mself\u001b[39;49m\u001b[39m.\u001b[39;49mfilepath_or_buffer,\n\u001b[0;32m    249\u001b[0m     \u001b[39mself\u001b[39;49m\u001b[39m.\u001b[39;49mmode,\n\u001b[0;32m    250\u001b[0m     encoding\u001b[39m=\u001b[39;49m\u001b[39mself\u001b[39;49m\u001b[39m.\u001b[39;49mencoding,\n\u001b[0;32m    251\u001b[0m     errors\u001b[39m=\u001b[39;49m\u001b[39mself\u001b[39;49m\u001b[39m.\u001b[39;49merrors,\n\u001b[0;32m    252\u001b[0m     compression\u001b[39m=\u001b[39;49m\u001b[39mself\u001b[39;49m\u001b[39m.\u001b[39;49mcompression,\n\u001b[0;32m    253\u001b[0m     storage_options\u001b[39m=\u001b[39;49m\u001b[39mself\u001b[39;49m\u001b[39m.\u001b[39;49mstorage_options,\n\u001b[0;32m    254\u001b[0m ) \u001b[39mas\u001b[39;00m handles:\n\u001b[0;32m    255\u001b[0m     \u001b[39m# Note: self.encoding is irrelevant here\u001b[39;00m\n\u001b[0;32m    256\u001b[0m     \u001b[39mself\u001b[39m\u001b[39m.\u001b[39mwriter \u001b[39m=\u001b[39m csvlib\u001b[39m.\u001b[39mwriter(\n\u001b[0;32m    257\u001b[0m         handles\u001b[39m.\u001b[39mhandle,\n\u001b[0;32m    258\u001b[0m         lineterminator\u001b[39m=\u001b[39m\u001b[39mself\u001b[39m\u001b[39m.\u001b[39mlineterminator,\n\u001b[1;32m   (...)\u001b[0m\n\u001b[0;32m    263\u001b[0m         quotechar\u001b[39m=\u001b[39m\u001b[39mself\u001b[39m\u001b[39m.\u001b[39mquotechar,\n\u001b[0;32m    264\u001b[0m     )\n\u001b[0;32m    266\u001b[0m     \u001b[39mself\u001b[39m\u001b[39m.\u001b[39m_save()\n",
      "File \u001b[1;32m~\\AppData\\Local\\Packages\\PythonSoftwareFoundation.Python.3.11_qbz5n2kfra8p0\\LocalCache\\local-packages\\Python311\\site-packages\\pandas\\io\\common.py:863\u001b[0m, in \u001b[0;36mget_handle\u001b[1;34m(path_or_buf, mode, encoding, compression, memory_map, is_text, errors, storage_options)\u001b[0m\n\u001b[0;32m    858\u001b[0m \u001b[39melif\u001b[39;00m \u001b[39misinstance\u001b[39m(handle, \u001b[39mstr\u001b[39m):\n\u001b[0;32m    859\u001b[0m     \u001b[39m# Check whether the filename is to be opened in binary mode.\u001b[39;00m\n\u001b[0;32m    860\u001b[0m     \u001b[39m# Binary mode does not support 'encoding' and 'newline'.\u001b[39;00m\n\u001b[0;32m    861\u001b[0m     \u001b[39mif\u001b[39;00m ioargs\u001b[39m.\u001b[39mencoding \u001b[39mand\u001b[39;00m \u001b[39m\"\u001b[39m\u001b[39mb\u001b[39m\u001b[39m\"\u001b[39m \u001b[39mnot\u001b[39;00m \u001b[39min\u001b[39;00m ioargs\u001b[39m.\u001b[39mmode:\n\u001b[0;32m    862\u001b[0m         \u001b[39m# Encoding\u001b[39;00m\n\u001b[1;32m--> 863\u001b[0m         handle \u001b[39m=\u001b[39m \u001b[39mopen\u001b[39m(\n\u001b[0;32m    864\u001b[0m             handle,\n\u001b[0;32m    865\u001b[0m             ioargs\u001b[39m.\u001b[39mmode,\n\u001b[0;32m    866\u001b[0m             encoding\u001b[39m=\u001b[39mioargs\u001b[39m.\u001b[39mencoding,\n\u001b[0;32m    867\u001b[0m             errors\u001b[39m=\u001b[39merrors,\n\u001b[0;32m    868\u001b[0m             newline\u001b[39m=\u001b[39m\u001b[39m\"\u001b[39m\u001b[39m\"\u001b[39m,\n\u001b[0;32m    869\u001b[0m         )\n\u001b[0;32m    870\u001b[0m     \u001b[39melse\u001b[39;00m:\n\u001b[0;32m    871\u001b[0m         \u001b[39m# Binary mode\u001b[39;00m\n\u001b[0;32m    872\u001b[0m         handle \u001b[39m=\u001b[39m \u001b[39mopen\u001b[39m(handle, ioargs\u001b[39m.\u001b[39mmode)\n",
      "\u001b[1;31mPermissionError\u001b[0m: [Errno 13] Permission denied: 'processed_reg_df.csv'"
     ]
    }
   ],
   "source": [
    "# One hot encoding our data and normalizing our data\n",
    "\n",
    "categorical_cols = list(regression_data.select_dtypes(include=['object']).columns)\n",
    "numeric_cols = list(regression_data.select_dtypes(include=['int64', 'float64']).columns)\n",
    "print(categorical_cols)\n",
    "numeric_pipeline = Pipeline(steps=[\n",
    "    ('scaler', MinMaxScaler())\n",
    "])\n",
    "\n",
    "categorical_pipeline = Pipeline(steps=[\n",
    "    ('onehot', OneHotEncoder(sparse_output=False))  \n",
    "])\n",
    "\n",
    "preprocessor = ColumnTransformer(\n",
    "    transformers=[\n",
    "        ('num', numeric_pipeline, numeric_cols),\n",
    "        ('cat', categorical_pipeline, categorical_cols)\n",
    "    ])\n",
    "\n",
    "processed_reg_data = preprocessor.fit_transform(regression_data)\n",
    "\n",
    "processed_reg_df = pd.DataFrame(processed_reg_data)\n",
    "print(processed_reg_df.head())\n",
    "print(processed_reg_df.shape)\n",
    "processed_reg_df.to_csv('processed_reg_df.csv', index=False) # sanity check to get an overview of the data"
   ]
  },
  {
   "cell_type": "code",
   "execution_count": 230,
   "metadata": {},
   "outputs": [
    {
     "name": "stdout",
     "output_type": "stream",
     "text": [
      "     0     1     2     3     4     5     6     7     8     9     10    11  \\\n",
      "0 -0.53  0.01  0.38  0.87 -0.14 -0.02 -0.53 -0.23 -0.44  0.66 -0.10  0.13   \n",
      "1 -0.59  0.71 -0.42  0.02  0.92  0.03  0.02 -0.13  0.03 -0.02  0.07 -0.03   \n",
      "2 -0.58 -0.06  0.37  0.84 -0.29 -0.52  0.54 -0.46  0.15  0.13 -0.08 -0.08   \n",
      "3 -0.59 -0.04  0.38  0.88 -0.17 -0.03  0.12  0.33 -0.24  0.00  0.80 -0.09   \n",
      "4  0.80  0.76 -0.27 -0.07 -0.12 -0.02  0.21  0.44 -0.20 -0.04  0.79 -0.28   \n",
      "\n",
      "     12    13    14    15    16  \n",
      "0 -0.05  0.06  0.37 -0.00 -0.05  \n",
      "1  0.02 -0.03  0.06  0.00 -0.05  \n",
      "2  0.05 -0.10 -0.27 -0.05 -0.05  \n",
      "3  0.02 -0.06  0.03 -0.01 -0.10  \n",
      "4 -0.07 -0.16 -0.25 -0.06 -0.02  \n",
      "(953, 17)\n",
      "(953, 26)\n"
     ]
    }
   ],
   "source": [
    "# PCA on Regression Frame\n",
    "\n",
    "pca = PCA(n_components=.95)\n",
    "processed_reg_df_pca = pca.fit_transform(processed_reg_df)\n",
    "print(pd.DataFrame(processed_reg_df_pca).head())\n",
    "print(processed_reg_df_pca.shape)\n",
    "print(processed_reg_df.shape)"
   ]
  },
  {
   "cell_type": "code",
   "execution_count": 266,
   "metadata": {},
   "outputs": [
    {
     "name": "stdout",
     "output_type": "stream",
     "text": [
      "Mean Absolute Error (MAE): 129.2331741078611\n",
      "[ 375.94601718  672.19707177  568.62838244  536.5372496   370.50487315\n",
      "  577.40616796  620.82254974  418.09093777  118.74383501  365.32077109\n",
      "  343.82887428  593.05230367  695.02114999  237.66107524  545.44126733\n",
      "  153.02336765  632.90285043  595.54807024  614.6703117   612.57495586\n",
      "  625.29215854  457.49244138  602.81379782  398.9439636   529.53586302\n",
      "  649.68306725  687.60476663   15.92996614  236.28430286  621.41236151\n",
      "  373.37081223  368.10224683  658.37198959  686.8594859   592.50671406\n",
      "  496.5606607   604.14010641  653.82167165  236.60496308  584.69262334\n",
      " -126.73147534 -251.77226113  451.07140151  611.01645136  364.83829544\n",
      "  594.91588629  437.3267793   672.79262287  517.8320616   577.51880386\n",
      "  713.55185078 -391.39284629  576.81365621   42.87461636  184.80044257\n",
      "  673.86524303  375.268093    673.80775542  658.98202176  595.18402281\n",
      "  230.27009669  694.78731862  470.60795636  398.30682272  663.86455902\n",
      "  697.55927642  589.51882493  601.2394076   129.0133119   533.10002242\n",
      "  672.90380108  402.25264791  479.98141182  574.92788502  -83.41806947\n",
      "   43.45354953   69.48572351  141.98631411  117.00491059  569.40067525\n",
      "  634.57480896  313.97458181  606.01237936  666.52290394  136.25392804\n",
      "  692.337987    615.0160046   586.17516109  608.20067955  644.33846322\n",
      "  262.48668818  708.9641625   660.24099226  662.31344048  678.58049797\n",
      "  219.61311705  616.62905813  511.43349341  475.58488185  183.13366301\n",
      "  -83.95477521  663.76748147  492.58089949   16.05576886  701.60731564\n",
      "  666.10053107  386.91494118  666.05323572  590.84556856 -115.97795203\n",
      "  -52.12639391  581.97532446  393.3685054   539.7893253   652.03365751\n",
      "  653.67651302  554.21078265  443.99587701 -472.42060102 -203.37959401\n",
      "  487.61080031  621.21902553  632.12617246  498.87938568  304.05508896\n",
      "  575.23506342  580.02094364  399.5880639   690.90507635  478.9174817\n",
      "    7.258862    576.01185835  431.56240709  680.2013366   -57.66011661\n",
      "  630.98216462  592.34136826  258.49607709  592.54752353  609.56378181\n",
      "  709.81002607   80.99309813  549.85543289  628.11463684  416.86094011\n",
      "  313.00915367  478.73536817  -27.11191932  596.78211086 -141.42612148\n",
      "  646.99383961  198.95316047  584.37571598  679.77921813  498.46490064\n",
      "  541.18172685  644.74284307  640.65995009  614.87917548  622.06072649\n",
      "  623.79025683  656.50079692  534.70525518  535.19251326 -707.4969011\n",
      "  599.30753423  642.01079513  526.63298321  684.03740704  554.2781031\n",
      "  577.8415717   468.1690144   428.54416422  584.02284369  617.26638358\n",
      "  655.30640126  378.87139761  454.47595812  664.45526977  572.86124016\n",
      "  629.66021445  -70.72536224  593.58121361  427.25523115  653.42323143\n",
      "  646.45515528  592.94141061  388.56069275  308.94368839  489.72956798\n",
      " -158.39344004]\n"
     ]
    }
   ],
   "source": [
    "from sklearn.linear_model import LinearRegression\n",
    "from sklearn.metrics import mean_squared_error, mean_absolute_error\n",
    "\n",
    "X_train, X_test, y_train, y_test = train_test_split(processed_reg_df, regression_labels_data, test_size=0.2)\n",
    "\n",
    "model = LinearRegression()\n",
    "\n",
    "model.fit(X_train, y_train)\n",
    "\n",
    "predictions = model.predict(X_test)\n",
    "\n",
    "\n",
    "mae = mean_absolute_error(y_test, predictions)\n",
    "print(\"Mean Absolute Error (MAE):\", mae)\n",
    "\n",
    "\n",
    "#coefficients = pd.DataFrame({'Column': pd.DataFrame(processed_reg_df_pca).columns, 'Coefficient': model.coef_/100000})\n",
    "print(predictions)"
   ]
  },
  {
   "cell_type": "code",
   "execution_count": 267,
   "metadata": {},
   "outputs": [
    {
     "data": {
      "image/png": "[encoded data removed]",
      "text/plain": [
       "<Figure size 800x600 with 1 Axes>"
      ]
     },
     "metadata": {},
     "output_type": "display_data"
    }
   ],
   "source": [
    "plt.figure(figsize=(8, 6))\n",
    "plt.scatter(y_test, predictions, color='blue', alpha=0.5)  # Scatter plot of actual vs predicted\n",
    "plt.plot([y_test.min(), y_test.max()], [y_test.min(), y_test.max()], 'k--', lw=2)  # Diagonal line showing perfect prediction\n",
    "plt.xlabel('Actual')\n",
    "plt.ylabel('Predicted')\n",
    "plt.title('Actual vs Predicted')\n",
    "plt.show()"
   ]
  },
  {
   "cell_type": "markdown",
   "metadata": {},
   "source": [
    "There is a very clear pattern in the residuals of our data, so we try a non-linear regressions, specifically a logarithmic regression."
   ]
  },
  {
   "cell_type": "code",
   "execution_count": 268,
   "metadata": {},
   "outputs": [
    {
     "name": "stdout",
     "output_type": "stream",
     "text": [
      "Mean Absolute Error (MAE) with Logarithmic Regression: 67.04765062406078\n",
      "[ 936.2840416   751.74667946  717.84633046  242.6147237   274.28128104\n",
      "  474.17220718  978.77196341  966.40777887  487.75067807  461.8302327\n",
      "   58.26565168  449.31360237  398.42465573  371.84051546  223.27366616\n",
      "  315.11426359   99.63032577  433.6849989   817.70719295   10.580789\n",
      "  159.19752622  744.06967848  720.53419667  437.22886094  912.48431027\n",
      "  752.1303999   298.30499017  182.43287708  604.71830999  181.14774265\n",
      "  469.69736686  726.31774547  187.78343958  717.38753262   23.77461205\n",
      "  581.73215368  300.44533421  330.23147248   72.57469907  541.51794861\n",
      "  423.6877253   810.79937057  243.2637952   591.22227801  556.01929834\n",
      "  837.03227025  372.44408663  604.57015933 1173.23701902  425.99251252\n",
      "  591.33501596  184.74712623  385.28902634   73.47656908  741.8011686\n",
      "  959.81216179   92.71588203  290.9705822   319.62791374  791.0342971\n",
      "  814.62314326  139.57307327  912.18182479   21.14151324  219.63308233\n",
      "  260.66415878  360.18589371   13.01956937   55.4104663   427.33762873\n",
      "  829.56467549  826.49023911  318.14674415  310.1338695  1026.81467598\n",
      "  120.73918728  390.02085621  389.74404614   33.41074726  382.880734\n",
      "  674.79626248   23.2142488   367.63274018   25.01650498  499.0320094\n",
      "  669.44414536  184.19868537  411.73485091  608.98205501  660.42683412\n",
      "  622.37280146  254.52920081  745.09627617  191.44072335 1131.93601411\n",
      "  445.87872409  445.30781893  543.11741361   54.25519646  725.55656234\n",
      "  889.05711434  634.90332104  354.10390251  289.43167698  182.98858756\n",
      "   39.92334021  483.65653424  822.61991362  565.49716529  377.26955232\n",
      "  180.17121089  788.60846991   26.53916331  594.72227964  329.94202996\n",
      "  716.30830249  721.39744351  514.06920706  521.51181375  294.91367366\n",
      "  906.27229136  210.39640846  376.33790971  946.34133529  743.64748219\n",
      "  465.55230357  929.37457611  368.48480916 1012.4189619   191.83181291\n",
      "  589.74140913  785.85989403  288.3131595   194.27854887   35.69110946\n",
      "   91.5930581   717.50567139  229.52037219  366.77578961  526.36009906\n",
      "   35.90698653  273.70093657 1422.50292988  245.93957839   48.77309902\n",
      "  605.96226465  374.23194051  877.91866565   59.77367711  705.0281527\n",
      "  669.23607856  194.0803792   415.31746869  725.65053965  786.19342047\n",
      "  652.58075351  699.82715853  161.59345055  778.312463    631.19172564\n",
      "  647.06459225  523.26704766  619.07972064  533.68379211  266.66119363\n",
      "   93.47480677  320.47251787  979.60626931   48.84970941  693.25825909\n",
      "  233.06662538  711.6036533   680.18036299   45.80349041  615.25593371\n",
      "   77.77793504  122.1575873   415.56849462  550.39362095  759.95161203\n",
      "  602.28829957  430.21791319  541.96865205  346.60185743  785.68478323\n",
      "  180.72939604  351.47113318  955.75777952   17.46855885  751.72713478\n",
      "  819.77326066]\n"
     ]
    }
   ],
   "source": [
    "from sklearn.linear_model import LinearRegression\n",
    "from sklearn.preprocessing import PolynomialFeatures\n",
    "from sklearn.model_selection import train_test_split\n",
    "from sklearn.metrics import mean_squared_error, mean_absolute_error\n",
    "import numpy as np\n",
    "\n",
    "# Assuming 'processed_reg_df' is your feature DataFrame and 'regression_labels_data' is your target variable\n",
    "X_train, X_test, y_train, y_test = train_test_split(processed_reg_df, regression_labels_data, test_size=0.2)\n",
    "\n",
    "# Generate polynomial features\n",
    "poly = PolynomialFeatures(degree=3)\n",
    "X_train_poly = poly.fit_transform(X_train)\n",
    "X_test_poly = poly.transform(X_test)\n",
    "\n",
    "# Transform target variable using logarithm\n",
    "y_train_log = np.log(y_train)\n",
    "y_test_log = np.log(y_test)\n",
    "\n",
    "# Initialize and fit Linear Regression model\n",
    "model = LinearRegression()\n",
    "model.fit(X_train_poly, y_train_log)\n",
    "\n",
    "# Predict using the model\n",
    "predictions_log = model.predict(X_test_poly)\n",
    "\n",
    "# Transform predictions back to original scale\n",
    "predictions = np.exp(predictions_log)\n",
    "\n",
    "mae = mean_absolute_error(y_test, predictions)\n",
    "print(\"Mean Absolute Error (MAE) with Logarithmic Regression:\", mae)\n",
    "print(predictions)"
   ]
  },
  {
   "cell_type": "code",
   "execution_count": 269,
   "metadata": {},
   "outputs": [
    {
     "data": {
      "image/png": "[encoded data removed]",
      "text/plain": [
       "<Figure size 800x600 with 1 Axes>"
      ]
     },
     "metadata": {},
     "output_type": "display_data"
    }
   ],
   "source": [
    "plt.figure(figsize=(8, 6))\n",
    "plt.scatter(y_test, predictions, color='blue', alpha=0.5)  # Scatter plot of actual vs predicted\n",
    "plt.plot([y_test.min(), y_test.max()], [y_test.min(), y_test.max()], 'k--', lw=2)  # Diagonal line showing perfect prediction\n",
    "plt.xlabel('Actual')\n",
    "plt.ylabel('Predicted')\n",
    "plt.title('Actual vs Predicted')\n",
    "plt.show()"
   ]
  },
  {
   "cell_type": "code",
   "execution_count": 271,
   "metadata": {},
   "outputs": [
    {
     "name": "stdout",
     "output_type": "stream",
     "text": [
      "Mean Absolute Error (MAE): 72.63979923973875\n",
      "[698.08116836 673.60390666  42.67912626 940.5429017  443.06226137\n",
      "  67.20871379 695.48537213 415.69205049 681.89299812 507.78770104\n",
      " 154.55683704 132.58890241 475.28604687 501.04911275 925.09858552\n",
      " 649.96879042 517.46142403 507.84790472 325.47467056 644.13092341\n",
      " 535.82250179 173.36852494 731.39227962 506.7916142  697.65149617\n",
      " 875.65463147 180.4515023   91.73343954 439.29824907 619.82808618\n",
      " 446.04188164  64.4885361  131.01542805 596.44589882 893.52922372\n",
      "  33.60872552 423.12048434 324.30096395 741.4780037  882.52112122\n",
      " 733.51548252 380.73539885 359.52695833 445.11867753   7.91111\n",
      " 507.89128174  82.65465439 453.08721376  30.87553962 376.13631194\n",
      " 615.37587493 166.34939614 715.85317172 448.4220474   66.87818618\n",
      " 347.36550864 622.35035967 780.4725971  286.66751042 923.64876223\n",
      " 573.21411619 629.79118689 597.95005562 283.39615605 547.09612351\n",
      " 791.96903585 410.25632044 244.87083781 238.4089153  184.44032749\n",
      " 554.47655141 293.98130926 236.49985731 664.7037345  834.51689579\n",
      " 184.12628554 594.69962338 657.23602689 602.08676052 681.45192943\n",
      " 346.583277   555.73900789 464.8730748  757.55088761 745.17453205\n",
      " 387.96286921 307.35938001  30.16665993 446.46969814  23.98126201\n",
      "  74.77172768  92.66989413 451.31625706 486.87034158 179.84390333\n",
      " 228.3915037  233.98436262 800.56322403 279.66329932  81.28008201\n",
      " 706.548948   826.62908949  62.12562864 220.15287244 525.3401306\n",
      " 617.52903128 155.47060872  72.37263224 866.44968966 731.03482215\n",
      " 107.37392701 877.25849741 609.4287008  474.01147491 596.20456198\n",
      " 501.27171747 499.53399656 122.41202303 220.70167428 676.54219599\n",
      " 227.04315937 940.98274694 217.56059341 552.29032196 750.8377079\n",
      "  99.05343432 687.04294683 387.03949841  86.1452452   77.17703381\n",
      " 506.12125492 582.54221087 138.88451236 684.57003799 793.66893637\n",
      " 474.04706507 494.51151364 135.28567775 833.92383414 665.29775955\n",
      " 606.21299259 220.92469862  76.81379099 214.71669828 276.76905076\n",
      " 629.94232052 569.79218279 356.52819059 390.26520921 675.70595343\n",
      " 525.84774584 570.44496456 520.97722675  17.14910348 242.53843623\n",
      " 527.14015054 628.41651679 547.80648763 774.69463459  13.69032078\n",
      " 643.24035096 780.86080418 745.16828999 498.42824292 833.60301297\n",
      "  97.43373937 707.47037479 573.34290934 746.93756126 824.80405825\n",
      "  69.47803435 712.70119743 201.58980416  89.08783738  19.23743881\n",
      " 526.73356128 737.5047648  362.05228058 265.48012977 579.23184516\n",
      " 859.27705558 205.97238612 678.61681579 825.32356298 106.49088182\n",
      " 473.78122882 430.37424256 460.34673575 385.52155125 267.88067579\n",
      " 564.04833421]\n"
     ]
    }
   ],
   "source": [
    "from sklearn.neural_network import MLPRegressor\n",
    "from sklearn.preprocessing import PolynomialFeatures\n",
    "from sklearn.model_selection import train_test_split\n",
    "from sklearn.metrics import mean_squared_error, mean_absolute_error\n",
    "import numpy as np\n",
    "\n",
    "X_train, X_test, y_train, y_test = train_test_split(processed_reg_df, regression_labels_data, test_size=0.2)\n",
    "\n",
    "poly = PolynomialFeatures(degree=3)\n",
    "X_train_poly = poly.fit_transform(X_train)\n",
    "X_test_poly = poly.transform(X_test)\n",
    "\n",
    "y_train_log = np.log(y_train)\n",
    "y_test_log = np.log(y_test)\n",
    "\n",
    "model = MLPRegressor(hidden_layer_sizes=(10,), activation='relu', solver='adam', max_iter=1000)\n",
    "model.fit(X_train_poly, y_train_log)\n",
    "\n",
    "predictions_log = model.predict(X_test_poly)\n",
    "\n",
    "predictions = np.exp(predictions_log)\n",
    "\n",
    "mae = mean_absolute_error(y_test, predictions)\n",
    "print(\"Mean Absolute Error (MAE):\", mae)\n",
    "print(predictions)"
   ]
  },
  {
   "cell_type": "code",
   "execution_count": 250,
   "metadata": {},
   "outputs": [
    {
     "data": {
      "image/png": "[encoded data removed]",
      "text/plain": [
       "<Figure size 800x600 with 1 Axes>"
      ]
     },
     "metadata": {},
     "output_type": "display_data"
    }
   ],
   "source": [
    "\n",
    "plt.figure(figsize=(8, 6))\n",
    "plt.scatter(y_test, predictions, color='blue', alpha=0.5)  # Scatter plot of actual vs predicted\n",
    "plt.plot([y_test.min(), y_test.max()], [y_test.min(), y_test.max()], 'k--', lw=2)  # Diagonal line showing perfect prediction\n",
    "plt.xlabel('Actual')\n",
    "plt.ylabel('Predicted')\n",
    "plt.title('Actual vs Predicted')\n",
    "plt.show()"
   ]
  }
 ],
 "metadata": {
  "kernelspec": {
   "display_name": "Python 3 (ipykernel)",
   "language": "python",
   "name": "python3"
  },
  "language_info": {
   "codemirror_mode": {
    "name": "ipython",
    "version": 3
   },
   "file_extension": ".py",
   "mimetype": "text/x-python",
   "name": "python",
   "nbconvert_exporter": "python",
   "pygments_lexer": "ipython3",
   "version": "3.11.6"
  }
 },
 "nbformat": 4,
 "nbformat_minor": 2
}
