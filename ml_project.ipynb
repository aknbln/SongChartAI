{
 "cells": [
  {
   "cell_type": "code",
   "execution_count": 87,
   "metadata": {},
   "outputs": [],
   "source": [
    "# ML Project\n",
    "\n",
    "# headers\n",
    "import pandas as pd\n",
    "import matplotlib.pyplot as plt"
   ]
  },
  {
   "cell_type": "code",
   "execution_count": 88,
   "metadata": {},
   "outputs": [
    {
     "name": "stdout",
     "output_type": "stream",
     "text": [
      "hello\n",
      "                            track_name    artist(s)_name  artist_count  \\\n",
      "0  Seven (feat. Latto) (Explicit Ver.)  Latto, Jung Kook             2   \n",
      "1                                 LALA       Myke Towers             1   \n",
      "2                              vampire    Olivia Rodrigo             1   \n",
      "3                         Cruel Summer      Taylor Swift             1   \n",
      "4                       WHERE SHE GOES         Bad Bunny             1   \n",
      "\n",
      "   released_year  released_month  released_day  in_spotify_playlists  \\\n",
      "0           2023               7            14                   553   \n",
      "1           2023               3            23                  1474   \n",
      "2           2023               6            30                  1397   \n",
      "3           2019               8            23                  7858   \n",
      "4           2023               5            18                  3133   \n",
      "\n",
      "   in_spotify_charts    streams  in_apple_playlists  ...  bpm key   mode  \\\n",
      "0                147  141381703                  43  ...  125   B  Major   \n",
      "1                 48  133716286                  48  ...   92  C#  Major   \n",
      "2                113  140003974                  94  ...  138   F  Major   \n",
      "3                100  800840817                 116  ...  170   A  Major   \n",
      "4                 50  303236322                  84  ...  144   A  Minor   \n",
      "\n",
      "  danceability_%  valence_% energy_% acousticness_%  instrumentalness_%  \\\n",
      "0             80         89       83             31                   0   \n",
      "1             71         61       74              7                   0   \n",
      "2             51         32       53             17                   0   \n",
      "3             55         58       72             11                   0   \n",
      "4             65         23       80             14                  63   \n",
      "\n",
      "   liveness_%  speechiness_%  \n",
      "0           8              4  \n",
      "1          10              4  \n",
      "2          31              6  \n",
      "3          11             15  \n",
      "4          11              6  \n",
      "\n",
      "[5 rows x 24 columns]\n"
     ]
    }
   ],
   "source": [
    "print(\"hello\")\n",
    "\n",
    "raw_data = pd.read_csv(\"spotify-2023.csv\", skipinitialspace = True)\n",
    "# raw_data.drop(raw_data['in_shazam_charts'], axis=1, inplace=True)\n",
    "print(raw_data.head())\n",
    "\n",
    "\n"
   ]
  },
  {
   "cell_type": "code",
   "execution_count": 89,
   "metadata": {},
   "outputs": [
    {
     "name": "stdout",
     "output_type": "stream",
     "text": [
      "<class 'pandas.core.frame.DataFrame'>\n",
      "RangeIndex: 953 entries, 0 to 952\n",
      "Data columns (total 24 columns):\n",
      " #   Column                Non-Null Count  Dtype \n",
      "---  ------                --------------  ----- \n",
      " 0   track_name            953 non-null    object\n",
      " 1   artist(s)_name        953 non-null    object\n",
      " 2   artist_count          953 non-null    int64 \n",
      " 3   released_year         953 non-null    int64 \n",
      " 4   released_month        953 non-null    int64 \n",
      " 5   released_day          953 non-null    int64 \n",
      " 6   in_spotify_playlists  953 non-null    int64 \n",
      " 7   in_spotify_charts     953 non-null    int64 \n",
      " 8   streams               953 non-null    int64 \n",
      " 9   in_apple_playlists    953 non-null    int64 \n",
      " 10  in_apple_charts       953 non-null    int64 \n",
      " 11  in_deezer_playlists   953 non-null    object\n",
      " 12  in_deezer_charts      953 non-null    int64 \n",
      " 13  in_shazam_charts      903 non-null    object\n",
      " 14  bpm                   953 non-null    int64 \n",
      " 15  key                   858 non-null    object\n",
      " 16  mode                  953 non-null    object\n",
      " 17  danceability_%        953 non-null    int64 \n",
      " 18  valence_%             953 non-null    int64 \n",
      " 19  energy_%              953 non-null    int64 \n",
      " 20  acousticness_%        953 non-null    int64 \n",
      " 21  instrumentalness_%    953 non-null    int64 \n",
      " 22  liveness_%            953 non-null    int64 \n",
      " 23  speechiness_%         953 non-null    int64 \n",
      "dtypes: int64(18), object(6)\n",
      "memory usage: 178.8+ KB\n",
      "None\n",
      "track_name               0\n",
      "artist(s)_name           0\n",
      "artist_count             0\n",
      "released_year            0\n",
      "released_month           0\n",
      "released_day             0\n",
      "in_spotify_playlists     0\n",
      "in_spotify_charts        0\n",
      "streams                  0\n",
      "in_apple_playlists       0\n",
      "in_apple_charts          0\n",
      "in_deezer_playlists      0\n",
      "in_deezer_charts         0\n",
      "in_shazam_charts        50\n",
      "bpm                      0\n",
      "key                     95\n",
      "mode                     0\n",
      "danceability_%           0\n",
      "valence_%                0\n",
      "energy_%                 0\n",
      "acousticness_%           0\n",
      "instrumentalness_%       0\n",
      "liveness_%               0\n",
      "speechiness_%            0\n",
      "dtype: int64\n"
     ]
    }
   ],
   "source": [
    "print(raw_data.info())\n",
    "\n",
    "# let's check for missing values\n",
    "missing_values = raw_data.isna().sum()\n",
    "print(missing_values)\n",
    "\n"
   ]
  },
  {
   "cell_type": "code",
   "execution_count": 90,
   "metadata": {},
   "outputs": [
    {
     "data": {
      "text/plain": [
       "track_name                0\n",
       "artist(s)_name            0\n",
       "artist_count              0\n",
       "released_year             0\n",
       "released_month            0\n",
       "released_day              0\n",
       "in_spotify_playlists      0\n",
       "in_spotify_charts       405\n",
       "streams                   0\n",
       "in_apple_playlists       23\n",
       "in_apple_charts         100\n",
       "in_deezer_playlists       0\n",
       "in_deezer_charts        558\n",
       "in_shazam_charts          0\n",
       "bpm                       0\n",
       "key                       0\n",
       "mode                      0\n",
       "danceability_%            0\n",
       "valence_%                 0\n",
       "energy_%                  0\n",
       "acousticness_%           60\n",
       "instrumentalness_%      866\n",
       "liveness_%                0\n",
       "speechiness_%             0\n",
       "dtype: int64"
      ]
     },
     "execution_count": 90,
     "metadata": {},
     "output_type": "execute_result"
    }
   ],
   "source": [
    "# it seems that there are some blank values in the shazam_charts column.\n",
    "# let's check how many values have a value 0\n",
    "\n",
    "zero_counts = (raw_data == 0).sum()\n",
    "zero_counts "
   ]
  },
  {
   "cell_type": "code",
   "execution_count": 110,
   "metadata": {},
   "outputs": [
    {
     "name": "stdout",
     "output_type": "stream",
     "text": [
      "147 58 275\n"
     ]
    }
   ],
   "source": [
    "max_values_spot = raw_data['in_spotify_charts'].max()\n",
    "max_values_deez = raw_data['in_deezer_charts'].max()\n",
    "max_values_app = raw_data['in_apple_charts'].max()\n",
    "print(max_values_spot, max_values_deez, max_values_app)"
   ]
  },
  {
   "cell_type": "code",
   "execution_count": 92,
   "metadata": {},
   "outputs": [
    {
     "name": "stdout",
     "output_type": "stream",
     "text": [
      "888\n",
      "0\n",
      "0\n",
      "0\n"
     ]
    }
   ],
   "source": [
    "# print out rows that have 0 in Apple, Spotify, AND Deezer charts. That is bad.\n",
    "\n",
    "# a mirror of all of the records\n",
    "# the value is false if it doesn't meet the condition\n",
    "# the value is true otherwise\n",
    "all_zero_chart_rankings = ((raw_data['in_spotify_charts'] == 0) & (raw_data['in_deezer_charts'] == 0) & (raw_data['in_apple_charts'] == 0))\n",
    "\n",
    "# print(all_zero_chart_rankings)\n",
    "print((all_zero_chart_rankings == False).sum())\n",
    "\n",
    "# only print rows of raw_data where the matching row from all_zero_chart_rankings is True\n",
    "filtered_df = raw_data[all_zero_chart_rankings]\n",
    "# print(filtered_df)  # 0 rows\n",
    "print(filtered_df['in_spotify_charts'].sum())  # 0'])\n",
    "print(filtered_df['in_deezer_charts'].sum())  # 0'])\n",
    "print(filtered_df['in_apple_charts'].sum())  # 0']) \n",
    "\n",
    "\n",
    "# There are 65 records in total that have 0 in all three charts.\n",
    "\n",
    "# We can try to weigh charts with the total missing values for each chart.\n",
    "# We can try to "
   ]
  },
  {
   "cell_type": "code",
   "execution_count": 93,
   "metadata": {},
   "outputs": [
    {
     "name": "stdout",
     "output_type": "stream",
     "text": [
      "888\n",
      "                                  track_name                artist(s)_name  \\\n",
      "29   Dance The Night (From Barbie The Album)                      Dua Lipa   \n",
      "47                               Die For You                    The Weeknd   \n",
      "53              (It Goes Like) Nanana - Edit                     Peggy Gou   \n",
      "62   Left and Right (Feat. Jung Kook of BTS)  Charlie Puth, BTS, Jung Kook   \n",
      "66                                     Karma                  Taylor Swift   \n",
      "..                                       ...                           ...   \n",
      "947                            The Great War                  Taylor Swift   \n",
      "948                             My Mind & Me                  Selena Gomez   \n",
      "949                Bigger Than The Whole Sky                  Taylor Swift   \n",
      "950                     A Veces (feat. Feid)            Feid, Paulo Londra   \n",
      "951                            En La De Ella            Feid, Sech, Jhayco   \n",
      "\n",
      "     artist_count  released_year  released_month  released_day  \\\n",
      "29              1           2023               5            25   \n",
      "47              1           2016              11            24   \n",
      "53              1           2023               6            15   \n",
      "62              3           2022               6            24   \n",
      "66              1           2022              10            21   \n",
      "..            ...            ...             ...           ...   \n",
      "947             1           2022              10            21   \n",
      "948             1           2022              11             3   \n",
      "949             1           2022              10            21   \n",
      "950             2           2022              11             3   \n",
      "951             3           2022              10            20   \n",
      "\n",
      "     in_spotify_playlists  in_spotify_charts     streams  in_apple_playlists  \\\n",
      "29                   2988                101   127408954                   0   \n",
      "47                   2483                 59  1647990401                  68   \n",
      "53                   2259                 59    57876440                   0   \n",
      "62                   3107                 39   720434240                  38   \n",
      "66                   3818                 23   404562836                  37   \n",
      "..                    ...                ...         ...                 ...   \n",
      "947                  1274                  0   181382590                   1   \n",
      "948                   953                  0    91473363                  61   \n",
      "949                  1180                  0   121871870                   4   \n",
      "950                   573                  0    73513683                   2   \n",
      "951                  1320                  0   133895612                  29   \n",
      "\n",
      "     ...  bpm key   mode danceability_%  valence_% energy_% acousticness_%  \\\n",
      "29   ...  110   B  Minor             67         78       85              2   \n",
      "47   ...  134  C#  Minor             59         51       52              9   \n",
      "53   ...  130   G  Minor             67         96       88             12   \n",
      "62   ...  101   D  Major             88         72       59             62   \n",
      "66   ...   90  G#  Major             64         10       62              7   \n",
      "..   ...  ...  ..    ...            ...        ...      ...            ...   \n",
      "947  ...   96   F  Major             57         55       74             22   \n",
      "948  ...  144   A  Major             60         24       39             57   \n",
      "949  ...  166  F#  Major             42          7       24             83   \n",
      "950  ...   92  C#  Major             80         81       67              4   \n",
      "951  ...   97  C#  Major             82         67       77              8   \n",
      "\n",
      "     instrumentalness_%  liveness_%  speechiness_%  \n",
      "29                    0          33              5  \n",
      "47                    0          15              7  \n",
      "53                   19           8              4  \n",
      "62                    0           9              3  \n",
      "66                    0          48              7  \n",
      "..                  ...         ...            ...  \n",
      "947                   0           8              4  \n",
      "948                   0           8              3  \n",
      "949                   1          12              6  \n",
      "950                   0           8              6  \n",
      "951                   0          12              5  \n",
      "\n",
      "[627 rows x 24 columns]\n",
      "405\n",
      "558\n",
      "100\n"
     ]
    }
   ],
   "source": [
    "\n",
    "some_zero_chart_rankings = ((raw_data['in_spotify_charts'] == 0) | (raw_data['in_deezer_charts'] == 0) | (raw_data['in_apple_charts'] == 0))\n",
    "print((all_zero_chart_rankings == 0).sum())\n",
    "filtered_df = raw_data[some_zero_chart_rankings]\n",
    "print(filtered_df)  # 0 rows\n",
    "print((filtered_df['in_spotify_charts'] == 0).sum())  # 0'])\n",
    "print((filtered_df['in_deezer_charts']== 0).sum())  # 0'])\n",
    "print((filtered_df['in_apple_charts'] == 0).sum())  # 0']) \n",
    " \n",
    "# There are 627(includes 65 records that have no ranking) records in total that are missing at least one ranking from the Spotify, Deezer, or Apple charts.\n",
    "\n",
    "# TODO: We did not include Shazam charts in this analysis. We should include Shazam charts in this analysis.\n",
    "# There are no MISSING values in Spotify, Deezer, Apple charts, BUT there are 50 missing values in Shazam charts so we have to remember to add those in"
   ]
  },
  {
   "cell_type": "code",
   "execution_count": 94,
   "metadata": {},
   "outputs": [
    {
     "name": "stdout",
     "output_type": "stream",
     "text": [
      "953\n",
      "0      summer\n",
      "1      spring\n",
      "2      summer\n",
      "3      summer\n",
      "4      spring\n",
      "        ...  \n",
      "948      fall\n",
      "949      fall\n",
      "950      fall\n",
      "951      fall\n",
      "952      fall\n",
      "Name: season, Length: 953, dtype: object\n",
      "season\n",
      "spring    280\n",
      "winter    270\n",
      "fall      209\n",
      "summer    194\n",
      "Name: count, dtype: int64\n"
     ]
    }
   ],
   "source": [
    "\"\"\"\n",
    "Add season column as a new feature\n",
    "\"\"\"\n",
    "print(len(raw_data))\n",
    "seasons = []\n",
    "# print(len(raw_data.iterrows()))\n",
    "for index,row in raw_data.iterrows():\n",
    "    if row['released_month'] in [12,1,2]:\n",
    "        seasons.append('winter')\n",
    "    elif row['released_month'] in [3,4,5]:\n",
    "        seasons.append('spring')\n",
    "    elif row['released_month'] in [6,7,8]:\n",
    "        seasons.append('summer')\n",
    "    elif row['released_month'] in [9,10,11]:\n",
    "        seasons.append('fall')\n",
    "    else:\n",
    "        seasons.append('unknown')\n",
    "\n",
    "raw_data['season'] = seasons\n",
    "print(raw_data['season'])\n",
    "print(raw_data['season'].value_counts())"
   ]
  },
  {
   "cell_type": "code",
   "execution_count": 95,
   "metadata": {},
   "outputs": [
    {
     "name": "stdout",
     "output_type": "stream",
     "text": [
      "                                        track_name  \\\n",
      "55                                 Blinding Lights   \n",
      "179                                   Shape of You   \n",
      "86                               Someone You Loved   \n",
      "620                                   Dance Monkey   \n",
      "41   Sunflower - Spider-Man: Into the Spider-Verse   \n",
      "162                                      One Dance   \n",
      "84                       STAY (with Justin Bieber)   \n",
      "140                                       Believer   \n",
      "725                                         Closer   \n",
      "48                                         Starboy   \n",
      "138                                        Perfect   \n",
      "71                                      Heat Waves   \n",
      "14                                       As It Was   \n",
      "693                                          Se��o   \n",
      "324                           Say You Won't Let Go   \n",
      "128                           lovely - Bonus Track   \n",
      "127                               Watermelon Sugar   \n",
      "407                                Don't Start Now   \n",
      "621                                   Lucid Dreams   \n",
      "73                                 Sweater Weather   \n",
      "\n",
      "                   artist(s)_name     streams  stream_ranking  \n",
      "55                     The Weeknd  3703895074               1  \n",
      "179                    Ed Sheeran  3562543890               2  \n",
      "86                  Lewis Capaldi  2887241814               3  \n",
      "620                   Tones and I  2864791672               4  \n",
      "41          Post Malone, Swae Lee  2808096550               5  \n",
      "162           Drake, WizKid, Kyla  2713922350               6  \n",
      "84   Justin Bieber, The Kid Laroi  2665343922               7  \n",
      "140               Imagine Dragons  2594040133               8  \n",
      "725      The Chainsmokers, Halsey  2591224264               9  \n",
      "48          The Weeknd, Daft Punk  2565529693              10  \n",
      "138                    Ed Sheeran  2559529074              11  \n",
      "71                  Glass Animals  2557975762              12  \n",
      "14                   Harry Styles  2513188493              13  \n",
      "693  Shawn Mendes, Camila Cabello  2484812918              14  \n",
      "324                  James Arthur  2420461338              15  \n",
      "128         Billie Eilish, Khalid  2355719893              16  \n",
      "127                  Harry Styles  2322580122              17  \n",
      "407                      Dua Lipa  2303033973              18  \n",
      "621                    Juice WRLD  2288695111              19  \n",
      "73              The Neighbourhood  2282771485              20  \n"
     ]
    }
   ],
   "source": [
    "\"\"\"\n",
    "Add ranking column\n",
    "\"\"\"\n",
    "raw_data['stream_ranking'] = raw_data['streams'].rank(ascending=False).astype(int)\n",
    "print((raw_data[['track_name', 'artist(s)_name', 'streams', 'stream_ranking']]).sort_values(by='stream_ranking').head(20))"
   ]
  },
  {
   "cell_type": "code",
   "execution_count": 96,
   "metadata": {},
   "outputs": [
    {
     "name": "stdout",
     "output_type": "stream",
     "text": [
      "                                track_name  released_year     streams  \\\n",
      "12                                 Flowers           2023  1316855716   \n",
      "14                               As It Was           2022  2513188493   \n",
      "84               STAY (with Justin Bieber)           2021  2665343922   \n",
      "55                         Blinding Lights           2019  3703895074   \n",
      "6                          Ella Baila Sola           2023   725980112   \n",
      "133  Shakira: Bzrp Music Sessions, Vol. 53           2023   721975598   \n",
      "87                         Me Porto Bonito           2022  1440757818   \n",
      "74   Quevedo: Bzrp Music Sessions, Vol. 52           2022  1356565093   \n",
      "71                              Heat Waves           2020  2557975762   \n",
      "192                       Titi Me Pregunt�           2022  1264310836   \n",
      "513                               good 4 u           2021  1887039593   \n",
      "535                        drivers license           2021  1858144199   \n",
      "34                                     TQG           2023   618990393   \n",
      "77               Unholy (feat. Kim Petras)           2022  1230675890   \n",
      "57                              La Bachata           2022  1214083358   \n",
      "410      INDUSTRY BABY (feat. Jack Harlow)           2021  1814349763   \n",
      "15                               Kill Bill           2022  1163093654   \n",
      "620                           Dance Monkey           2019  2864791672   \n",
      "146                          Ojitos Lindos           2022  1133865788   \n",
      "42                         I'm Good (Blue)           2022  1109433169   \n",
      "\n",
      "     average_streams_per_year  \n",
      "12              1316855716.00  \n",
      "14              1256594246.50  \n",
      "84               888447974.00  \n",
      "55               740779014.80  \n",
      "6                725980112.00  \n",
      "133              721975598.00  \n",
      "87               720378909.00  \n",
      "74               678282546.50  \n",
      "71               639493940.50  \n",
      "192              632155418.00  \n",
      "513              629013197.67  \n",
      "535              619381399.67  \n",
      "34               618990393.00  \n",
      "77               615337945.00  \n",
      "57               607041679.00  \n",
      "410              604783254.33  \n",
      "15               581546827.00  \n",
      "620              572958334.40  \n",
      "146              566932894.00  \n",
      "42               554716584.50  \n"
     ]
    }
   ],
   "source": [
    "\"\"\"Add average streams per year column, this should be helpful on comparing songs that were released in different years, but not overall ranking\"\"\"\n",
    "\"\"\"\"Now newers songs that haven't had as much time to accumulate strings get more presence in the ranking.\"\"\"\"\"\n",
    "raw_data['average_streams_per_year'] = raw_data['streams'] / (2024 - raw_data['released_year'])\n",
    "pd.options.display.float_format = '{:.2f}'.format\n",
    "print((raw_data[['track_name', 'released_year', 'streams', 'average_streams_per_year']]).sort_values(by='average_streams_per_year', ascending=False).head(20))"
   ]
  },
  {
   "cell_type": "code",
   "execution_count": 97,
   "metadata": {},
   "outputs": [
    {
     "name": "stdout",
     "output_type": "stream",
     "text": [
      "bpm_category\n",
      "fast      338\n",
      "slow      308\n",
      "medium    307\n",
      "Name: count, dtype: int64\n"
     ]
    }
   ],
   "source": [
    "\"\"\"\"Bin bpm into 3 categories: slow, medium, fast(Thresholds were determined by general bpm differentiation across genres)\"\"\"\n",
    "bpm_col = raw_data['bpm']\n",
    "bpm_bins = [0, 105, 130, 300]\n",
    "bpm_labels = ['slow', 'medium', 'fast']\n",
    "raw_data['bpm_category'] = pd.cut(x =bpm_col, bins=bpm_bins, labels=bpm_labels)\n",
    "\n",
    "\n",
    "# DELETE raw_data['bpm'] ?? \n",
    "# raw_data.drop(['bpm'], axis=1, inplace=True)\n",
    "print(raw_data['bpm_category'].value_counts())"
   ]
  },
  {
   "cell_type": "code",
   "execution_count": 98,
   "metadata": {},
   "outputs": [
    {
     "name": "stdout",
     "output_type": "stream",
     "text": [
      "charted_on_spotify\n",
      "True     548\n",
      "False    405\n",
      "Name: count, dtype: int64\n"
     ]
    }
   ],
   "source": [
    "'''Spotify charts: binary label, 1 for in charts, 0 for not in charts\n",
    "This can be used as an alternative class label.\n",
    "We are using this label because we are trying to predict whether a song will be charted on Spotify\n",
    "'''\n",
    "\n",
    "# all zero values indicate that a song was not charted\n",
    "\n",
    "# create a new column called charted_on_spotify\n",
    "\n",
    "charted_on_spotify = raw_data['in_spotify_charts'] != 0\n",
    "raw_data['charted_on_spotify'] = charted_on_spotify\n",
    "print(raw_data['charted_on_spotify'].value_counts())"
   ]
  },
  {
   "cell_type": "code",
   "execution_count": 99,
   "metadata": {},
   "outputs": [
    {
     "name": "stdout",
     "output_type": "stream",
     "text": [
      "apple_chart_category\n",
      "1-50       439\n",
      "51-100     243\n",
      "101-200    158\n",
      "276+       100\n",
      "201-275     13\n",
      "Name: count, dtype: int64\n",
      "                            track_name    artist(s)_name  artist_count  \\\n",
      "0  Seven (feat. Latto) (Explicit Ver.)  Latto, Jung Kook             2   \n",
      "1                                 LALA       Myke Towers             1   \n",
      "2                              vampire    Olivia Rodrigo             1   \n",
      "3                         Cruel Summer      Taylor Swift             1   \n",
      "4                       WHERE SHE GOES         Bad Bunny             1   \n",
      "\n",
      "   released_year  released_month  released_day  in_spotify_playlists  \\\n",
      "0           2023               7            14                   553   \n",
      "1           2023               3            23                  1474   \n",
      "2           2023               6            30                  1397   \n",
      "3           2019               8            23                  7858   \n",
      "4           2023               5            18                  3133   \n",
      "\n",
      "   in_spotify_charts    streams  in_apple_playlists  ...  season  \\\n",
      "0                147  141381703                  43  ...  summer   \n",
      "1                 48  133716286                  48  ...  spring   \n",
      "2                113  140003974                  94  ...  summer   \n",
      "3                100  800840817                 116  ...  summer   \n",
      "4                 50  303236322                  84  ...  spring   \n",
      "\n",
      "  stream_ranking  average_streams_per_year bpm_category  charted_on_spotify  \\\n",
      "0            716              141381703.00       medium                True   \n",
      "1            738              133716286.00         slow                True   \n",
      "2            719              140003974.00         fast                True   \n",
      "3            196              160168163.40         fast                True   \n",
      "4            458              303236322.00         fast                True   \n",
      "\n",
      "  apple_chart_category_276+ apple_chart_category_1-50  \\\n",
      "0                     False                     False   \n",
      "1                     False                     False   \n",
      "2                     False                     False   \n",
      "3                     False                     False   \n",
      "4                     False                     False   \n",
      "\n",
      "   apple_chart_category_51-100  apple_chart_category_101-200  \\\n",
      "0                        False                         False   \n",
      "1                        False                          True   \n",
      "2                        False                         False   \n",
      "3                        False                         False   \n",
      "4                        False                          True   \n",
      "\n",
      "   apple_chart_category_201-275  \n",
      "0                          True  \n",
      "1                         False  \n",
      "2                          True  \n",
      "3                          True  \n",
      "4                         False  \n",
      "\n",
      "[5 rows x 34 columns]\n"
     ]
    }
   ],
   "source": [
    "'''Apple charts: binned, 1-100, 101-200, 201-275, 276+'''\n",
    "'''This could also be used as a class label, or a feature'''\n",
    "\n",
    "# we are assuming that every row with an \"in_apple_charts\" value of 0 is a song that didn't make the top 275 charts\n",
    "# initially the bins were 1-100, 101-200, 201-275, 276+ and the result is:\n",
    "'''1-100      677\n",
    "   101-200    163\n",
    "   276+       100\n",
    "   201-275     13'''\n",
    "\n",
    "# Because the 1-100 bin has the most values, we are going to change the bins to 1-50, 51-100, 101-200, 201-275, 276+\n",
    "# So that the bins are less skewed\n",
    "apple_chart_bins = [-1, 0, 51, 101, 201, 276]\n",
    "apple_chart_labels = [ '276+', '1-50', '51-100', '101-200', '201-275']\n",
    "raw_data['apple_chart_category'] = pd.cut(x = raw_data['in_apple_charts'], bins=apple_chart_bins, labels=apple_chart_labels)\n",
    "\n",
    "print(raw_data['apple_chart_category'].value_counts())\n",
    "\n",
    "# one-hot encode the apple_chart_category column\n",
    "\n",
    "raw_data = pd.get_dummies(raw_data, columns=['apple_chart_category'])\n",
    "print(raw_data.head())"
   ]
  },
  {
   "cell_type": "code",
   "execution_count": 100,
   "metadata": {},
   "outputs": [
    {
     "name": "stdout",
     "output_type": "stream",
     "text": [
      "key\n",
      "C#   0.14\n",
      "G    0.25\n",
      "G#   0.36\n",
      "F    0.46\n",
      "B    0.56\n",
      "D    0.65\n",
      "A    0.74\n",
      "F#   0.82\n",
      "E    0.90\n",
      "A#   0.96\n",
      "D#   1.00\n",
      "Name: count, dtype: float64\n",
      "before key\n",
      "C#    120\n",
      "G      96\n",
      "G#     91\n",
      "F      89\n",
      "B      81\n",
      "D      81\n",
      "A      75\n",
      "F#     73\n",
      "E      62\n",
      "A#     57\n",
      "D#     33\n",
      "Name: count, dtype: int64\n",
      "after key\n",
      "C#    134\n",
      "F     103\n",
      "G     103\n",
      "G#     95\n",
      "B      90\n",
      "F#     90\n",
      "D      89\n",
      "A      82\n",
      "E      68\n",
      "A#     63\n",
      "D#     36\n",
      "Name: count, dtype: int64\n"
     ]
    }
   ],
   "source": [
    "'''We have decided to fill in the missing values of the 'key' column based on\n",
    "the probability distribution of the 'keys' that exist in the data set.'''\n",
    "\n",
    "keys = raw_data['key'].dropna().unique()\n",
    "counts = raw_data['key'].value_counts()\n",
    "sums = raw_data['key'].value_counts().sum()\n",
    "counts = counts / sums\n",
    "for i in range(1,len(keys)):\n",
    "    counts.iloc[i] = counts.iloc[i] + counts.iloc[i-1]\n",
    "\n",
    "print(counts)\n",
    "\n",
    "import random\n",
    "# random number between 0 and 1\n",
    "\n",
    "# for each record with column value ['key'] that is n/a, choose a random number bewteen 0 and 1\n",
    "# set the key value to the corresponding key value in counts\n",
    "\n",
    "print('before', raw_data['key'].value_counts())\n",
    "\n",
    "def get_key(num):\n",
    "    for i in range(len(counts)):\n",
    "        if num < counts.iloc[i]:\n",
    "            return keys[i]\n",
    "    return keys[len(keys)-1]\n",
    "\n",
    "new_data_with_key_filled_in = raw_data['key'].apply(lambda x: get_key(random.uniform(0,1)) if pd.isna(x) else x)\n",
    "\n",
    "# print out number of missing values in key column\n",
    "print('after', new_data_with_key_filled_in.value_counts())\n",
    "\n"
   ]
  },
  {
   "cell_type": "code",
   "execution_count": 123,
   "metadata": {},
   "outputs": [
    {
     "data": {
      "image/png": "[encoded data removed]",
      "text/plain": [
       "<Figure size 640x480 with 1 Axes>"
      ]
     },
     "metadata": {},
     "output_type": "display_data"
    }
   ],
   "source": [
    "'''Explore BPM data'''\n",
    "import matplotlib.pyplot as plt\n",
    "\n",
    "raw_data.boxplot(column='bpm', vert=False)\n",
    "plt.show()\n",
    "raw_data['bpm'].describe()"
   ]
  },
  {
   "cell_type": "code",
   "execution_count": 129,
   "metadata": {},
   "outputs": [
    {
     "data": {
      "image/png": "[encoded data removed]",
      "text/plain": [
       "<Figure size 640x480 with 1 Axes>"
      ]
     },
     "metadata": {},
     "output_type": "display_data"
    },
    {
     "data": {
      "text/plain": [
       "count   953.00\n",
       "mean     66.97\n",
       "std      14.63\n",
       "min      23.00\n",
       "25%      57.00\n",
       "50%      69.00\n",
       "75%      78.00\n",
       "max      96.00\n",
       "Name: danceability_%, dtype: float64"
      ]
     },
     "execution_count": 129,
     "metadata": {},
     "output_type": "execute_result"
    }
   ],
   "source": [
    "raw_data['danceability_%'].plot(kind='hist', title='Distribution by key')\n",
    "plt.show()\n",
    "raw_data['danceability_%'].describe()"
   ]
  }
 ],
 "metadata": {
  "kernelspec": {
   "display_name": "Python 3 (ipykernel)",
   "language": "python",
   "name": "python3"
  },
  "language_info": {
   "codemirror_mode": {
    "name": "ipython",
    "version": 3
   },
   "file_extension": ".py",
   "mimetype": "text/x-python",
   "name": "python",
   "nbconvert_exporter": "python",
   "pygments_lexer": "ipython3",
   "version": "3.11.5"
  }
 },
 "nbformat": 4,
 "nbformat_minor": 2
}
