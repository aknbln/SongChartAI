{
 "cells": [
  {
   "cell_type": "markdown",
   "metadata": {},
   "source": [
    "Names: Aman Tewari, Ebaad Imran, Akin Bilen, Jake Medina "
   ]
  },
  {
   "cell_type": "markdown",
   "metadata": {},
   "source": [
    "We have two main goals for this project, we will first attempt to predict where songs rank on the apple charts based on selected features. We want to approach this as a classification problem, as we care less about the exact ranking of a song, and more about how relatively popular it is going to be on the charts. Thus, we will split Apple rankings into 5 classes, apple_chart_category_276+,\tapple_chart_category_1-50, apple_chart_category_51-100, apple_chart_category_101-200, apple_chart_category_201-275, and attempt to predict which class a given song falls under. \n",
    "\n",
    "We specifically chose the apple chart because it appears to be a chart that doesn't only rank based on number of streams, the first cell of part 2 demostrates that there is only a rougly .38 correlation between average_streams_per_year and ranking, implying there are other factors that apple chooses to use to rank songs, and we want to explore what they are, or at least what we need to predict them. \n",
    "\n",
    "The second goal of the project is much more ambitious, we wish to predict roughly the stream count of a song based on only features that would be given pre-release, i.e. we can't use features like in_spotify_playlists which describes how many spotify playlists contain the song. This would be very useful because it would create a model that producer could use to engineer a song that is \"supposed\" to top charts and honestly probably what happens in the industry today. Note: we chose streams rather than avg_streams_per_year because we have a date associated with our data, so it's interesting to use that, and if a song is in this dataset and older than a couple years it was probably a good example of a song that has stayed relevant over time which makes our predictions more accurate. Of course, we would need much more training data to do this with a hypothetical song, but it's a good proof of concept.\n",
    "\n",
    "For fun we added a third goal, attempting to see if we could guess the \"stream_ranking\" of a song using all the features except streams, but of course this is a much easier task, and we can use a simple regression.\n"
   ]
  },
  {
   "cell_type": "markdown",
   "metadata": {},
   "source": [
    "Part 1: Data Collection and Cleanup"
   ]
  },
  {
   "cell_type": "code",
   "execution_count": 62,
   "metadata": {},
   "outputs": [],
   "source": [
    "# ML Project\n",
    "\n",
    "# headers\n",
    "import numpy as np\n",
    "import pandas as pd\n",
    "import matplotlib.pyplot as plt\n",
    "from sklearn.preprocessing import StandardScaler, OneHotEncoder\n",
    "from sklearn.compose import ColumnTransformer\n",
    "from sklearn.pipeline import Pipeline, FeatureUnion"
   ]
  },
  {
   "cell_type": "code",
   "execution_count": 63,
   "metadata": {},
   "outputs": [
    {
     "name": "stdout",
     "output_type": "stream",
     "text": [
      "                            track_name    artist(s)_name  artist_count  \\\n",
      "0  Seven (feat. Latto) (Explicit Ver.)  Latto, Jung Kook             2   \n",
      "1                                 LALA       Myke Towers             1   \n",
      "2                              vampire    Olivia Rodrigo             1   \n",
      "3                         Cruel Summer      Taylor Swift             1   \n",
      "4                       WHERE SHE GOES         Bad Bunny             1   \n",
      "\n",
      "   released_year  released_month  released_day  in_spotify_playlists  \\\n",
      "0           2023               7            14                   553   \n",
      "1           2023               3            23                  1474   \n",
      "2           2023               6            30                  1397   \n",
      "3           2019               8            23                  7858   \n",
      "4           2023               5            18                  3133   \n",
      "\n",
      "   in_spotify_charts    streams  in_apple_playlists  ...  bpm key   mode  \\\n",
      "0                147  141381703                  43  ...  125   B  Major   \n",
      "1                 48  133716286                  48  ...   92  C#  Major   \n",
      "2                113  140003974                  94  ...  138   F  Major   \n",
      "3                100  800840817                 116  ...  170   A  Major   \n",
      "4                 50  303236322                  84  ...  144   A  Minor   \n",
      "\n",
      "  danceability_%  valence_% energy_% acousticness_%  instrumentalness_%  \\\n",
      "0             80         89       83             31                   0   \n",
      "1             71         61       74              7                   0   \n",
      "2             51         32       53             17                   0   \n",
      "3             55         58       72             11                   0   \n",
      "4             65         23       80             14                  63   \n",
      "\n",
      "   liveness_%  speechiness_%  \n",
      "0           8              4  \n",
      "1          10              4  \n",
      "2          31              6  \n",
      "3          11             15  \n",
      "4          11              6  \n",
      "\n",
      "[5 rows x 24 columns]\n"
     ]
    }
   ],
   "source": [
    "raw_data = pd.read_csv(\"spotify-2023.csv\", skipinitialspace = True)\n",
    "# raw_data.drop(raw_data['in_shazam_charts'], axis=1, inplace=True)\n",
    "print(raw_data.head())"
   ]
  },
  {
   "cell_type": "code",
   "execution_count": 64,
   "metadata": {},
   "outputs": [
    {
     "name": "stdout",
     "output_type": "stream",
     "text": [
      "<class 'pandas.core.frame.DataFrame'>\n",
      "RangeIndex: 953 entries, 0 to 952\n",
      "Data columns (total 24 columns):\n",
      " #   Column                Non-Null Count  Dtype \n",
      "---  ------                --------------  ----- \n",
      " 0   track_name            953 non-null    object\n",
      " 1   artist(s)_name        953 non-null    object\n",
      " 2   artist_count          953 non-null    int64 \n",
      " 3   released_year         953 non-null    int64 \n",
      " 4   released_month        953 non-null    int64 \n",
      " 5   released_day          953 non-null    int64 \n",
      " 6   in_spotify_playlists  953 non-null    int64 \n",
      " 7   in_spotify_charts     953 non-null    int64 \n",
      " 8   streams               953 non-null    int64 \n",
      " 9   in_apple_playlists    953 non-null    int64 \n",
      " 10  in_apple_charts       953 non-null    int64 \n",
      " 11  in_deezer_playlists   953 non-null    object\n",
      " 12  in_deezer_charts      953 non-null    int64 \n",
      " 13  in_shazam_charts      903 non-null    object\n",
      " 14  bpm                   953 non-null    int64 \n",
      " 15  key                   858 non-null    object\n",
      " 16  mode                  953 non-null    object\n",
      " 17  danceability_%        953 non-null    int64 \n",
      " 18  valence_%             953 non-null    int64 \n",
      " 19  energy_%              953 non-null    int64 \n",
      " 20  acousticness_%        953 non-null    int64 \n",
      " 21  instrumentalness_%    953 non-null    int64 \n",
      " 22  liveness_%            953 non-null    int64 \n",
      " 23  speechiness_%         953 non-null    int64 \n",
      "dtypes: int64(18), object(6)\n",
      "memory usage: 178.8+ KB\n",
      "None\n",
      "track_name               0\n",
      "artist(s)_name           0\n",
      "artist_count             0\n",
      "released_year            0\n",
      "released_month           0\n",
      "released_day             0\n",
      "in_spotify_playlists     0\n",
      "in_spotify_charts        0\n",
      "streams                  0\n",
      "in_apple_playlists       0\n",
      "in_apple_charts          0\n",
      "in_deezer_playlists      0\n",
      "in_deezer_charts         0\n",
      "in_shazam_charts        50\n",
      "bpm                      0\n",
      "key                     95\n",
      "mode                     0\n",
      "danceability_%           0\n",
      "valence_%                0\n",
      "energy_%                 0\n",
      "acousticness_%           0\n",
      "instrumentalness_%       0\n",
      "liveness_%               0\n",
      "speechiness_%            0\n",
      "dtype: int64\n"
     ]
    }
   ],
   "source": [
    "print(raw_data.info())\n",
    "\n",
    "# let's check for missing values\n",
    "missing_values = raw_data.isna().sum()\n",
    "print(missing_values)\n",
    "\n"
   ]
  },
  {
   "cell_type": "code",
   "execution_count": 65,
   "metadata": {},
   "outputs": [
    {
     "data": {
      "text/plain": [
       "track_name                0\n",
       "artist(s)_name            0\n",
       "artist_count              0\n",
       "released_year             0\n",
       "released_month            0\n",
       "released_day              0\n",
       "in_spotify_playlists      0\n",
       "in_spotify_charts       405\n",
       "streams                   0\n",
       "in_apple_playlists       23\n",
       "in_apple_charts         100\n",
       "in_deezer_playlists       0\n",
       "in_deezer_charts        558\n",
       "in_shazam_charts          0\n",
       "bpm                       0\n",
       "key                       0\n",
       "mode                      0\n",
       "danceability_%            0\n",
       "valence_%                 0\n",
       "energy_%                  0\n",
       "acousticness_%           60\n",
       "instrumentalness_%      866\n",
       "liveness_%                0\n",
       "speechiness_%             0\n",
       "dtype: int64"
      ]
     },
     "execution_count": 65,
     "metadata": {},
     "output_type": "execute_result"
    }
   ],
   "source": [
    "# it seems that there are some blank values in the shazam_charts column.\n",
    "# let's check how many values have a value 0\n",
    "\n",
    "zero_counts = (raw_data == 0).sum()\n",
    "zero_counts "
   ]
  },
  {
   "cell_type": "code",
   "execution_count": 66,
   "metadata": {},
   "outputs": [
    {
     "name": "stdout",
     "output_type": "stream",
     "text": [
      "147 58 275\n"
     ]
    }
   ],
   "source": [
    "max_values_spot = raw_data['in_spotify_charts'].max()\n",
    "max_values_deez = raw_data['in_deezer_charts'].max()\n",
    "max_values_app = raw_data['in_apple_charts'].max()\n",
    "print(max_values_spot, max_values_deez, max_values_app)"
   ]
  },
  {
   "cell_type": "code",
   "execution_count": 67,
   "metadata": {},
   "outputs": [
    {
     "name": "stdout",
     "output_type": "stream",
     "text": [
      "888\n",
      "0\n",
      "0\n",
      "0\n"
     ]
    }
   ],
   "source": [
    "# print out rows that have 0 in Apple, Spotify, AND Deezer charts. That is bad.\n",
    "\n",
    "# a mirror of all of the records\n",
    "# the value is false if it doesn't meet the condition\n",
    "# the value is true otherwise\n",
    "all_zero_chart_rankings = ((raw_data['in_spotify_charts'] == 0) & (raw_data['in_deezer_charts'] == 0) & (raw_data['in_apple_charts'] == 0))\n",
    "\n",
    "# print(all_zero_chart_rankings)\n",
    "print((all_zero_chart_rankings == False).sum())\n",
    "\n",
    "# only print rows of raw_data where the matching row from all_zero_chart_rankings is True\n",
    "filtered_df = raw_data[all_zero_chart_rankings]\n",
    "# print(filtered_df)  # 0 rows\n",
    "print(filtered_df['in_spotify_charts'].sum())  # 0'])\n",
    "print(filtered_df['in_deezer_charts'].sum())  # 0'])\n",
    "print(filtered_df['in_apple_charts'].sum())  # 0']) \n",
    "\n",
    "\n",
    "# There are 65 records in total that have 0 in all three charts.\n",
    "\n",
    "# We can try to weigh charts with the total missing values for each chart.\n",
    "# We can try to "
   ]
  },
  {
   "cell_type": "code",
   "execution_count": 68,
   "metadata": {},
   "outputs": [
    {
     "name": "stdout",
     "output_type": "stream",
     "text": [
      "888\n",
      "                                  track_name                artist(s)_name  \\\n",
      "29   Dance The Night (From Barbie The Album)                      Dua Lipa   \n",
      "47                               Die For You                    The Weeknd   \n",
      "53              (It Goes Like) Nanana - Edit                     Peggy Gou   \n",
      "62   Left and Right (Feat. Jung Kook of BTS)  Charlie Puth, BTS, Jung Kook   \n",
      "66                                     Karma                  Taylor Swift   \n",
      "..                                       ...                           ...   \n",
      "947                            The Great War                  Taylor Swift   \n",
      "948                             My Mind & Me                  Selena Gomez   \n",
      "949                Bigger Than The Whole Sky                  Taylor Swift   \n",
      "950                     A Veces (feat. Feid)            Feid, Paulo Londra   \n",
      "951                            En La De Ella            Feid, Sech, Jhayco   \n",
      "\n",
      "     artist_count  released_year  released_month  released_day  \\\n",
      "29              1           2023               5            25   \n",
      "47              1           2016              11            24   \n",
      "53              1           2023               6            15   \n",
      "62              3           2022               6            24   \n",
      "66              1           2022              10            21   \n",
      "..            ...            ...             ...           ...   \n",
      "947             1           2022              10            21   \n",
      "948             1           2022              11             3   \n",
      "949             1           2022              10            21   \n",
      "950             2           2022              11             3   \n",
      "951             3           2022              10            20   \n",
      "\n",
      "     in_spotify_playlists  in_spotify_charts     streams  in_apple_playlists  \\\n",
      "29                   2988                101   127408954                   0   \n",
      "47                   2483                 59  1647990401                  68   \n",
      "53                   2259                 59    57876440                   0   \n",
      "62                   3107                 39   720434240                  38   \n",
      "66                   3818                 23   404562836                  37   \n",
      "..                    ...                ...         ...                 ...   \n",
      "947                  1274                  0   181382590                   1   \n",
      "948                   953                  0    91473363                  61   \n",
      "949                  1180                  0   121871870                   4   \n",
      "950                   573                  0    73513683                   2   \n",
      "951                  1320                  0   133895612                  29   \n",
      "\n",
      "     ...  bpm key   mode danceability_%  valence_% energy_% acousticness_%  \\\n",
      "29   ...  110   B  Minor             67         78       85              2   \n",
      "47   ...  134  C#  Minor             59         51       52              9   \n",
      "53   ...  130   G  Minor             67         96       88             12   \n",
      "62   ...  101   D  Major             88         72       59             62   \n",
      "66   ...   90  G#  Major             64         10       62              7   \n",
      "..   ...  ...  ..    ...            ...        ...      ...            ...   \n",
      "947  ...   96   F  Major             57         55       74             22   \n",
      "948  ...  144   A  Major             60         24       39             57   \n",
      "949  ...  166  F#  Major             42          7       24             83   \n",
      "950  ...   92  C#  Major             80         81       67              4   \n",
      "951  ...   97  C#  Major             82         67       77              8   \n",
      "\n",
      "     instrumentalness_%  liveness_%  speechiness_%  \n",
      "29                    0          33              5  \n",
      "47                    0          15              7  \n",
      "53                   19           8              4  \n",
      "62                    0           9              3  \n",
      "66                    0          48              7  \n",
      "..                  ...         ...            ...  \n",
      "947                   0           8              4  \n",
      "948                   0           8              3  \n",
      "949                   1          12              6  \n",
      "950                   0           8              6  \n",
      "951                   0          12              5  \n",
      "\n",
      "[627 rows x 24 columns]\n",
      "405\n",
      "558\n",
      "100\n"
     ]
    }
   ],
   "source": [
    "\n",
    "some_zero_chart_rankings = ((raw_data['in_spotify_charts'] == 0) | (raw_data['in_deezer_charts'] == 0) | (raw_data['in_apple_charts'] == 0))\n",
    "print((all_zero_chart_rankings == 0).sum())\n",
    "filtered_df = raw_data[some_zero_chart_rankings]\n",
    "print(filtered_df)  # 0 rows\n",
    "print((filtered_df['in_spotify_charts'] == 0).sum())  # 0'])\n",
    "print((filtered_df['in_deezer_charts']== 0).sum())  # 0'])\n",
    "print((filtered_df['in_apple_charts'] == 0).sum())  # 0']) \n",
    "\n",
    "# There are 627(includes 65 records that have no ranking) records in total that are missing at least one ranking from the Spotify, Deezer, or Apple charts.\n",
    "\n",
    "# TODO: We did not include Shazam charts in this analysis. We should include Shazam charts in this analysis.\n",
    "# There are no MISSING values in Spotify, Deezer, Apple charts, BUT there are 50 missing values in Shazam charts so we have to remember to add those in"
   ]
  },
  {
   "cell_type": "code",
   "execution_count": 69,
   "metadata": {},
   "outputs": [
    {
     "name": "stdout",
     "output_type": "stream",
     "text": [
      "953\n",
      "0      summer\n",
      "1      spring\n",
      "2      summer\n",
      "3      summer\n",
      "4      spring\n",
      "        ...  \n",
      "948      fall\n",
      "949      fall\n",
      "950      fall\n",
      "951      fall\n",
      "952      fall\n",
      "Name: season, Length: 953, dtype: object\n",
      "season\n",
      "spring    280\n",
      "winter    270\n",
      "fall      209\n",
      "summer    194\n",
      "Name: count, dtype: int64\n"
     ]
    }
   ],
   "source": [
    "\"\"\"\n",
    "Add season column as a new feature\n",
    "\"\"\"\n",
    "print(len(raw_data))\n",
    "seasons = []\n",
    "# print(len(raw_data.iterrows()))\n",
    "for index,row in raw_data.iterrows():\n",
    "    if row['released_month'] in [12,1,2]:\n",
    "        seasons.append('winter')\n",
    "    elif row['released_month'] in [3,4,5]:\n",
    "        seasons.append('spring')\n",
    "    elif row['released_month'] in [6,7,8]:\n",
    "        seasons.append('summer')\n",
    "    elif row['released_month'] in [9,10,11]:\n",
    "        seasons.append('fall')\n",
    "    else:\n",
    "        seasons.append('unknown')\n",
    "\n",
    "raw_data['season'] = seasons\n",
    "print(raw_data['season'])\n",
    "print(raw_data['season'].value_counts())"
   ]
  },
  {
   "cell_type": "code",
   "execution_count": 70,
   "metadata": {},
   "outputs": [
    {
     "name": "stdout",
     "output_type": "stream",
     "text": [
      "                                        track_name  \\\n",
      "55                                 Blinding Lights   \n",
      "179                                   Shape of You   \n",
      "86                               Someone You Loved   \n",
      "620                                   Dance Monkey   \n",
      "41   Sunflower - Spider-Man: Into the Spider-Verse   \n",
      "162                                      One Dance   \n",
      "84                       STAY (with Justin Bieber)   \n",
      "140                                       Believer   \n",
      "725                                         Closer   \n",
      "48                                         Starboy   \n",
      "138                                        Perfect   \n",
      "71                                      Heat Waves   \n",
      "14                                       As It Was   \n",
      "693                                          Se��o   \n",
      "324                           Say You Won't Let Go   \n",
      "128                           lovely - Bonus Track   \n",
      "127                               Watermelon Sugar   \n",
      "407                                Don't Start Now   \n",
      "621                                   Lucid Dreams   \n",
      "73                                 Sweater Weather   \n",
      "\n",
      "                   artist(s)_name     streams  stream_ranking  \n",
      "55                     The Weeknd  3703895074               1  \n",
      "179                    Ed Sheeran  3562543890               2  \n",
      "86                  Lewis Capaldi  2887241814               3  \n",
      "620                   Tones and I  2864791672               4  \n",
      "41          Post Malone, Swae Lee  2808096550               5  \n",
      "162           Drake, WizKid, Kyla  2713922350               6  \n",
      "84   Justin Bieber, The Kid Laroi  2665343922               7  \n",
      "140               Imagine Dragons  2594040133               8  \n",
      "725      The Chainsmokers, Halsey  2591224264               9  \n",
      "48          The Weeknd, Daft Punk  2565529693              10  \n",
      "138                    Ed Sheeran  2559529074              11  \n",
      "71                  Glass Animals  2557975762              12  \n",
      "14                   Harry Styles  2513188493              13  \n",
      "693  Shawn Mendes, Camila Cabello  2484812918              14  \n",
      "324                  James Arthur  2420461338              15  \n",
      "128         Billie Eilish, Khalid  2355719893              16  \n",
      "127                  Harry Styles  2322580122              17  \n",
      "407                      Dua Lipa  2303033973              18  \n",
      "621                    Juice WRLD  2288695111              19  \n",
      "73              The Neighbourhood  2282771485              20  \n"
     ]
    }
   ],
   "source": [
    "\"\"\"\n",
    "Add ranking column\n",
    "\"\"\"\n",
    "raw_data['stream_ranking'] = raw_data['streams'].rank(ascending=False).astype(int)\n",
    "print((raw_data[['track_name', 'artist(s)_name', 'streams', 'stream_ranking']]).sort_values(by='stream_ranking').head(20))"
   ]
  },
  {
   "cell_type": "code",
   "execution_count": 71,
   "metadata": {},
   "outputs": [
    {
     "name": "stdout",
     "output_type": "stream",
     "text": [
      "                                track_name  released_year     streams  \\\n",
      "12                                 Flowers           2023  1316855716   \n",
      "14                               As It Was           2022  2513188493   \n",
      "84               STAY (with Justin Bieber)           2021  2665343922   \n",
      "55                         Blinding Lights           2019  3703895074   \n",
      "6                          Ella Baila Sola           2023   725980112   \n",
      "133  Shakira: Bzrp Music Sessions, Vol. 53           2023   721975598   \n",
      "87                         Me Porto Bonito           2022  1440757818   \n",
      "74   Quevedo: Bzrp Music Sessions, Vol. 52           2022  1356565093   \n",
      "71                              Heat Waves           2020  2557975762   \n",
      "192                       Titi Me Pregunt�           2022  1264310836   \n",
      "513                               good 4 u           2021  1887039593   \n",
      "535                        drivers license           2021  1858144199   \n",
      "34                                     TQG           2023   618990393   \n",
      "77               Unholy (feat. Kim Petras)           2022  1230675890   \n",
      "57                              La Bachata           2022  1214083358   \n",
      "410      INDUSTRY BABY (feat. Jack Harlow)           2021  1814349763   \n",
      "15                               Kill Bill           2022  1163093654   \n",
      "620                           Dance Monkey           2019  2864791672   \n",
      "146                          Ojitos Lindos           2022  1133865788   \n",
      "42                         I'm Good (Blue)           2022  1109433169   \n",
      "\n",
      "     average_streams_per_year  \n",
      "12              1316855716.00  \n",
      "14              1256594246.50  \n",
      "84               888447974.00  \n",
      "55               740779014.80  \n",
      "6                725980112.00  \n",
      "133              721975598.00  \n",
      "87               720378909.00  \n",
      "74               678282546.50  \n",
      "71               639493940.50  \n",
      "192              632155418.00  \n",
      "513              629013197.67  \n",
      "535              619381399.67  \n",
      "34               618990393.00  \n",
      "77               615337945.00  \n",
      "57               607041679.00  \n",
      "410              604783254.33  \n",
      "15               581546827.00  \n",
      "620              572958334.40  \n",
      "146              566932894.00  \n",
      "42               554716584.50  \n"
     ]
    }
   ],
   "source": [
    "\"\"\"Add average streams per year column, this should be helpful on comparing songs that were released in different years, but not overall ranking\"\"\"\n",
    "\"\"\"\"Now newers songs that haven't had as much time to accumulate strings get more presence in the ranking.\"\"\"\"\"\n",
    "raw_data['average_streams_per_year'] = raw_data['streams'] / (2024 - raw_data['released_year'])\n",
    "pd.options.display.float_format = '{:.2f}'.format\n",
    "print((raw_data[['track_name', 'released_year', 'streams', 'average_streams_per_year']]).sort_values(by='average_streams_per_year', ascending=False).head(20))"
   ]
  },
  {
   "cell_type": "code",
   "execution_count": 72,
   "metadata": {},
   "outputs": [
    {
     "name": "stdout",
     "output_type": "stream",
     "text": [
      "bpm_category\n",
      "3    338\n",
      "1    308\n",
      "2    307\n",
      "Name: count, dtype: int64\n"
     ]
    }
   ],
   "source": [
    "\"\"\"\"Bin bpm into 3 categories: slow, medium, fast(Thresholds were determined by general bpm differentiation across genres)\"\"\"\n",
    "bpm_col = raw_data['bpm']\n",
    "bpm_bins = [0, 105, 130, 300]\n",
    "bpm_labels = [1, 2, 3]\n",
    "raw_data['bpm_category'] = pd.cut(x =bpm_col, bins=bpm_bins, labels=bpm_labels)\n",
    "\n",
    "\n",
    "# DELETE raw_data['bpm'] ?? \n",
    "# raw_data.drop(['bpm'], axis=1, inplace=True)\n",
    "print(raw_data['bpm_category'].value_counts())"
   ]
  },
  {
   "cell_type": "code",
   "execution_count": 73,
   "metadata": {},
   "outputs": [
    {
     "name": "stdout",
     "output_type": "stream",
     "text": [
      "charted_on_spotify\n",
      "True     548\n",
      "False    405\n",
      "Name: count, dtype: int64\n"
     ]
    }
   ],
   "source": [
    "'''Spotify charts: binary label, 1 for in charts, 0 for not in charts\n",
    "This can be used as an alternative class label.\n",
    "We are using this label because we are trying to predict whether a song will be charted on Spotify\n",
    "'''\n",
    "\n",
    "# all zero values indicate that a song was not charted\n",
    "\n",
    "# create a new column called charted_on_spotify\n",
    "\n",
    "charted_on_spotify = raw_data['in_spotify_charts'] != 0\n",
    "raw_data['charted_on_spotify'] = charted_on_spotify\n",
    "print(raw_data['charted_on_spotify'].value_counts())"
   ]
  },
  {
   "cell_type": "code",
   "execution_count": 74,
   "metadata": {},
   "outputs": [
    {
     "name": "stdout",
     "output_type": "stream",
     "text": [
      "class_label_apple_chart_category\n",
      "1    439\n",
      "2    243\n",
      "3    158\n",
      "5    100\n",
      "4     13\n",
      "Name: count, dtype: int64\n",
      "                            track_name    artist(s)_name  artist_count  \\\n",
      "0  Seven (feat. Latto) (Explicit Ver.)  Latto, Jung Kook             2   \n",
      "1                                 LALA       Myke Towers             1   \n",
      "2                              vampire    Olivia Rodrigo             1   \n",
      "3                         Cruel Summer      Taylor Swift             1   \n",
      "4                       WHERE SHE GOES         Bad Bunny             1   \n",
      "\n",
      "   released_year  released_month  released_day  in_spotify_playlists  \\\n",
      "0           2023               7            14                   553   \n",
      "1           2023               3            23                  1474   \n",
      "2           2023               6            30                  1397   \n",
      "3           2019               8            23                  7858   \n",
      "4           2023               5            18                  3133   \n",
      "\n",
      "   in_spotify_charts    streams  in_apple_playlists  ...  acousticness_%  \\\n",
      "0                147  141381703                  43  ...              31   \n",
      "1                 48  133716286                  48  ...               7   \n",
      "2                113  140003974                  94  ...              17   \n",
      "3                100  800840817                 116  ...              11   \n",
      "4                 50  303236322                  84  ...              14   \n",
      "\n",
      "  instrumentalness_%  liveness_% speechiness_%  season stream_ranking  \\\n",
      "0                  0           8             4  summer            716   \n",
      "1                  0          10             4  spring            738   \n",
      "2                  0          31             6  summer            719   \n",
      "3                  0          11            15  summer            196   \n",
      "4                 63          11             6  spring            458   \n",
      "\n",
      "  average_streams_per_year  bpm_category  charted_on_spotify  \\\n",
      "0             141381703.00             2                True   \n",
      "1             133716286.00             1                True   \n",
      "2             140003974.00             3                True   \n",
      "3             160168163.40             3                True   \n",
      "4             303236322.00             3                True   \n",
      "\n",
      "   class_label_apple_chart_category  \n",
      "0                                 4  \n",
      "1                                 3  \n",
      "2                                 4  \n",
      "3                                 4  \n",
      "4                                 3  \n",
      "\n",
      "[5 rows x 30 columns]\n"
     ]
    }
   ],
   "source": [
    "'''Apple charts: binned, 1-100, 101-200, 201-275, 276+'''\n",
    "'''This could also be used as a class label, or a feature'''\n",
    "\n",
    "# we are assuming that every row with an \"in_apple_charts\" value of 0 is a song that didn't make the top 275 charts\n",
    "# initially the bins were 1-100, 101-200, 201-275, 276+ and the result is:\n",
    "'''1-100      677\n",
    "   101-200    163\n",
    "   276+       100\n",
    "   201-275     13'''\n",
    "\n",
    "# Because the 1-100 bin has the most values, we are going to change the bins to 1-50, 51-100, 101-200, 201-275, 276+\n",
    "# So that the bins are less skewed\n",
    "apple_chart_bins = [-1, 0, 51, 101, 201, 276]\n",
    "apple_chart_labels = [ 5, 1, 2, 3, 4]\n",
    "raw_data['class_label_apple_chart_category'] = pd.cut(x = raw_data['in_apple_charts'], bins=apple_chart_bins, labels=apple_chart_labels)\n",
    "\n",
    "print(raw_data['class_label_apple_chart_category'].value_counts())\n",
    "\n",
    "# one-hot encode the apple_chart_category column\n",
    "\n",
    "#raw_data = pd.get_dummies(raw_data, columns=['apple_chart_category'])\n",
    "print(raw_data.head())"
   ]
  },
  {
   "cell_type": "code",
   "execution_count": 75,
   "metadata": {},
   "outputs": [
    {
     "name": "stdout",
     "output_type": "stream",
     "text": [
      "key\n",
      "C#   0.14\n",
      "G    0.25\n",
      "G#   0.36\n",
      "F    0.46\n",
      "B    0.56\n",
      "D    0.65\n",
      "A    0.74\n",
      "F#   0.82\n",
      "E    0.90\n",
      "A#   0.96\n",
      "D#   1.00\n",
      "Name: count, dtype: float64\n",
      "before key\n",
      "C#    120\n",
      "G      96\n",
      "G#     91\n",
      "F      89\n",
      "B      81\n",
      "D      81\n",
      "A      75\n",
      "F#     73\n",
      "E      62\n",
      "A#     57\n",
      "D#     33\n",
      "Name: count, dtype: int64\n",
      "after key\n",
      "C#    133\n",
      "G     104\n",
      "F     103\n",
      "G#     99\n",
      "B      91\n",
      "D      91\n",
      "A      90\n",
      "F#     80\n",
      "E      63\n",
      "A#     61\n",
      "D#     38\n",
      "Name: count, dtype: int64\n"
     ]
    }
   ],
   "source": [
    "'''We have decided to fill in the missing values of the 'key' column based on\n",
    "the probability distribution of the 'keys' that exist in the data set.'''\n",
    "\n",
    "keys = raw_data['key'].dropna().unique()\n",
    "counts = raw_data['key'].value_counts()\n",
    "sums = raw_data['key'].value_counts().sum()\n",
    "counts = counts / sums\n",
    "for i in range(1,len(keys)):\n",
    "    counts.iloc[i] = counts.iloc[i] + counts.iloc[i-1]\n",
    "\n",
    "print(counts)\n",
    "\n",
    "import random\n",
    "# random number between 0 and 1\n",
    "\n",
    "# for each record with column value ['key'] that is n/a, choose a random number bewteen 0 and 1\n",
    "# set the key value to the corresponding key value in counts\n",
    "\n",
    "print('before', raw_data['key'].value_counts())\n",
    "\n",
    "def get_key(num):\n",
    "    for i in range(len(counts)):\n",
    "        if num < counts.iloc[i]:\n",
    "            return keys[i]\n",
    "    return keys[len(keys)-1]\n",
    "\n",
    "new_data_with_key_filled_in = raw_data['key'].apply(lambda x: get_key(random.uniform(0,1)) if pd.isna(x) else x)\n",
    "raw_data['key'] = new_data_with_key_filled_in\n",
    "\n",
    "# print out number of missing values in key column\n",
    "print('after', new_data_with_key_filled_in.value_counts())\n",
    "\n"
   ]
  },
  {
   "cell_type": "code",
   "execution_count": 76,
   "metadata": {},
   "outputs": [
    {
     "data": {
      "image/png": "[encoded data removed]",
      "text/plain": [
       "<Figure size 640x480 with 1 Axes>"
      ]
     },
     "metadata": {},
     "output_type": "display_data"
    },
    {
     "data": {
      "text/plain": [
       "count   953.00\n",
       "mean    122.40\n",
       "std      27.98\n",
       "min      65.00\n",
       "25%      99.00\n",
       "50%     120.00\n",
       "75%     140.00\n",
       "max     206.00\n",
       "Name: bpm, dtype: float64"
      ]
     },
     "execution_count": 76,
     "metadata": {},
     "output_type": "execute_result"
    }
   ],
   "source": [
    "'''Explore BPM data'''\n",
    "\n",
    "\n",
    "raw_data.boxplot(column='bpm', vert=False)\n",
    "plt.show()\n",
    "raw_data['bpm'].describe()"
   ]
  },
  {
   "cell_type": "code",
   "execution_count": 77,
   "metadata": {},
   "outputs": [
    {
     "data": {
      "image/png": "[encoded data removed]",
      "text/plain": [
       "<Figure size 640x480 with 1 Axes>"
      ]
     },
     "metadata": {},
     "output_type": "display_data"
    },
    {
     "data": {
      "text/plain": [
       "count   953.00\n",
       "mean     66.97\n",
       "std      14.63\n",
       "min      23.00\n",
       "25%      57.00\n",
       "50%      69.00\n",
       "75%      78.00\n",
       "max      96.00\n",
       "Name: danceability_%, dtype: float64"
      ]
     },
     "execution_count": 77,
     "metadata": {},
     "output_type": "execute_result"
    }
   ],
   "source": [
    "raw_data['danceability_%'].plot(kind='hist', title='Distribution by key')\n",
    "plt.show()\n",
    "raw_data['danceability_%'].describe()"
   ]
  },
  {
   "cell_type": "markdown",
   "metadata": {},
   "source": [
    "Part 2: Feature Engineering"
   ]
  },
  {
   "cell_type": "code",
   "execution_count": 78,
   "metadata": {},
   "outputs": [
    {
     "name": "stdout",
     "output_type": "stream",
     "text": [
      "Correlation between Streams and Apple Charts: 0.3829483122725129\n",
      "Correlation between Apple Playlists and Apple Charts: 0.41452330571208174\n"
     ]
    }
   ],
   "source": [
    "correlation = raw_data['average_streams_per_year'].corr(raw_data['in_apple_charts'])\n",
    "correlation2 = raw_data['in_apple_playlists'].corr(raw_data['in_apple_charts'])\n",
    "print(\"Correlation between Streams and Apple Charts:\", correlation)\n",
    "print(\"Correlation between Apple Playlists and Apple Charts:\", correlation2)\n",
    "#Justification of why we chose apple specifically, isn't soley based off streams/how many playlists have it"
   ]
  },
  {
   "cell_type": "code",
   "execution_count": 79,
   "metadata": {},
   "outputs": [],
   "source": [
    "# Drop data that doesn't matter to us or that we have already processed into a seperate feature or that doesn't matter to us (avg_streams_per_year) \n",
    "# because we have total streams and years since release\n",
    "useable_data = raw_data.copy()\n",
    "useable_data.drop(['in_shazam_charts','released_day', 'released_month', 'track_name', 'artist(s)_name','artist_count','bpm', \n",
    "'in_spotify_charts', 'in_apple_charts', 'in_deezer_charts', 'stream_ranking', 'average_streams_per_year', 'in_deezer_playlists'], axis=1, inplace=True)\n"
   ]
  },
  {
   "cell_type": "code",
   "execution_count": 80,
   "metadata": {},
   "outputs": [],
   "source": [
    "#useable_data.to_csv('my_data.csv', index=False) # sanity check to get an overview of the data"
   ]
  },
  {
   "cell_type": "markdown",
   "metadata": {},
   "source": [
    "Part 3: Classification"
   ]
  },
  {
   "cell_type": "code",
   "execution_count": 81,
   "metadata": {},
   "outputs": [
    {
     "name": "stdout",
     "output_type": "stream",
     "text": [
      "   released_year  in_spotify_playlists    streams  in_apple_playlists key  \\\n",
      "0           2023                   553  141381703                  43   B   \n",
      "1           2023                  1474  133716286                  48  C#   \n",
      "2           2023                  1397  140003974                  94   F   \n",
      "3           2019                  7858  800840817                 116   A   \n",
      "4           2023                  3133  303236322                  84   A   \n",
      "\n",
      "    mode  danceability_%  valence_%  energy_%  acousticness_%  \\\n",
      "0  Major              80         89        83              31   \n",
      "1  Major              71         61        74               7   \n",
      "2  Major              51         32        53              17   \n",
      "3  Major              55         58        72              11   \n",
      "4  Minor              65         23        80              14   \n",
      "\n",
      "   instrumentalness_%  liveness_%  speechiness_%  season bpm_category  \\\n",
      "0                   0           8              4  summer            2   \n",
      "1                   0          10              4  spring            1   \n",
      "2                   0          31              6  summer            3   \n",
      "3                   0          11             15  summer            3   \n",
      "4                  63          11              6  spring            3   \n",
      "\n",
      "   charted_on_spotify  \n",
      "0                True  \n",
      "1                True  \n",
      "2                True  \n",
      "3                True  \n",
      "4                True  \n"
     ]
    }
   ],
   "source": [
    "#Picking features for our classification problem\n",
    "classification_data = useable_data.copy()\n",
    "classification_labels_data = classification_data['class_label_apple_chart_category'].copy()\n",
    "classification_data.drop(['class_label_apple_chart_category'], axis=1, inplace=True)\n",
    "\n",
    "\n",
    "print(classification_data.head())\n",
    "# Doesn't do anything because of how standard scaler works\n",
    "# classification_data['released_year'] = abs(classification_data['released_year']-2023)\n",
    "# min_value = classification_data['released_year'].min()\n",
    "# max_value = classification_data['released_year'].max()\n",
    "\n",
    "# print(\"Minimum value in 'Numeric1' column:\", min_value)\n",
    "# print(\"Maximum value in 'Numeric1' column:\", max_value)\n",
    "\n"
   ]
  },
  {
   "cell_type": "code",
   "execution_count": 82,
   "metadata": {},
   "outputs": [
    {
     "name": "stdout",
     "output_type": "stream",
     "text": [
      "['key', 'mode', 'season']\n",
      "    0     1     2     3     4     5     6     7     8     9   ...   18   19  \\\n",
      "0 0.43 -0.59 -0.66 -0.29  0.89  1.60  1.13  0.15 -0.19 -0.75  ... 0.00 0.00   \n",
      "1 0.43 -0.47 -0.67 -0.23  0.28  0.41  0.59 -0.77 -0.19 -0.60  ... 0.00 0.00   \n",
      "2 0.43 -0.48 -0.66  0.30 -1.09 -0.83 -0.68 -0.39 -0.19  0.93  ... 1.00 0.00   \n",
      "3 0.07  0.34  0.51  0.56 -0.82  0.28  0.47 -0.62 -0.19 -0.53  ... 0.00 0.00   \n",
      "4 0.43 -0.26 -0.37  0.19 -0.13 -1.21  0.95 -0.50  7.31 -0.53  ... 0.00 0.00   \n",
      "\n",
      "    20   21   22   23   24   25   26   27  \n",
      "0 0.00 0.00 1.00 0.00 0.00 0.00 1.00 0.00  \n",
      "1 0.00 0.00 1.00 0.00 0.00 1.00 0.00 0.00  \n",
      "2 0.00 0.00 1.00 0.00 0.00 0.00 1.00 0.00  \n",
      "3 0.00 0.00 1.00 0.00 0.00 0.00 1.00 0.00  \n",
      "4 0.00 0.00 0.00 1.00 0.00 1.00 0.00 0.00  \n",
      "\n",
      "[5 rows x 28 columns]\n",
      "(953, 28)\n"
     ]
    },
    {
     "name": "stderr",
     "output_type": "stream",
     "text": [
      "C:\\Users\\amana\\AppData\\Local\\Packages\\PythonSoftwareFoundation.Python.3.11_qbz5n2kfra8p0\\LocalCache\\local-packages\\Python311\\site-packages\\sklearn\\preprocessing\\_encoders.py:975: FutureWarning: `sparse` was renamed to `sparse_output` in version 1.2 and will be removed in 1.4. `sparse_output` is ignored unless you leave `sparse` to its default value.\n",
      "  warnings.warn(\n"
     ]
    }
   ],
   "source": [
    "# One hot encoding our data and normalizing our data\n",
    "\n",
    "categorical_cols = list(classification_data.select_dtypes(include=['object']).columns)\n",
    "numeric_cols = list(classification_data.select_dtypes(include=['int64', 'float64']).columns)\n",
    "print(categorical_cols)\n",
    "numeric_pipeline = Pipeline(steps=[\n",
    "    ('scaler', StandardScaler())\n",
    "])\n",
    "\n",
    "categorical_pipeline = Pipeline(steps=[\n",
    "    ('onehot', OneHotEncoder(sparse=False))  # Set sparse_output to False\n",
    "])\n",
    "\n",
    "preprocessor = ColumnTransformer(\n",
    "    transformers=[\n",
    "        ('num', numeric_pipeline, numeric_cols),\n",
    "        ('cat', categorical_pipeline, categorical_cols)\n",
    "    ])\n",
    "\n",
    "processed_data = preprocessor.fit_transform(classification_data)\n",
    "\n",
    "processed_df = pd.DataFrame(processed_data)\n",
    "print(processed_df.head())\n",
    "print(processed_df.shape)\n",
    "processed_df.to_csv('processed_df.csv', index=False) # sanity check to get an overview of the data"
   ]
  },
  {
   "cell_type": "markdown",
   "metadata": {},
   "source": [
    "Decision Trees"
   ]
  },
  {
   "cell_type": "code",
   "execution_count": 83,
   "metadata": {},
   "outputs": [
    {
     "name": "stdout",
     "output_type": "stream",
     "text": [
      "Accuracy on test set: 0.41361256544502617\n",
      "Cross-validation scores: [0.29319372 0.40314136 0.34031414 0.49473684 0.52105263]\n",
      "Mean cross-validation score: 0.41048773766877933\n"
     ]
    }
   ],
   "source": [
    "#Normal Decision Tree\n",
    "from sklearn.model_selection import train_test_split, cross_val_score\n",
    "from sklearn.tree import DecisionTreeClassifier\n",
    "\n",
    "\n",
    "\n",
    "X_train, X_test, y_train, y_test = train_test_split(processed_df, classification_labels_data, test_size=0.2)\n",
    "\n",
    "clf = DecisionTreeClassifier(max_depth=5, min_samples_split=2)\n",
    "clf.fit(X_train, y_train)\n",
    "\n",
    "accuracy = clf.score(X_test, y_test)\n",
    "print(\"Accuracy on test set:\", accuracy)\n",
    "\n",
    "cross_val_scores = cross_val_score(clf, processed_df, classification_labels_data, cv=5)\n",
    "print(\"Cross-validation scores:\", cross_val_scores)\n",
    "print(\"Mean cross-validation score:\", cross_val_scores.mean())\n"
   ]
  },
  {
   "cell_type": "code",
   "execution_count": 84,
   "metadata": {},
   "outputs": [
    {
     "name": "stdout",
     "output_type": "stream",
     "text": [
      "Accuracy on test set: 0.450261780104712\n",
      "Cross-validation scores: [0.45549738 0.44502618 0.39790576 0.47368421 0.47368421]\n",
      "Mean cross-validation score: 0.44915954808487185\n"
     ]
    }
   ],
   "source": [
    "#Random Forest Ensemble\n",
    "from sklearn.ensemble import RandomForestClassifier\n",
    "\n",
    "\n",
    "X_train, X_test, y_train, y_test = train_test_split(processed_df, classification_labels_data, test_size=0.2)\n",
    "clf = RandomForestClassifier(n_estimators=100)\n",
    "clf.fit(X_train, y_train)\n",
    "\n",
    "accuracy = clf.score(X_test, y_test)\n",
    "print(\"Accuracy on test set:\", accuracy)\n",
    "\n",
    "cross_val_scores = cross_val_score(clf, processed_df, classification_labels_data, cv=5)\n",
    "print(\"Cross-validation scores:\", cross_val_scores)\n",
    "print(\"Mean cross-validation score:\", cross_val_scores.mean())\n"
   ]
  },
  {
   "cell_type": "code",
   "execution_count": 85,
   "metadata": {},
   "outputs": [
    {
     "name": "stdout",
     "output_type": "stream",
     "text": [
      "Accuracy on test set: 0.4031413612565445\n",
      "Cross-validation scores: [0.32460733 0.34554974 0.29842932 0.5        0.53157895]\n",
      "Mean cross-validation score: 0.4000330669605952\n"
     ]
    }
   ],
   "source": [
    "from sklearn.ensemble import AdaBoostClassifier\n",
    "from sklearn.model_selection import train_test_split, cross_val_score\n",
    "\n",
    "X_train, X_test, y_train, y_test = train_test_split(processed_df, classification_labels_data, test_size=0.2)\n",
    "\n",
    "clf = AdaBoostClassifier(n_estimators=10)\n",
    "clf.fit(X_train, y_train)\n",
    "\n",
    "accuracy = clf.score(X_test, y_test)\n",
    "print(\"Accuracy on test set:\", accuracy)\n",
    "\n",
    "cross_val_scores = cross_val_score(clf, processed_df, classification_labels_data, cv=5)\n",
    "print(\"Cross-validation scores:\", cross_val_scores)\n",
    "print(\"Mean cross-validation score:\", cross_val_scores.mean())\n"
   ]
  },
  {
   "cell_type": "code",
   "execution_count": 86,
   "metadata": {},
   "outputs": [
    {
     "name": "stdout",
     "output_type": "stream",
     "text": [
      "Accuracy on test set: 0.46596858638743455\n",
      "Cross-validation scores: [0.40314136 0.45549738 0.38743455 0.43684211 0.50526316]\n",
      "Mean cross-validation score: 0.43763571231744286\n"
     ]
    }
   ],
   "source": [
    "from sklearn.ensemble import GradientBoostingClassifier\n",
    "from sklearn.model_selection import train_test_split, cross_val_score\n",
    "\n",
    "X_train, X_test, y_train, y_test = train_test_split(processed_df, classification_labels_data, test_size=0.2)\n",
    "\n",
    "clf = GradientBoostingClassifier(n_estimators=25)\n",
    "clf.fit(X_train, y_train)\n",
    "\n",
    "accuracy = clf.score(X_test, y_test)\n",
    "print(\"Accuracy on test set:\", accuracy)\n",
    "\n",
    "cross_val_scores = cross_val_score(clf, processed_df, classification_labels_data, cv=5)\n",
    "print(\"Cross-validation scores:\", cross_val_scores)\n",
    "print(\"Mean cross-validation score:\", cross_val_scores.mean())\n"
   ]
  },
  {
   "cell_type": "code",
   "execution_count": 87,
   "metadata": {},
   "outputs": [
    {
     "name": "stdout",
     "output_type": "stream",
     "text": [
      "Accuracy on test set: 0.4712041884816754\n",
      "Cross-validation scores: [0.35602094 0.40314136 0.39790576 0.46842105 0.48947368]\n",
      "Mean cross-validation score: 0.42299255993386603\n"
     ]
    }
   ],
   "source": [
    "from sklearn.ensemble import BaggingClassifier\n",
    "from sklearn.tree import DecisionTreeClassifier\n",
    "from sklearn.model_selection import train_test_split, cross_val_score\n",
    "\n",
    "X_train, X_test, y_train, y_test = train_test_split(processed_df, classification_labels_data, test_size=0.2)\n",
    "\n",
    "# Using DecisionTreeClassifier as the base estimator for Bagging\n",
    "tree = DecisionTreeClassifier()\n",
    "\n",
    "clf = BaggingClassifier(estimator=tree, n_estimators=25)\n",
    "clf.fit(X_train, y_train)\n",
    "\n",
    "accuracy = clf.score(X_test, y_test)\n",
    "print(\"Accuracy on test set:\", accuracy)\n",
    "\n",
    "cross_val_scores = cross_val_score(clf, processed_df, classification_labels_data, cv=5)\n",
    "print(\"Cross-validation scores:\", cross_val_scores)\n",
    "print(\"Mean cross-validation score:\", cross_val_scores.mean())\n"
   ]
  },
  {
   "cell_type": "code",
   "execution_count": 88,
   "metadata": {},
   "outputs": [
    {
     "name": "stdout",
     "output_type": "stream",
     "text": [
      "Accuracy on test set: 0.4397905759162304\n",
      "Cross-validation scores: [0.39267016 0.42408377 0.39790576 0.46315789 0.44210526]\n",
      "Mean cross-validation score: 0.42398456875172225\n"
     ]
    }
   ],
   "source": [
    "from sklearn.ensemble import ExtraTreesClassifier\n",
    "from sklearn.model_selection import train_test_split, cross_val_score\n",
    "\n",
    "X_train, X_test, y_train, y_test = train_test_split(processed_df, classification_labels_data, test_size=0.2)\n",
    "clf = ExtraTreesClassifier(n_estimators=25)\n",
    "clf.fit(X_train, y_train)\n",
    "\n",
    "accuracy = clf.score(X_test, y_test)\n",
    "print(\"Accuracy on test set:\", accuracy)\n",
    "\n",
    "cross_val_scores = cross_val_score(clf, processed_df, classification_labels_data, cv=5)\n",
    "print(\"Cross-validation scores:\", cross_val_scores)\n",
    "print(\"Mean cross-validation score:\", cross_val_scores.mean())\n"
   ]
  },
  {
   "cell_type": "markdown",
   "metadata": {},
   "source": [
    "Other Classification methods"
   ]
  },
  {
   "cell_type": "code",
   "execution_count": 89,
   "metadata": {},
   "outputs": [
    {
     "name": "stdout",
     "output_type": "stream",
     "text": [
      "Accuracy on test set: 0.418848167539267\n"
     ]
    }
   ],
   "source": [
    "from sklearn.neural_network import MLPClassifier\n",
    "from sklearn.model_selection import train_test_split, cross_val_score\n",
    "\n",
    "X_train, X_test, y_train, y_test = train_test_split(processed_df, classification_labels_data, test_size=0.2)\n",
    "\n",
    "\n",
    "clf = MLPClassifier(hidden_layer_sizes=(1000, ), max_iter=10000) \n",
    "\n",
    "clf.fit(X_train, y_train)\n",
    "\n",
    "accuracy = clf.score(X_test, y_test)\n",
    "print(\"Accuracy on test set:\", accuracy)\n",
    "\n",
    "# cross_val_scores = cross_val_score(clf, processed_df, classification_labels_data, cv=5)\n",
    "# print(\"Cross-validation scores:\", cross_val_scores)\n",
    "# print(\"Mean cross-validation score:\", cross_val_scores.mean())\n"
   ]
  },
  {
   "cell_type": "markdown",
   "metadata": {},
   "source": [
    "PCA for SVM and KNN"
   ]
  },
  {
   "cell_type": "code",
   "execution_count": 90,
   "metadata": {},
   "outputs": [],
   "source": [
    "#pca only for svm and knn "
   ]
  },
  {
   "cell_type": "code",
   "execution_count": null,
   "metadata": {},
   "outputs": [],
   "source": []
  },
  {
   "cell_type": "markdown",
   "metadata": {},
   "source": [
    "Goal 2 "
   ]
  },
  {
   "cell_type": "markdown",
   "metadata": {},
   "source": [
    "Goal 3"
   ]
  }
 ],
 "metadata": {
  "kernelspec": {
   "display_name": "Python 3 (ipykernel)",
   "language": "python",
   "name": "python3"
  },
  "language_info": {
   "codemirror_mode": {
    "name": "ipython",
    "version": 3
   },
   "file_extension": ".py",
   "mimetype": "text/x-python",
   "name": "python",
   "nbconvert_exporter": "python",
   "pygments_lexer": "ipython3",
   "version": "3.11.6"
  }
 },
 "nbformat": 4,
 "nbformat_minor": 2
}
