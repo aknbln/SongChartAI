{
  "cells": [
    {
      "cell_type": "markdown",
      "metadata": {
        "id": "feItzHuS_5kE"
      },
      "source": [
        "Names: Aman Tewari, Ebaad Imran, Akin Bilen, Jake Medina"
      ]
    },
    {
      "cell_type": "markdown",
      "metadata": {
        "id": "vb3DEh1e_5kG"
      },
      "source": [
        "We have two main goals for this project, we will first attempt to predict where songs rank on the apple charts based on selected features. We want to approach this as a classification problem, as we care less about the exact ranking of a song, and more about how relatively popular it is going to be on the charts. Thus, we will split Apple rankings into 5 classes, apple_chart_category_276+,\tapple_chart_category_1-50, apple_chart_category_51-100, apple_chart_category_101-200, apple_chart_category_201-275, and attempt to predict which class a given song falls under.\n",
        "\n",
        "We specifically chose the apple chart because it appears to be a chart that doesn't only rank based on number of streams, the first cell of part 2 demostrates that there is only a rougly .38 correlation between average_streams_per_year and ranking, implying there are other factors that apple chooses to use to rank songs, and we want to explore what they are, or at least what we need to predict them.\n",
        "\n",
        "The second goal of the project is much more ambitious, we wish to predict roughly the stream ranking of a song based on only features that would be given pre-release, i.e. we can't use features like in_spotify_playlists which describes how many spotify playlists contain the song. This would be very useful because it would create a model that producer could use to engineer a song that is \"supposed\" to top charts and honestly probably what happens in the industry today. Note: we chose streams_ranking rather than streams because the variance in the stream data is extremely high, and is will have more unusual patterns than stream_ranking. Of course, we would need much more training data to do this with a hypothetical song, but it's a good proof of concept."
      ]
    },
    {
      "cell_type": "markdown",
      "metadata": {
        "id": "3CC1OFmA_5kG"
      },
      "source": [
        "All cells either have comments of markdown cells explaining their purpose or interpreting results. We ran cross-validation checks on almost all of our models, as well as tried techniques like bagging, boosting, and even switch models all together to improve accuracy. Furthermore, there are some models use that weren't discussed in class, but helped us improve our results."
      ]
    },
    {
      "cell_type": "markdown",
      "metadata": {
        "id": "46gOKu4h_5kG"
      },
      "source": [
        "Part 1: Data Collection, Cleanup, Feature Engineering (Combining Correlated Features)"
      ]
    },
    {
      "cell_type": "code",
      "execution_count": null,
      "metadata": {
        "id": "mipNzbVC_5kH"
      },
      "outputs": [],
      "source": [
        "# ML Project\n",
        "\n",
        "# headers\n",
        "import numpy as np\n",
        "import pandas as pd\n",
        "import matplotlib.pyplot as plt\n",
        "from sklearn.preprocessing import StandardScaler, MinMaxScaler, OneHotEncoder\n",
        "from sklearn.compose import ColumnTransformer\n",
        "from sklearn.pipeline import Pipeline, FeatureUnion\n",
        "\n",
        "import warnings\n",
        "from sklearn.exceptions import ConvergenceWarning\n",
        "warnings.filterwarnings('ignore', category=ConvergenceWarning)"
      ]
    },
    {
      "cell_type": "markdown",
      "metadata": {
        "id": "EUHg2Og7_5kH"
      },
      "source": [
        "Overiew of our data, the column names are very descriptive but we have included a description of each column:\n",
        "\n",
        "track_name: Name of the song\n",
        "\n",
        "artist(s)_name: Name of the artist(s) of the song\n",
        "\n",
        "artist_count: Number of artists contributing to the song\n",
        "\n",
        "released_year: Year when the song was released\n",
        "\n",
        "released_month: Month when the song was released\n",
        "\n",
        "released_day: Day of the month when the song was released\n",
        "\n",
        "in_spotify_playlists: Number of Spotify playlists the song is included in\n",
        "\n",
        "in_spotify_charts: Presence and rank of the song on Spotify charts\n",
        "\n",
        "streams: Total number of streams on Spotify\n",
        "\n",
        "in_apple_playlists: Number of Apple Music playlists the song is included in\n",
        "\n",
        "in_apple_charts: Presence and rank of the song on Apple Music charts\n",
        "\n",
        "in_deezer_playlists: Number of Deezer playlists the song is included in\n",
        "\n",
        "in_deezer_charts: Presence and rank of the song on Deezer charts\n",
        "\n",
        "in_shazam_charts: Presence and rank of the song on Shazam charts\n",
        "\n",
        "bpm: Beats per minute, a measure of song tempo\n",
        "\n",
        "key: Key of the song\n",
        "\n",
        "mode: Mode of the song (major or minor)\n",
        "\n",
        "danceability_%: Percentage indicating how suitable the song is for dancing\n",
        "\n",
        "valence_%: Positivity of the song's musical content\n",
        "\n",
        "energy_%: Perceived energy level of the song\n",
        "\n",
        "acousticness_%: Amount of acoustic sound in the song\n",
        "\n",
        "instrumentalness_%: Amount of instrumental content in the song\n",
        "\n",
        "liveness_%: Presence of live performance elements\n",
        "\n",
        "speechiness_%: Amount of spoken words in the song"
      ]
    },
    {
      "cell_type": "code",
      "execution_count": null,
      "metadata": {
        "id": "bgkWbhFs_5kH",
        "outputId": "abb5d6a6-71f7-4bda-d54b-4d84470456fb"
      },
      "outputs": [
        {
          "name": "stdout",
          "output_type": "stream",
          "text": [
            "                            track_name    artist(s)_name  artist_count  \\\n",
            "0  Seven (feat. Latto) (Explicit Ver.)  Latto, Jung Kook             2   \n",
            "1                                 LALA       Myke Towers             1   \n",
            "2                              vampire    Olivia Rodrigo             1   \n",
            "3                         Cruel Summer      Taylor Swift             1   \n",
            "4                       WHERE SHE GOES         Bad Bunny             1   \n",
            "\n",
            "   released_year  released_month  released_day  in_spotify_playlists  \\\n",
            "0           2023               7            14                   553   \n",
            "1           2023               3            23                  1474   \n",
            "2           2023               6            30                  1397   \n",
            "3           2019               8            23                  7858   \n",
            "4           2023               5            18                  3133   \n",
            "\n",
            "   in_spotify_charts    streams  in_apple_playlists  ...  bpm key   mode  \\\n",
            "0                147  141381703                  43  ...  125   B  Major   \n",
            "1                 48  133716286                  48  ...   92  C#  Major   \n",
            "2                113  140003974                  94  ...  138   F  Major   \n",
            "3                100  800840817                 116  ...  170   A  Major   \n",
            "4                 50  303236322                  84  ...  144   A  Minor   \n",
            "\n",
            "  danceability_%  valence_% energy_% acousticness_%  instrumentalness_%  \\\n",
            "0             80         89       83             31                   0   \n",
            "1             71         61       74              7                   0   \n",
            "2             51         32       53             17                   0   \n",
            "3             55         58       72             11                   0   \n",
            "4             65         23       80             14                  63   \n",
            "\n",
            "   liveness_%  speechiness_%  \n",
            "0           8              4  \n",
            "1          10              4  \n",
            "2          31              6  \n",
            "3          11             15  \n",
            "4          11              6  \n",
            "\n",
            "[5 rows x 24 columns]\n"
          ]
        }
      ],
      "source": [
        "raw_data = pd.read_csv(\"spotify-2023.csv\", skipinitialspace = True)\n",
        "# raw_data.drop(raw_data['in_shazam_charts'], axis=1, inplace=True)\n",
        "print(raw_data.head())\n",
        "#print(raw_data.columns)"
      ]
    },
    {
      "cell_type": "markdown",
      "metadata": {
        "id": "ZytabnHK_5kI"
      },
      "source": [
        "Let's check for missing values"
      ]
    },
    {
      "cell_type": "code",
      "execution_count": null,
      "metadata": {
        "id": "W-EgBO7-_5kI",
        "outputId": "828746da-4ec9-47a6-b237-d22b3df9b977"
      },
      "outputs": [
        {
          "name": "stdout",
          "output_type": "stream",
          "text": [
            "<class 'pandas.core.frame.DataFrame'>\n",
            "RangeIndex: 953 entries, 0 to 952\n",
            "Data columns (total 24 columns):\n",
            " #   Column                Non-Null Count  Dtype \n",
            "---  ------                --------------  ----- \n",
            " 0   track_name            953 non-null    object\n",
            " 1   artist(s)_name        953 non-null    object\n",
            " 2   artist_count          953 non-null    int64 \n",
            " 3   released_year         953 non-null    int64 \n",
            " 4   released_month        953 non-null    int64 \n",
            " 5   released_day          953 non-null    int64 \n",
            " 6   in_spotify_playlists  953 non-null    int64 \n",
            " 7   in_spotify_charts     953 non-null    int64 \n",
            " 8   streams               953 non-null    int64 \n",
            " 9   in_apple_playlists    953 non-null    int64 \n",
            " 10  in_apple_charts       953 non-null    int64 \n",
            " 11  in_deezer_playlists   953 non-null    object\n",
            " 12  in_deezer_charts      953 non-null    int64 \n",
            " 13  in_shazam_charts      903 non-null    object\n",
            " 14  bpm                   953 non-null    int64 \n",
            " 15  key                   858 non-null    object\n",
            " 16  mode                  953 non-null    object\n",
            " 17  danceability_%        953 non-null    int64 \n",
            " 18  valence_%             953 non-null    int64 \n",
            " 19  energy_%              953 non-null    int64 \n",
            " 20  acousticness_%        953 non-null    int64 \n",
            " 21  instrumentalness_%    953 non-null    int64 \n",
            " 22  liveness_%            953 non-null    int64 \n",
            " 23  speechiness_%         953 non-null    int64 \n",
            "dtypes: int64(18), object(6)\n",
            "memory usage: 178.8+ KB\n",
            "None\n",
            "track_name               0\n",
            "artist(s)_name           0\n",
            "artist_count             0\n",
            "released_year            0\n",
            "released_month           0\n",
            "released_day             0\n",
            "in_spotify_playlists     0\n",
            "in_spotify_charts        0\n",
            "streams                  0\n",
            "in_apple_playlists       0\n",
            "in_apple_charts          0\n",
            "in_deezer_playlists      0\n",
            "in_deezer_charts         0\n",
            "in_shazam_charts        50\n",
            "bpm                      0\n",
            "key                     95\n",
            "mode                     0\n",
            "danceability_%           0\n",
            "valence_%                0\n",
            "energy_%                 0\n",
            "acousticness_%           0\n",
            "instrumentalness_%       0\n",
            "liveness_%               0\n",
            "speechiness_%            0\n",
            "dtype: int64\n"
          ]
        }
      ],
      "source": [
        "print(raw_data.info())\n",
        "\n",
        "\n",
        "missing_values = raw_data.isna().sum()\n",
        "print(missing_values)\n",
        "\n"
      ]
    },
    {
      "cell_type": "markdown",
      "metadata": {
        "id": "UinWZAs8_5kI"
      },
      "source": [
        "It seems that there are some blank values in the shazam_charts column.\n",
        "Let's check how many values have a value 0"
      ]
    },
    {
      "cell_type": "code",
      "execution_count": null,
      "metadata": {
        "id": "XAcuY-gl_5kI",
        "outputId": "45df3ba7-ba10-4351-a51e-e68c9cc06274"
      },
      "outputs": [
        {
          "data": {
            "text/plain": [
              "track_name                0\n",
              "artist(s)_name            0\n",
              "artist_count              0\n",
              "released_year             0\n",
              "released_month            0\n",
              "released_day              0\n",
              "in_spotify_playlists      0\n",
              "in_spotify_charts       405\n",
              "streams                   0\n",
              "in_apple_playlists       23\n",
              "in_apple_charts         100\n",
              "in_deezer_playlists       0\n",
              "in_deezer_charts        558\n",
              "in_shazam_charts          0\n",
              "bpm                       0\n",
              "key                       0\n",
              "mode                      0\n",
              "danceability_%            0\n",
              "valence_%                 0\n",
              "energy_%                  0\n",
              "acousticness_%           60\n",
              "instrumentalness_%      866\n",
              "liveness_%                0\n",
              "speechiness_%             0\n",
              "dtype: int64"
            ]
          },
          "execution_count": 4,
          "metadata": {},
          "output_type": "execute_result"
        }
      ],
      "source": [
        "zero_counts = (raw_data == 0).sum()\n",
        "zero_counts"
      ]
    },
    {
      "cell_type": "code",
      "execution_count": null,
      "metadata": {
        "id": "TCWX3EBL_5kJ",
        "outputId": "177b765f-1eb7-4cc6-a687-d6d9491ece6e"
      },
      "outputs": [
        {
          "name": "stdout",
          "output_type": "stream",
          "text": [
            "147 58 275\n"
          ]
        }
      ],
      "source": [
        "max_values_spot = raw_data['in_spotify_charts'].max()\n",
        "max_values_deez = raw_data['in_deezer_charts'].max()\n",
        "max_values_app = raw_data['in_apple_charts'].max()\n",
        "print(max_values_spot, max_values_deez, max_values_app)"
      ]
    },
    {
      "cell_type": "code",
      "execution_count": null,
      "metadata": {
        "id": "aixw2fb1_5kJ",
        "outputId": "2f145c2f-51bd-4373-9177-bd5c74244214"
      },
      "outputs": [
        {
          "name": "stdout",
          "output_type": "stream",
          "text": [
            "888\n",
            "0\n",
            "0\n",
            "0\n"
          ]
        }
      ],
      "source": [
        "# print out rows that have 0 in Apple, Spotify, AND Deezer charts. That is bad.\n",
        "\n",
        "# a mirror of all of the records\n",
        "# the value is false if it doesn't meet the condition\n",
        "# the value is true otherwise\n",
        "all_zero_chart_rankings = ((raw_data['in_spotify_charts'] == 0) & (raw_data['in_deezer_charts'] == 0) & (raw_data['in_apple_charts'] == 0))\n",
        "\n",
        "# print(all_zero_chart_rankings)\n",
        "print((all_zero_chart_rankings == False).sum())\n",
        "\n",
        "# only print rows of raw_data where the matching row from all_zero_chart_rankings is True\n",
        "filtered_df = raw_data[all_zero_chart_rankings]\n",
        "# print(filtered_df)  # 0 rows\n",
        "print(filtered_df['in_spotify_charts'].sum())  # 0'])\n",
        "print(filtered_df['in_deezer_charts'].sum())  # 0'])\n",
        "print(filtered_df['in_apple_charts'].sum())  # 0'])\n",
        "\n",
        "\n",
        "# There are 65 records in total that have 0 in all three charts.\n",
        "\n",
        "# We can try to weigh charts with the total missing values for each chart."
      ]
    },
    {
      "cell_type": "markdown",
      "metadata": {
        "id": "QvCxoBru_5kJ"
      },
      "source": [
        "There are 627(includes 65 records that have no ranking) records in total that are missing at least one ranking from the Spotify, Deezer, or Apple charts."
      ]
    },
    {
      "cell_type": "code",
      "execution_count": null,
      "metadata": {
        "id": "fwWw5Ri4_5kJ",
        "outputId": "a64c34cc-f09e-4612-c641-1490dbc4197c"
      },
      "outputs": [
        {
          "name": "stdout",
          "output_type": "stream",
          "text": [
            "888\n",
            "405\n",
            "558\n",
            "100\n"
          ]
        }
      ],
      "source": [
        "\n",
        "some_zero_chart_rankings = ((raw_data['in_spotify_charts'] == 0) | (raw_data['in_deezer_charts'] == 0) | (raw_data['in_apple_charts'] == 0))\n",
        "print((all_zero_chart_rankings == 0).sum())\n",
        "filtered_df = raw_data[some_zero_chart_rankings]\n",
        "#print(filtered_df)  # 0 rows\n",
        "print((filtered_df['in_spotify_charts'] == 0).sum())  # 0'])\n",
        "print((filtered_df['in_deezer_charts']== 0).sum())  # 0'])\n",
        "print((filtered_df['in_apple_charts'] == 0).sum())  # 0'])"
      ]
    },
    {
      "cell_type": "code",
      "execution_count": null,
      "metadata": {
        "id": "dPm4y9hQ_5kJ",
        "outputId": "78cfc808-a0c9-45aa-b16b-277563092d8b"
      },
      "outputs": [
        {
          "name": "stdout",
          "output_type": "stream",
          "text": [
            "953\n",
            "0      summer\n",
            "1      spring\n",
            "2      summer\n",
            "3      summer\n",
            "4      spring\n",
            "        ...  \n",
            "948      fall\n",
            "949      fall\n",
            "950      fall\n",
            "951      fall\n",
            "952      fall\n",
            "Name: season, Length: 953, dtype: object\n",
            "season\n",
            "spring    280\n",
            "winter    270\n",
            "fall      209\n",
            "summer    194\n",
            "Name: count, dtype: int64\n"
          ]
        }
      ],
      "source": [
        "\"\"\"\n",
        "Add season column as a new feature\n",
        "\"\"\"\n",
        "print(len(raw_data))\n",
        "seasons = []\n",
        "# print(len(raw_data.iterrows()))\n",
        "for index,row in raw_data.iterrows():\n",
        "    if row['released_month'] in [12,1,2]:\n",
        "        seasons.append('winter')\n",
        "    elif row['released_month'] in [3,4,5]:\n",
        "        seasons.append('spring')\n",
        "    elif row['released_month'] in [6,7,8]:\n",
        "        seasons.append('summer')\n",
        "    elif row['released_month'] in [9,10,11]:\n",
        "        seasons.append('fall')\n",
        "    else:\n",
        "        seasons.append('unknown')\n",
        "\n",
        "raw_data['season'] = seasons\n",
        "print(raw_data['season'])\n",
        "print(raw_data['season'].value_counts())"
      ]
    },
    {
      "cell_type": "code",
      "execution_count": null,
      "metadata": {
        "id": "XBmdiMXN_5kJ",
        "outputId": "8e7bbca1-6fab-4adc-fcc8-2d324b1fdd59"
      },
      "outputs": [
        {
          "name": "stdout",
          "output_type": "stream",
          "text": [
            "                                        track_name  \\\n",
            "55                                 Blinding Lights   \n",
            "179                                   Shape of You   \n",
            "86                               Someone You Loved   \n",
            "620                                   Dance Monkey   \n",
            "41   Sunflower - Spider-Man: Into the Spider-Verse   \n",
            "162                                      One Dance   \n",
            "84                       STAY (with Justin Bieber)   \n",
            "140                                       Believer   \n",
            "725                                         Closer   \n",
            "48                                         Starboy   \n",
            "138                                        Perfect   \n",
            "71                                      Heat Waves   \n",
            "14                                       As It Was   \n",
            "693                                          Se��o   \n",
            "324                           Say You Won't Let Go   \n",
            "128                           lovely - Bonus Track   \n",
            "127                               Watermelon Sugar   \n",
            "407                                Don't Start Now   \n",
            "621                                   Lucid Dreams   \n",
            "73                                 Sweater Weather   \n",
            "\n",
            "                   artist(s)_name     streams  stream_ranking  \n",
            "55                     The Weeknd  3703895074               1  \n",
            "179                    Ed Sheeran  3562543890               2  \n",
            "86                  Lewis Capaldi  2887241814               3  \n",
            "620                   Tones and I  2864791672               4  \n",
            "41          Post Malone, Swae Lee  2808096550               5  \n",
            "162           Drake, WizKid, Kyla  2713922350               6  \n",
            "84   Justin Bieber, The Kid Laroi  2665343922               7  \n",
            "140               Imagine Dragons  2594040133               8  \n",
            "725      The Chainsmokers, Halsey  2591224264               9  \n",
            "48          The Weeknd, Daft Punk  2565529693              10  \n",
            "138                    Ed Sheeran  2559529074              11  \n",
            "71                  Glass Animals  2557975762              12  \n",
            "14                   Harry Styles  2513188493              13  \n",
            "693  Shawn Mendes, Camila Cabello  2484812918              14  \n",
            "324                  James Arthur  2420461338              15  \n",
            "128         Billie Eilish, Khalid  2355719893              16  \n",
            "127                  Harry Styles  2322580122              17  \n",
            "407                      Dua Lipa  2303033973              18  \n",
            "621                    Juice WRLD  2288695111              19  \n",
            "73              The Neighbourhood  2282771485              20  \n"
          ]
        }
      ],
      "source": [
        "\"\"\"\n",
        "Add ranking column\n",
        "\"\"\"\n",
        "raw_data['stream_ranking'] = raw_data['streams'].rank(ascending=False).astype(int)\n",
        "print((raw_data[['track_name', 'artist(s)_name', 'streams', 'stream_ranking']]).sort_values(by='stream_ranking').head(20))"
      ]
    },
    {
      "cell_type": "code",
      "execution_count": null,
      "metadata": {
        "id": "K1wfd_qB_5kK",
        "outputId": "abf75766-b846-40bc-8378-e074c4cc909c"
      },
      "outputs": [
        {
          "name": "stdout",
          "output_type": "stream",
          "text": [
            "                                track_name  released_year     streams  \\\n",
            "12                                 Flowers           2023  1316855716   \n",
            "14                               As It Was           2022  2513188493   \n",
            "84               STAY (with Justin Bieber)           2021  2665343922   \n",
            "55                         Blinding Lights           2019  3703895074   \n",
            "6                          Ella Baila Sola           2023   725980112   \n",
            "133  Shakira: Bzrp Music Sessions, Vol. 53           2023   721975598   \n",
            "87                         Me Porto Bonito           2022  1440757818   \n",
            "74   Quevedo: Bzrp Music Sessions, Vol. 52           2022  1356565093   \n",
            "71                              Heat Waves           2020  2557975762   \n",
            "192                       Titi Me Pregunt�           2022  1264310836   \n",
            "513                               good 4 u           2021  1887039593   \n",
            "535                        drivers license           2021  1858144199   \n",
            "34                                     TQG           2023   618990393   \n",
            "77               Unholy (feat. Kim Petras)           2022  1230675890   \n",
            "57                              La Bachata           2022  1214083358   \n",
            "410      INDUSTRY BABY (feat. Jack Harlow)           2021  1814349763   \n",
            "15                               Kill Bill           2022  1163093654   \n",
            "620                           Dance Monkey           2019  2864791672   \n",
            "146                          Ojitos Lindos           2022  1133865788   \n",
            "42                         I'm Good (Blue)           2022  1109433169   \n",
            "\n",
            "     average_streams_per_year  \n",
            "12              1316855716.00  \n",
            "14              1256594246.50  \n",
            "84               888447974.00  \n",
            "55               740779014.80  \n",
            "6                725980112.00  \n",
            "133              721975598.00  \n",
            "87               720378909.00  \n",
            "74               678282546.50  \n",
            "71               639493940.50  \n",
            "192              632155418.00  \n",
            "513              629013197.67  \n",
            "535              619381399.67  \n",
            "34               618990393.00  \n",
            "77               615337945.00  \n",
            "57               607041679.00  \n",
            "410              604783254.33  \n",
            "15               581546827.00  \n",
            "620              572958334.40  \n",
            "146              566932894.00  \n",
            "42               554716584.50  \n"
          ]
        }
      ],
      "source": [
        "\"\"\"Add average streams per year column, this should be helpful on comparing songs that were released in different years, but not overall ranking\"\"\"\n",
        "\"\"\"\"Now newers songs that haven't had as much time to accumulate strings get more presence in the ranking.\"\"\"\"\"\n",
        "raw_data['average_streams_per_year'] = raw_data['streams'] / (2024 - raw_data['released_year'])\n",
        "pd.options.display.float_format = '{:.2f}'.format\n",
        "print((raw_data[['track_name', 'released_year', 'streams', 'average_streams_per_year']]).sort_values(by='average_streams_per_year', ascending=False).head(20))"
      ]
    },
    {
      "cell_type": "code",
      "execution_count": null,
      "metadata": {
        "id": "PiX2-xIr_5kK",
        "outputId": "39eb5ded-1737-4f56-d837-14726b9eff22"
      },
      "outputs": [
        {
          "name": "stdout",
          "output_type": "stream",
          "text": [
            "bpm_category\n",
            "3    338\n",
            "1    308\n",
            "2    307\n",
            "Name: count, dtype: int64\n"
          ]
        }
      ],
      "source": [
        "\"\"\"\"Bin bpm into 3 categories: slow, medium, fast(Thresholds were determined by general bpm differentiation across genres)\"\"\"\n",
        "bpm_col = raw_data['bpm']\n",
        "bpm_bins = [0, 105, 130, 300]\n",
        "bpm_labels = [1, 2, 3]\n",
        "raw_data['bpm_category'] = pd.cut(x =bpm_col, bins=bpm_bins, labels=bpm_labels)\n",
        "\n",
        "\n",
        "# DELETE raw_data['bpm'] ??\n",
        "# raw_data.drop(['bpm'], axis=1, inplace=True)\n",
        "print(raw_data['bpm_category'].value_counts())"
      ]
    },
    {
      "cell_type": "code",
      "execution_count": null,
      "metadata": {
        "id": "JCpqGmGU_5kK",
        "outputId": "5be1594e-764e-44ae-99cf-6049f736f9cc"
      },
      "outputs": [
        {
          "name": "stdout",
          "output_type": "stream",
          "text": [
            "charted_on_spotify\n",
            "True     548\n",
            "False    405\n",
            "Name: count, dtype: int64\n"
          ]
        }
      ],
      "source": [
        "'''Spotify charts: binary label, 1 for in charts, 0 for not in charts\n",
        "This can be used as an alternative class label.\n",
        "We are using this label because we are trying to predict whether a song will be charted on Spotify\n",
        "'''\n",
        "\n",
        "# all zero values indicate that a song was not charted\n",
        "\n",
        "# create a new column called charted_on_spotify\n",
        "\n",
        "charted_on_spotify = raw_data['in_spotify_charts'] != 0\n",
        "raw_data['charted_on_spotify'] = charted_on_spotify\n",
        "print(raw_data['charted_on_spotify'].value_counts())"
      ]
    },
    {
      "cell_type": "code",
      "execution_count": null,
      "metadata": {
        "id": "-UBeRbHm_5kK",
        "outputId": "d46e79d8-8639-44fa-9f7a-a7d0afbf4231"
      },
      "outputs": [
        {
          "name": "stdout",
          "output_type": "stream",
          "text": [
            "class_label_apple_chart_category\n",
            "1    439\n",
            "2    243\n",
            "3    158\n",
            "5    100\n",
            "4     13\n",
            "Name: count, dtype: int64\n"
          ]
        }
      ],
      "source": [
        "'''Apple charts: binned, 1-100, 101-200, 201-275, 276+'''\n",
        "'''This could also be used as a class label, or a feature'''\n",
        "\n",
        "# we are assuming that every row with an \"in_apple_charts\" value of 0 is a song that didn't make the top 275 charts\n",
        "# initially the bins were 1-100, 101-200, 201-275, 276+ and the result is:\n",
        "'''1-100      677\n",
        "   101-200    163\n",
        "   276+       100\n",
        "   201-275     13'''\n",
        "\n",
        "# Because the 1-100 bin has the most values, we are going to change the bins to 1-50, 51-100, 101-200, 201-275, 276+\n",
        "# So that the bins are less skewed\n",
        "apple_chart_bins = [-1, 0, 51, 101, 201, 276]\n",
        "apple_chart_labels = [ 5, 1, 2, 3, 4]\n",
        "raw_data['class_label_apple_chart_category'] = pd.cut(x = raw_data['in_apple_charts'], bins=apple_chart_bins, labels=apple_chart_labels)\n",
        "\n",
        "print(raw_data['class_label_apple_chart_category'].value_counts())\n",
        "\n",
        "# one-hot encode the apple_chart_category column\n",
        "\n",
        "#raw_data = pd.get_dummies(raw_data, columns=['apple_chart_category'])\n",
        "#print(raw_data.head())"
      ]
    },
    {
      "cell_type": "code",
      "execution_count": null,
      "metadata": {
        "id": "8OTur9Eb_5kK",
        "outputId": "5ab2769b-88ea-476e-95f8-39834f2875cf"
      },
      "outputs": [
        {
          "name": "stdout",
          "output_type": "stream",
          "text": [
            "key\n",
            "C#   0.14\n",
            "G    0.25\n",
            "G#   0.36\n",
            "F    0.46\n",
            "B    0.56\n",
            "D    0.65\n",
            "A    0.74\n",
            "F#   0.82\n",
            "E    0.90\n",
            "A#   0.96\n",
            "D#   1.00\n",
            "Name: count, dtype: float64\n",
            "before key\n",
            "C#    120\n",
            "G      96\n",
            "G#     91\n",
            "F      89\n",
            "B      81\n",
            "D      81\n",
            "A      75\n",
            "F#     73\n",
            "E      62\n",
            "A#     57\n",
            "D#     33\n",
            "Name: count, dtype: int64\n",
            "after key\n",
            "C#    139\n",
            "G#    101\n",
            "G     101\n",
            "F      97\n",
            "B      94\n",
            "D      90\n",
            "A      85\n",
            "F#     81\n",
            "E      71\n",
            "A#     60\n",
            "D#     34\n",
            "Name: count, dtype: int64\n"
          ]
        }
      ],
      "source": [
        "'''We have decided to fill in the missing values of the 'key' column based on\n",
        "the probability distribution of the 'keys' that exist in the data set.'''\n",
        "\n",
        "keys = raw_data['key'].dropna().unique()\n",
        "counts = raw_data['key'].value_counts()\n",
        "sums = raw_data['key'].value_counts().sum()\n",
        "counts = counts / sums\n",
        "for i in range(1,len(keys)):\n",
        "    counts.iloc[i] = counts.iloc[i] + counts.iloc[i-1]\n",
        "\n",
        "print(counts)\n",
        "\n",
        "import random\n",
        "# random number between 0 and 1\n",
        "\n",
        "# for each record with column value ['key'] that is n/a, choose a random number bewteen 0 and 1\n",
        "# set the key value to the corresponding key value in counts\n",
        "\n",
        "print('before', raw_data['key'].value_counts())\n",
        "\n",
        "def get_key(num):\n",
        "    for i in range(len(counts)):\n",
        "        if num < counts.iloc[i]:\n",
        "            return keys[i]\n",
        "    return keys[len(keys)-1]\n",
        "\n",
        "new_data_with_key_filled_in = raw_data['key'].apply(lambda x: get_key(random.uniform(0,1)) if pd.isna(x) else x)\n",
        "raw_data['key'] = new_data_with_key_filled_in\n",
        "\n",
        "# print out number of missing values in key column\n",
        "print('after', new_data_with_key_filled_in.value_counts())\n",
        "\n"
      ]
    },
    {
      "cell_type": "code",
      "execution_count": null,
      "metadata": {
        "id": "3dbpR4H0_5kK",
        "outputId": "e4972177-ba39-42b5-81a0-9ea992dc95c5"
      },
      "outputs": [
        {
          "data": {
            "image/png": "[encoded data removed]",
            "text/plain": [
              "<Figure size 640x480 with 1 Axes>"
            ]
          },
          "metadata": {},
          "output_type": "display_data"
        },
        {
          "data": {
            "text/plain": [
              "count   953.00\n",
              "mean    122.40\n",
              "std      27.98\n",
              "min      65.00\n",
              "25%      99.00\n",
              "50%     120.00\n",
              "75%     140.00\n",
              "max     206.00\n",
              "Name: bpm, dtype: float64"
            ]
          },
          "execution_count": 15,
          "metadata": {},
          "output_type": "execute_result"
        }
      ],
      "source": [
        "'''Explore BPM data'''\n",
        "\n",
        "\n",
        "raw_data.boxplot(column='bpm', vert=False)\n",
        "plt.show()\n",
        "raw_data['bpm'].describe()"
      ]
    },
    {
      "cell_type": "code",
      "execution_count": null,
      "metadata": {
        "id": "ah_Hn4wX_5kL",
        "outputId": "d8e6ba2f-44f8-4076-cec6-b46abfc9a818"
      },
      "outputs": [
        {
          "data": {
            "image/png": "[encoded data removed]",
            "text/plain": [
              "<Figure size 640x480 with 1 Axes>"
            ]
          },
          "metadata": {},
          "output_type": "display_data"
        },
        {
          "data": {
            "text/plain": [
              "count   953.00\n",
              "mean     66.97\n",
              "std      14.63\n",
              "min      23.00\n",
              "25%      57.00\n",
              "50%      69.00\n",
              "75%      78.00\n",
              "max      96.00\n",
              "Name: danceability_%, dtype: float64"
            ]
          },
          "execution_count": 16,
          "metadata": {},
          "output_type": "execute_result"
        }
      ],
      "source": [
        "raw_data['danceability_%'].plot(kind='hist', title='Distribution by key')\n",
        "plt.show()\n",
        "raw_data['danceability_%'].describe()"
      ]
    },
    {
      "cell_type": "markdown",
      "metadata": {
        "id": "bWq1Y0Qh_5kL"
      },
      "source": [
        "Part 2: Feature Engineering"
      ]
    },
    {
      "cell_type": "code",
      "execution_count": null,
      "metadata": {
        "id": "75NlTQqm_5kL",
        "outputId": "5a8032cd-cba0-4049-cc70-bdfa0534f361"
      },
      "outputs": [
        {
          "name": "stdout",
          "output_type": "stream",
          "text": [
            "Correlation between Streams and Apple Charts: 0.3829483122725129\n",
            "Correlation between Apple Playlists and Apple Charts: 0.41452330571208174\n"
          ]
        }
      ],
      "source": [
        "correlation = raw_data['average_streams_per_year'].corr(raw_data['in_apple_charts'])\n",
        "correlation2 = raw_data['in_apple_playlists'].corr(raw_data['in_apple_charts'])\n",
        "print(\"Correlation between Streams and Apple Charts:\", correlation)\n",
        "print(\"Correlation between Apple Playlists and Apple Charts:\", correlation2)\n",
        "#Justification of why we chose apple specifically, isn't soley based off streams/how many playlists have it see introducution to project for\n",
        "#further explanation"
      ]
    },
    {
      "cell_type": "code",
      "execution_count": null,
      "metadata": {
        "id": "9CGxIswB_5kL"
      },
      "outputs": [],
      "source": [
        "# Drop data that doesn't matter to us or that we have already processed into a seperate feature or that doesn't matter to us (avg_streams_per_year)\n",
        "# because we have total streams and years since release\n",
        "useable_data = raw_data.copy()\n",
        "useable_data.drop(['in_shazam_charts','released_day', 'released_month', 'track_name', 'artist(s)_name','artist_count','bpm',\n",
        "'in_spotify_charts', 'in_apple_charts', 'in_deezer_charts', 'in_deezer_playlists'], axis=1, inplace=True)\n"
      ]
    },
    {
      "cell_type": "code",
      "execution_count": null,
      "metadata": {
        "id": "agCxfWAB_5kL"
      },
      "outputs": [],
      "source": [
        "#useable_data.to_csv('my_data.csv', index=False) # sanity check to get an overview of the data"
      ]
    },
    {
      "cell_type": "markdown",
      "metadata": {
        "id": "Bo8SbV15_5kL"
      },
      "source": [
        "Part 3: Classification"
      ]
    },
    {
      "cell_type": "markdown",
      "metadata": {
        "id": "hH2187bq_5kL"
      },
      "source": [
        "First, we will pick labels that we wish to use for our classification. We will drop our class_label_apple_char_category since we don't want to use this variable to predict our class (or else we could predict with 100% accuracy)."
      ]
    },
    {
      "cell_type": "code",
      "execution_count": null,
      "metadata": {
        "id": "7pxlwprT_5kL",
        "outputId": "68a990a2-a86a-4c94-86a8-8d3690e49d82"
      },
      "outputs": [
        {
          "name": "stdout",
          "output_type": "stream",
          "text": [
            "   released_year  in_spotify_playlists    streams  in_apple_playlists key  \\\n",
            "0           2023                   553  141381703                  43   B   \n",
            "1           2023                  1474  133716286                  48  C#   \n",
            "2           2023                  1397  140003974                  94   F   \n",
            "3           2019                  7858  800840817                 116   A   \n",
            "4           2023                  3133  303236322                  84   A   \n",
            "\n",
            "    mode  danceability_%  valence_%  energy_%  acousticness_%  \\\n",
            "0  Major              80         89        83              31   \n",
            "1  Major              71         61        74               7   \n",
            "2  Major              51         32        53              17   \n",
            "3  Major              55         58        72              11   \n",
            "4  Minor              65         23        80              14   \n",
            "\n",
            "   instrumentalness_%  liveness_%  speechiness_%  season  stream_ranking  \\\n",
            "0                   0           8              4  summer             716   \n",
            "1                   0          10              4  spring             738   \n",
            "2                   0          31              6  summer             719   \n",
            "3                   0          11             15  summer             196   \n",
            "4                  63          11              6  spring             458   \n",
            "\n",
            "   average_streams_per_year bpm_category  charted_on_spotify  \n",
            "0              141381703.00            2                True  \n",
            "1              133716286.00            1                True  \n",
            "2              140003974.00            3                True  \n",
            "3              160168163.40            3                True  \n",
            "4              303236322.00            3                True  \n"
          ]
        }
      ],
      "source": [
        "#Picking features for our classification problem\n",
        "classification_data = useable_data.copy()\n",
        "classification_labels_data = classification_data['class_label_apple_chart_category'].copy()\n",
        "classification_data.drop(['class_label_apple_chart_category'], axis=1, inplace=True)\n",
        "\n",
        "\n",
        "print(classification_data.head())\n",
        "\n",
        "\n"
      ]
    },
    {
      "cell_type": "markdown",
      "metadata": {
        "id": "FDyc9wXZ_5kL"
      },
      "source": [
        "We will one hot encode our categorical variables to allow for our KNN, SVM, Neural Nets, and other models to have numerical variables to work on. Furthermore, we will scale our data from 0-1 as to disallow for some of our algorithms to value some features over others (such as KNN)."
      ]
    },
    {
      "cell_type": "code",
      "execution_count": null,
      "metadata": {
        "id": "OqoC2vVj_5kM",
        "outputId": "259ae762-82ee-4c87-ad31-2b6f86b847af"
      },
      "outputs": [
        {
          "name": "stdout",
          "output_type": "stream",
          "text": [
            "['key', 'mode', 'season']\n",
            "    0    1    2    3    4    5    6    7    8    9   ...   19   20   21   22  \\\n",
            "0 1.00 0.01 0.04 0.06 0.78 0.91 0.84 0.32 0.00 0.05  ... 0.00 0.00 0.00 0.00   \n",
            "1 1.00 0.03 0.04 0.07 0.66 0.61 0.74 0.07 0.00 0.07  ... 0.00 0.00 0.00 0.00   \n",
            "2 1.00 0.03 0.04 0.14 0.38 0.30 0.50 0.18 0.00 0.30  ... 1.00 0.00 0.00 0.00   \n",
            "3 0.96 0.15 0.22 0.17 0.44 0.58 0.72 0.11 0.00 0.09  ... 0.00 0.00 0.00 0.00   \n",
            "4 1.00 0.06 0.08 0.12 0.58 0.20 0.81 0.14 0.69 0.09  ... 0.00 0.00 0.00 0.00   \n",
            "\n",
            "    23   24   25   26   27   28  \n",
            "0 1.00 0.00 0.00 0.00 1.00 0.00  \n",
            "1 1.00 0.00 0.00 1.00 0.00 0.00  \n",
            "2 1.00 0.00 0.00 0.00 1.00 0.00  \n",
            "3 1.00 0.00 0.00 0.00 1.00 0.00  \n",
            "4 0.00 1.00 0.00 1.00 0.00 0.00  \n",
            "\n",
            "[5 rows x 29 columns]\n",
            "(953, 29)\n"
          ]
        }
      ],
      "source": [
        "# One hot encoding our data and normalizing our data\n",
        "\n",
        "categorical_cols = list(classification_data.select_dtypes(include=['object']).columns)\n",
        "numeric_cols = list(classification_data.select_dtypes(include=['int64', 'float64']).columns)\n",
        "print(categorical_cols)\n",
        "numeric_pipeline = Pipeline(steps=[\n",
        "    ('scaler', MinMaxScaler(feature_range=(0, 1)))\n",
        "])\n",
        "\n",
        "categorical_pipeline = Pipeline(steps=[\n",
        "    ('onehot', OneHotEncoder(sparse_output=False))\n",
        "])\n",
        "\n",
        "preprocessor = ColumnTransformer(\n",
        "    transformers=[\n",
        "        ('num', numeric_pipeline, numeric_cols),\n",
        "        ('cat', categorical_pipeline, categorical_cols)\n",
        "    ])\n",
        "\n",
        "processed_data = preprocessor.fit_transform(classification_data)\n",
        "\n",
        "processed_df = pd.DataFrame(processed_data)\n",
        "print(processed_df.head())\n",
        "print(processed_df.shape)\n",
        "#processed_df.to_csv('processed_df.csv', index=False) # sanity check to get an overview of the data"
      ]
    },
    {
      "cell_type": "markdown",
      "metadata": {
        "id": "Q9fAdC9u_5kM"
      },
      "source": [
        "Decision Trees"
      ]
    },
    {
      "cell_type": "markdown",
      "metadata": {
        "id": "ms454hKZ_5kM"
      },
      "source": [
        "We will build a simple decision tree to see how accurate it performs on our data."
      ]
    },
    {
      "cell_type": "code",
      "execution_count": null,
      "metadata": {
        "id": "XF3feyw2_5kM",
        "outputId": "d88d7ba6-0321-418b-85a6-3fa50bc41160"
      },
      "outputs": [
        {
          "name": "stdout",
          "output_type": "stream",
          "text": [
            "Accuracy on test set: 0.47643979057591623\n",
            "Cross-validation scores: [0.31413613 0.40314136 0.34031414 0.48947368 0.52105263]\n",
            "Mean cross-validation score: 0.4136235877652246\n"
          ]
        }
      ],
      "source": [
        "#Normal Decision Tree\n",
        "from sklearn.model_selection import train_test_split, cross_val_score\n",
        "from sklearn.tree import DecisionTreeClassifier\n",
        "\n",
        "\n",
        "\n",
        "X_train, X_test, y_train, y_test = train_test_split(processed_df, classification_labels_data, test_size=0.2)\n",
        "\n",
        "clf = DecisionTreeClassifier(max_depth=5, min_samples_split=2)\n",
        "clf.fit(X_train, y_train)\n",
        "\n",
        "accuracy = clf.score(X_test, y_test)\n",
        "print(\"Accuracy on test set:\", accuracy)\n",
        "\n",
        "cross_val_scores = cross_val_score(clf, processed_df, classification_labels_data, cv=5)\n",
        "print(\"Cross-validation scores:\", cross_val_scores)\n",
        "print(\"Mean cross-validation score:\", cross_val_scores.mean())\n"
      ]
    },
    {
      "cell_type": "markdown",
      "metadata": {
        "id": "764X85Ju_5kM"
      },
      "source": [
        "Our cross validation scores vary a lot across different folds. This is most likely due to random chance. To get a score better than ~41%, let's try tuning our hyperparameters."
      ]
    },
    {
      "cell_type": "code",
      "execution_count": null,
      "metadata": {
        "id": "25TiKYUm_5kM",
        "outputId": "596b519c-087b-4530-a62c-cf7a3b0d73dc"
      },
      "outputs": [
        {
          "name": "stdout",
          "output_type": "stream",
          "text": [
            "Accuracy on outer test set: 0.5026178010471204\n",
            "Accuracy on outer test set: 0.4607329842931937\n",
            "Accuracy on outer test set: 0.4973821989528796\n",
            "Accuracy on outer test set: 0.45263157894736844\n",
            "Accuracy on outer test set: 0.5052631578947369\n",
            "Best parameters for each outer fold: [{'max_depth': 3, 'min_samples_split': 2}, {'max_depth': 3, 'min_samples_split': 2}, {'max_depth': 7, 'min_samples_split': 5}, {'max_depth': 3, 'min_samples_split': 2}, {'max_depth': 3, 'min_samples_split': 2}]\n"
          ]
        }
      ],
      "source": [
        "# Decision Tree with Nested CV\n",
        "\n",
        "from sklearn.model_selection import GridSearchCV, cross_val_score, KFold\n",
        "from sklearn.tree import DecisionTreeClassifier\n",
        "import numpy as np\n",
        "\n",
        "param_grid = {\n",
        "    'max_depth': [3, 5, 7, 9],\n",
        "    'min_samples_split': [2, 5, 10]\n",
        "}\n",
        "\n",
        "outer_cv = KFold(n_splits=5, shuffle=True)\n",
        "inner_cv = KFold(n_splits=3, shuffle=True)\n",
        "\n",
        "best_params = []\n",
        "\n",
        "for train_index, test_index in outer_cv.split(processed_df):\n",
        "    X_train_outer, X_test_outer = processed_df.iloc[train_index], processed_df.iloc[test_index]\n",
        "    y_train_outer, y_test_outer = classification_labels_data.iloc[train_index], classification_labels_data.iloc[test_index]\n",
        "\n",
        "    clf = GridSearchCV(DecisionTreeClassifier(), param_grid, cv=inner_cv)\n",
        "    clf.fit(X_train_outer, y_train_outer)\n",
        "\n",
        "    best_params.append(clf.best_params_)\n",
        "\n",
        "    accuracy = clf.score(X_test_outer, y_test_outer)\n",
        "    print(\"Accuracy on outer test set:\", accuracy)\n",
        "\n",
        "print(\"Best parameters for each outer fold:\", best_params)"
      ]
    },
    {
      "cell_type": "markdown",
      "metadata": {
        "id": "8ljSOYb3_5kM"
      },
      "source": [
        "Now that we performed a nested cross validation, our scores on average seem pretty good across our different folds meaning that hyperparameter tuning should yield good results. Let's run our model one final time on the entire dataset with hyperparameter tuning."
      ]
    },
    {
      "cell_type": "code",
      "execution_count": null,
      "metadata": {
        "id": "49Hq0rI3_5kM",
        "outputId": "4ca746b9-c508-4713-e839-42cd3739c641"
      },
      "outputs": [
        {
          "name": "stdout",
          "output_type": "stream",
          "text": [
            "Best parameters: {'max_depth': 3, 'min_samples_split': 2}\n",
            "Best cross-validation score: 0.43037751446679523\n"
          ]
        }
      ],
      "source": [
        "from sklearn.model_selection import GridSearchCV\n",
        "from sklearn.tree import DecisionTreeClassifier\n",
        "\n",
        "param_grid = {\n",
        "    'max_depth': [3, 5, 7, 9],\n",
        "    'min_samples_split': [2, 5, 10]\n",
        "}\n",
        "\n",
        "clf = DecisionTreeClassifier()\n",
        "\n",
        "grid_search = GridSearchCV(clf, param_grid, cv=5)\n",
        "grid_search.fit(processed_df, classification_labels_data)\n",
        "\n",
        "best_params = grid_search.best_params_\n",
        "best_score = grid_search.best_score_\n",
        "\n",
        "print(\"Best parameters:\", best_params)\n",
        "print(\"Best cross-validation score:\", best_score)"
      ]
    },
    {
      "cell_type": "markdown",
      "metadata": {
        "id": "DOquf0Ws_5kN"
      },
      "source": [
        "After hyperparameter tuning, our decision tree's accuracy increased by about 2%. This isn't the greatest and is most likely due to the fact that the hyperparameters we chose in our first test are similar to the ones that were found in our hyperparameter tuning."
      ]
    },
    {
      "cell_type": "markdown",
      "metadata": {
        "id": "QWebLHf6_5kN"
      },
      "source": [
        "Now we are trying some ensembling techniques. From a basic random forest classifier, we see that enembling gave us a mean cross validation score of 45%, which is a ~2% increase from just our normal decision tree classifier."
      ]
    },
    {
      "cell_type": "code",
      "execution_count": null,
      "metadata": {
        "id": "H1ZJ781E_5kN",
        "outputId": "3819bdb7-ef3f-4044-81d3-0d042f5389b1"
      },
      "outputs": [
        {
          "name": "stdout",
          "output_type": "stream",
          "text": [
            "Accuracy on test set: 0.5445026178010471\n",
            "Cross-validation scores: [0.47643979 0.42408377 0.39790576 0.46315789 0.49473684]\n",
            "Mean cross-validation score: 0.4512648112427666\n"
          ]
        }
      ],
      "source": [
        "#Random Forest Ensemble\n",
        "from sklearn.ensemble import RandomForestClassifier\n",
        "\n",
        "\n",
        "X_train, X_test, y_train, y_test = train_test_split(processed_df, classification_labels_data, test_size=0.2)\n",
        "clf = RandomForestClassifier(n_estimators=1000)\n",
        "clf.fit(X_train, y_train)\n",
        "\n",
        "accuracy = clf.score(X_test, y_test)\n",
        "print(\"Accuracy on test set:\", accuracy)\n",
        "\n",
        "cross_val_scores = cross_val_score(clf, processed_df, classification_labels_data, cv=5)\n",
        "print(\"Cross-validation scores:\", cross_val_scores)\n",
        "print(\"Mean cross-validation score:\", cross_val_scores.mean())\n"
      ]
    },
    {
      "cell_type": "markdown",
      "metadata": {
        "id": "rbBB86Fw_5kN"
      },
      "source": [
        "We will try another RandomForest (which is the default for AdaBoost classifier), but boost is through AdaBoost. We see that our boosting model performed worse (with an accuracy of 37%). Notice that miniscule changes of accuracy like this may be due to random chance. It may also be the case that boosting may decrease our accuracy because our trees are trying to fit outliers, decreasing the accuracy of our overall tree."
      ]
    },
    {
      "cell_type": "code",
      "execution_count": null,
      "metadata": {
        "id": "0KEbeV92_5kN",
        "outputId": "6483875a-2252-4657-efdb-0dd2030b41d4"
      },
      "outputs": [
        {
          "name": "stdout",
          "output_type": "stream",
          "text": [
            "Accuracy on test set: 0.3769633507853403\n",
            "Cross-validation scores: [0.30366492 0.34554974 0.29842932 0.42631579 0.47894737]\n",
            "Mean cross-validation score: 0.3705814273904657\n"
          ]
        }
      ],
      "source": [
        "# AdaBoosting\n",
        "from sklearn.ensemble import AdaBoostClassifier\n",
        "from sklearn.model_selection import train_test_split, cross_val_score\n",
        "\n",
        "X_train, X_test, y_train, y_test = train_test_split(processed_df, classification_labels_data, test_size=0.2)\n",
        "\n",
        "clf = AdaBoostClassifier(n_estimators=10)\n",
        "clf.fit(X_train, y_train)\n",
        "\n",
        "accuracy = clf.score(X_test, y_test)\n",
        "print(\"Accuracy on test set:\", accuracy)\n",
        "\n",
        "cross_val_scores = cross_val_score(clf, processed_df, classification_labels_data, cv=5)\n",
        "print(\"Cross-validation scores:\", cross_val_scores)\n",
        "print(\"Mean cross-validation score:\", cross_val_scores.mean())\n"
      ]
    },
    {
      "cell_type": "markdown",
      "metadata": {
        "id": "OvO-P2nB_5kN"
      },
      "source": [
        "Our GradientBoosting performed better than our AdaBoosting, with a mean cross validation of 44-45% in comparison to 37%."
      ]
    },
    {
      "cell_type": "code",
      "execution_count": null,
      "metadata": {
        "id": "AyO77pAC_5kN",
        "outputId": "7c62bac2-6f70-40e8-865e-e4a295bee42e"
      },
      "outputs": [
        {
          "name": "stdout",
          "output_type": "stream",
          "text": [
            "Accuracy on test set: 0.4816753926701571\n",
            "Cross-validation scores: [0.40837696 0.47643979 0.36125654 0.47368421 0.50526316]\n",
            "Mean cross-validation score: 0.4450041333700744\n"
          ]
        }
      ],
      "source": [
        "# Gradient Boosing\n",
        "from sklearn.ensemble import GradientBoostingClassifier\n",
        "from sklearn.model_selection import train_test_split, cross_val_score\n",
        "\n",
        "X_train, X_test, y_train, y_test = train_test_split(processed_df, classification_labels_data, test_size=0.2)\n",
        "\n",
        "clf = GradientBoostingClassifier(n_estimators=25)\n",
        "clf.fit(X_train, y_train)\n",
        "\n",
        "accuracy = clf.score(X_test, y_test)\n",
        "print(\"Accuracy on test set:\", accuracy)\n",
        "\n",
        "cross_val_scores = cross_val_score(clf, processed_df, classification_labels_data, cv=5)\n",
        "print(\"Cross-validation scores:\", cross_val_scores)\n",
        "print(\"Mean cross-validation score:\", cross_val_scores.mean())\n"
      ]
    },
    {
      "cell_type": "markdown",
      "metadata": {
        "id": "IslJFKla_5kN"
      },
      "source": [
        "We will also try bagging decision trees. Note that this is different from RandomizedTrees because we only randomize the sampling of our datapoints, not the features we split on. This should be, and is less accurate than our randomized decision trees with a mean cross val score of 42% in comparison to 45%."
      ]
    },
    {
      "cell_type": "code",
      "execution_count": null,
      "metadata": {
        "id": "fXB0Ho4y_5kO",
        "outputId": "cea33aef-66bf-4f6a-acd2-b6da957449d9"
      },
      "outputs": [
        {
          "name": "stdout",
          "output_type": "stream",
          "text": [
            "Accuracy on test set: 0.5287958115183246\n",
            "Cross-validation scores: [0.38219895 0.42408377 0.37696335 0.43684211 0.47368421]\n",
            "Mean cross-validation score: 0.41875447781758063\n"
          ]
        }
      ],
      "source": [
        "from sklearn.ensemble import BaggingClassifier\n",
        "from sklearn.tree import DecisionTreeClassifier\n",
        "from sklearn.model_selection import train_test_split, cross_val_score\n",
        "\n",
        "X_train, X_test, y_train, y_test = train_test_split(processed_df, classification_labels_data, test_size=0.2)\n",
        "\n",
        "# Using DecisionTreeClassifier as the base estimator for Bagging\n",
        "tree = DecisionTreeClassifier()\n",
        "\n",
        "clf = BaggingClassifier(estimator=tree, n_estimators=25)\n",
        "clf.fit(X_train, y_train)\n",
        "\n",
        "accuracy = clf.score(X_test, y_test)\n",
        "print(\"Accuracy on test set:\", accuracy)\n",
        "\n",
        "cross_val_scores = cross_val_score(clf, processed_df, classification_labels_data, cv=5)\n",
        "print(\"Cross-validation scores:\", cross_val_scores)\n",
        "print(\"Mean cross-validation score:\", cross_val_scores.mean())\n"
      ]
    },
    {
      "cell_type": "markdown",
      "metadata": {
        "id": "VmRDNpFK_5kO"
      },
      "source": [
        "We will also try Extremelely Randomized Trees which will also randomize the thresholds that we split on. In our case, it seems like this extra layer of randomization decreased our accuracy down to 40%. It may be the case that when we picked random thresholds, we created suboptimal decision trees that decreased our accuracy."
      ]
    },
    {
      "cell_type": "code",
      "execution_count": null,
      "metadata": {
        "id": "4JFTA5tb_5kO",
        "outputId": "2b1d644b-55ca-4d33-f98c-f69b11b88b9b"
      },
      "outputs": [
        {
          "name": "stdout",
          "output_type": "stream",
          "text": [
            "Accuracy on test set: 0.5026178010471204\n",
            "Cross-validation scores: [0.39790576 0.34031414 0.39267016 0.44210526 0.45263158]\n",
            "Mean cross-validation score: 0.4051253788922568\n"
          ]
        }
      ],
      "source": [
        "from sklearn.ensemble import ExtraTreesClassifier\n",
        "from sklearn.model_selection import train_test_split, cross_val_score\n",
        "\n",
        "X_train, X_test, y_train, y_test = train_test_split(processed_df, classification_labels_data, test_size=0.2)\n",
        "clf = ExtraTreesClassifier(n_estimators=25)\n",
        "clf.fit(X_train, y_train)\n",
        "\n",
        "accuracy = clf.score(X_test, y_test)\n",
        "print(\"Accuracy on test set:\", accuracy)\n",
        "\n",
        "cross_val_scores = cross_val_score(clf, processed_df, classification_labels_data, cv=5)\n",
        "print(\"Cross-validation scores:\", cross_val_scores)\n",
        "print(\"Mean cross-validation score:\", cross_val_scores.mean())\n"
      ]
    },
    {
      "cell_type": "markdown",
      "metadata": {
        "id": "I0QDz6ja_5kO"
      },
      "source": [
        "Other Classification methods"
      ]
    },
    {
      "cell_type": "code",
      "execution_count": null,
      "metadata": {
        "id": "Hxbj_vBW_5kO",
        "outputId": "da09e27d-5b96-49dc-84c0-06243407976c"
      },
      "outputs": [
        {
          "name": "stdout",
          "output_type": "stream",
          "text": [
            "Accuracy on test set: 0.3769633507853403\n"
          ]
        }
      ],
      "source": [
        "from sklearn.neural_network import MLPClassifier\n",
        "from sklearn.model_selection import train_test_split, cross_val_score\n",
        "\n",
        "X_train, X_test, y_train, y_test = train_test_split(processed_df, classification_labels_data, test_size=0.2)\n",
        "\n",
        "clf = MLPClassifier(hidden_layer_sizes=(1000, ), max_iter=10000)\n",
        "\n",
        "clf.fit(X_train, y_train)\n",
        "\n",
        "accuracy = clf.score(X_test, y_test)\n",
        "print(\"Accuracy on test set:\", accuracy)\n",
        "\n",
        "# cross_val_scores = cross_val_score(clf, processed_df, classification_labels_data, cv=5)\n",
        "# print(\"Cross-validation scores:\", cross_val_scores)\n",
        "# print(\"Mean cross-validation score:\", cross_val_scores.mean())\n"
      ]
    },
    {
      "cell_type": "markdown",
      "metadata": {
        "id": "bd4RwMtS_5kO"
      },
      "source": [
        "Now we will see how neural nets perform in predicting our data. Our accuracy seems slightly worse compared to our decision tree accuracy in our first iteration. To better our accuracy, let's do some hyperparameter tuning."
      ]
    },
    {
      "cell_type": "code",
      "execution_count": null,
      "metadata": {
        "id": "B-05UKLk_5kO",
        "outputId": "682fa0f4-9e67-47d7-8108-94bccc5e8c20"
      },
      "outputs": [
        {
          "name": "stdout",
          "output_type": "stream",
          "text": [
            "Accuracy on outer test set: 0.41361256544502617\n",
            "Accuracy on outer test set: 0.41361256544502617\n",
            "Accuracy on outer test set: 0.34554973821989526\n",
            "Accuracy on outer test set: 0.43157894736842106\n",
            "Accuracy on outer test set: 0.4\n",
            "Best parameters for each outer fold: [{'hidden_layer_sizes': (100,), 'max_iter': 10000}, {'hidden_layer_sizes': (50,), 'max_iter': 1000}, {'hidden_layer_sizes': (50,), 'max_iter': 1000}, {'hidden_layer_sizes': (50,), 'max_iter': 1000}, {'hidden_layer_sizes': (50,), 'max_iter': 1000}]\n"
          ]
        }
      ],
      "source": [
        "from sklearn.neural_network import MLPClassifier\n",
        "from sklearn.model_selection import GridSearchCV, KFold, cross_val_score, train_test_split\n",
        "\n",
        "param_grid = {\n",
        "    'hidden_layer_sizes': [(50,), (100,), (500,), (1000,)],\n",
        "    'max_iter': [1000, 5000, 10000]\n",
        "}\n",
        "\n",
        "outer_cv = KFold(n_splits=5, shuffle=True)\n",
        "inner_cv = KFold(n_splits=3, shuffle=True)\n",
        "\n",
        "best_params = []\n",
        "\n",
        "for train_index, test_index in outer_cv.split(processed_df):\n",
        "    X_train_outer, X_test_outer = processed_df.iloc[train_index], processed_df.iloc[test_index]\n",
        "    y_train_outer, y_test_outer = classification_labels_data.iloc[train_index], classification_labels_data.iloc[test_index]\n",
        "\n",
        "    clf = GridSearchCV(MLPClassifier(), param_grid, cv=inner_cv)\n",
        "    clf.fit(X_train_outer, y_train_outer)\n",
        "\n",
        "    best_params.append(clf.best_params_)\n",
        "\n",
        "    accuracy = clf.score(X_test_outer, y_test_outer)\n",
        "    print(\"Accuracy on outer test set:\", accuracy)\n",
        "\n",
        "print(\"Best parameters for each outer fold:\", best_params)"
      ]
    },
    {
      "cell_type": "code",
      "execution_count": null,
      "metadata": {
        "id": "WeNQrDA6_5kP",
        "outputId": "2cb31c63-e009-461b-aa5a-f6c2ddd648d9"
      },
      "outputs": [
        {
          "name": "stdout",
          "output_type": "stream",
          "text": [
            "Best parameters: {'hidden_layer_sizes': (50,), 'max_iter': 1000}\n",
            "Best cross-validation score: 0.4684726522187823\n",
            "Accuracy on test set with best parameters: 0.3769633507853403\n"
          ]
        }
      ],
      "source": [
        "from sklearn.neural_network import MLPClassifier\n",
        "from sklearn.model_selection import GridSearchCV, train_test_split\n",
        "\n",
        "param_grid = {\n",
        "    'hidden_layer_sizes': [(50,), (100,), (500,), (1000,)],\n",
        "    'max_iter': [1000, 5000, 10000]\n",
        "}\n",
        "\n",
        "X_train, X_test, y_train, y_test = train_test_split(processed_df, classification_labels_data, test_size=0.2)\n",
        "\n",
        "clf = GridSearchCV(MLPClassifier(), param_grid, cv=5)\n",
        "clf.fit(X_train, y_train)\n",
        "\n",
        "best_params = clf.best_params_\n",
        "best_score = clf.best_score_\n",
        "\n",
        "accuracy = clf.score(X_test, y_test)\n",
        "print(\"Best parameters:\", best_params)\n",
        "print(\"Best cross-validation score:\", best_score)\n",
        "print(\"Accuracy on test set with best parameters:\", accuracy)"
      ]
    },
    {
      "cell_type": "markdown",
      "source": [
        "Our neural net did not see much improvement after hyperparameter tuning. It may be the case that neural nets are just not a good fit."
      ],
      "metadata": {
        "id": "ZIfY3fbxBpSy"
      }
    },
    {
      "cell_type": "markdown",
      "metadata": {
        "id": "-_2PrANI_5kP"
      },
      "source": [
        "PCA for SVM and KNN"
      ]
    },
    {
      "cell_type": "markdown",
      "source": [
        "Prior to performing SVM and KNN, we will want to perform PCA as these distance based metrics often suffer much more from the curse of dimentionality."
      ],
      "metadata": {
        "id": "L426D7GzBwD7"
      }
    },
    {
      "cell_type": "code",
      "execution_count": null,
      "metadata": {
        "id": "VQ76YqUD_5kP",
        "outputId": "44858d3d-3865-4c9a-fe38-a8f56e254835"
      },
      "outputs": [
        {
          "name": "stdout",
          "output_type": "stream",
          "text": [
            "     0     1     2     3     4     5     6     7     8     9     10    11\n",
            "0 -0.53  0.00  0.36  0.89 -0.19 -0.51  0.05  0.36 -0.52 -0.53 -0.04  0.14\n",
            "1 -0.61 -0.73 -0.43 -0.00  0.87 -0.11  0.02  0.03  0.06  0.02  0.02 -0.08\n",
            "2 -0.58  0.04  0.39  0.83 -0.23  0.30 -0.12  0.57  0.63 -0.21 -0.13  0.04\n",
            "3 -0.59  0.06  0.36  0.88 -0.17  0.31 -0.07 -0.08 -0.21 -0.10  0.48 -0.68\n",
            "4  0.80 -0.76 -0.27 -0.08 -0.12  0.42 -0.08 -0.14 -0.21 -0.08  0.35 -0.77\n",
            "(953, 12)\n",
            "(953, 29)\n"
          ]
        }
      ],
      "source": [
        "from sklearn.decomposition import PCA\n",
        "\n",
        "\n",
        "pca = PCA(n_components=.8)\n",
        "processed_df_pca = pca.fit_transform(processed_df)\n",
        "print(pd.DataFrame(processed_df_pca).head())\n",
        "print(processed_df_pca.shape)\n",
        "print(processed_df.shape)"
      ]
    },
    {
      "cell_type": "markdown",
      "source": [
        "Our first iteration of KNN was pretty bas, with an accuracy in the low 30%, only slightly better than random guessing (20%). This may because our data is more non-globular/is not clustered into its labels in a globular fashion. Lets try to improve this through hyperparameter tuning."
      ],
      "metadata": {
        "id": "1rjZroMYB7kT"
      }
    },
    {
      "cell_type": "code",
      "execution_count": null,
      "metadata": {
        "id": "tpqZAsDb_5kP",
        "outputId": "4bd9fe5d-3112-427d-cc24-9ebf83c59d55"
      },
      "outputs": [
        {
          "name": "stdout",
          "output_type": "stream",
          "text": [
            "Accuracy on test set with distance weighting: 0.34554973821989526\n",
            "Cross-validation scores with distance weighting: [0.34554974 0.28795812 0.29842932 0.31578947 0.32105263]\n",
            "Mean cross-validation score with distance weighting: 0.3137558556076054\n"
          ]
        }
      ],
      "source": [
        "\n",
        "from sklearn.neighbors import KNeighborsClassifier\n",
        "X_train, X_test, y_train, y_test = train_test_split(processed_df_pca, classification_labels_data, test_size=0.2)\n",
        "\n",
        "\n",
        "clf = KNeighborsClassifier(weights='distance')\n",
        "\n",
        "clf.fit(X_train, y_train)\n",
        "\n",
        "accuracy = clf.score(X_test, y_test)\n",
        "print(\"Accuracy on test set with distance weighting:\", accuracy)\n",
        "\n",
        "cross_val_scores = cross_val_score(clf, processed_df_pca, classification_labels_data, cv=5)\n",
        "print(\"Cross-validation scores with distance weighting:\", cross_val_scores)\n",
        "print(\"Mean cross-validation score with distance weighting:\", cross_val_scores.mean())\n"
      ]
    },
    {
      "cell_type": "markdown",
      "source": [
        "After nested cross validation, we can already observe a significant increase in accuracy."
      ],
      "metadata": {
        "id": "-Ve3HbZ1CHwk"
      }
    },
    {
      "cell_type": "code",
      "execution_count": null,
      "metadata": {
        "id": "yKDiN-dO_5kP",
        "outputId": "e050e886-1bc0-446e-ef22-cbafe4beecd8"
      },
      "outputs": [
        {
          "name": "stdout",
          "output_type": "stream",
          "text": [
            "Accuracy on outer test set: 0.4117647058823529\n",
            "Accuracy on outer test set: 0.46405228758169936\n",
            "Accuracy on outer test set: 0.35526315789473684\n",
            "Accuracy on outer test set: 0.39473684210526316\n",
            "Accuracy on outer test set: 0.4144736842105263\n",
            "Best parameters for each outer fold: [{'n_neighbors': 7, 'weights': 'uniform'}, {'n_neighbors': 9, 'weights': 'uniform'}, {'n_neighbors': 5, 'weights': 'uniform'}, {'n_neighbors': 9, 'weights': 'uniform'}, {'n_neighbors': 7, 'weights': 'uniform'}]\n"
          ]
        }
      ],
      "source": [
        "from sklearn.model_selection import GridSearchCV, KFold, cross_val_score, train_test_split\n",
        "from sklearn.neighbors import KNeighborsClassifier\n",
        "\n",
        "param_grid = {\n",
        "    'n_neighbors': [3, 5, 7, 9, 11],\n",
        "    'weights': ['uniform', 'distance']\n",
        "}\n",
        "\n",
        "X_train, X_test, y_train, y_test = train_test_split(processed_df_pca, classification_labels_data, test_size=0.2)\n",
        "\n",
        "outer_cv = KFold(n_splits=5, shuffle=True)\n",
        "inner_cv = KFold(n_splits=3, shuffle=True)\n",
        "\n",
        "best_params = []\n",
        "\n",
        "for train_index, test_index in outer_cv.split(X_train):\n",
        "    X_train_outer, X_test_outer = X_train[train_index], X_train[test_index]\n",
        "    y_train_outer, y_test_outer = y_train.iloc[train_index], y_train.iloc[test_index]\n",
        "\n",
        "    clf = GridSearchCV(KNeighborsClassifier(), param_grid, cv=inner_cv)\n",
        "    clf.fit(X_train_outer, y_train_outer)\n",
        "\n",
        "    best_params.append(clf.best_params_)\n",
        "\n",
        "    accuracy = clf.score(X_test_outer, y_test_outer)\n",
        "    print(\"Accuracy on outer test set:\", accuracy)\n",
        "\n",
        "print(\"Best parameters for each outer fold:\", best_params)"
      ]
    },
    {
      "cell_type": "markdown",
      "source": [
        "After hyperparameter tuning, our accuracy shoots up to 41%, which is comparable to our normal decision tree classifiers."
      ],
      "metadata": {
        "id": "bGzudXLzCnjF"
      }
    },
    {
      "cell_type": "code",
      "execution_count": null,
      "metadata": {
        "id": "soCXzwcq_5kP",
        "outputId": "51da801d-1734-4dff-fdcb-dcf0c4895f6c"
      },
      "outputs": [
        {
          "name": "stdout",
          "output_type": "stream",
          "text": [
            "Best parameters: {'n_neighbors': 11, 'weights': 'uniform'}\n",
            "Best cross-validation score: 0.4082098287800329\n"
          ]
        }
      ],
      "source": [
        "from sklearn.model_selection import GridSearchCV\n",
        "from sklearn.neighbors import KNeighborsClassifier\n",
        "\n",
        "param_grid = {\n",
        "    'n_neighbors': [3, 5, 7, 9, 11],\n",
        "    'weights': ['uniform', 'distance']\n",
        "}\n",
        "\n",
        "clf = GridSearchCV(KNeighborsClassifier(), param_grid, cv=3)  # Perform grid search with 3-fold cross-validation\n",
        "clf.fit(processed_df_pca, classification_labels_data)\n",
        "\n",
        "best_params = clf.best_params_\n",
        "best_score = clf.best_score_\n",
        "\n",
        "print(\"Best parameters:\", best_params)\n",
        "print(\"Best cross-validation score:\", best_score)"
      ]
    },
    {
      "cell_type": "markdown",
      "source": [
        "Now we will try SVM's. To account for the issue with linear classfiers, we can provide a kernel function to transform our data. Right of the bat, we can see a basic SVM performs fairly well with about 44% accuracy, which is similar to our randomized forest classifier."
      ],
      "metadata": {
        "id": "8xqj8RwpC5C7"
      }
    },
    {
      "cell_type": "code",
      "execution_count": null,
      "metadata": {
        "id": "k16h11KA_5kP",
        "outputId": "8ee7d14d-6184-49be-c16f-d820ab24b214"
      },
      "outputs": [
        {
          "name": "stdout",
          "output_type": "stream",
          "text": [
            "Accuracy on test set: 0.387434554973822\n",
            "Cross-validation scores: [0.43979058 0.41361257 0.46596859 0.42105263 0.46842105]\n",
            "Mean cross-validation score: 0.44176908239184354\n"
          ]
        }
      ],
      "source": [
        "from sklearn.svm import SVC\n",
        "from sklearn.model_selection import train_test_split, cross_val_score\n",
        "\n",
        "X_train, X_test, y_train, y_test = train_test_split(processed_df_pca, classification_labels_data, test_size=0.2)\n",
        "\n",
        "clf = SVC(kernel='rbf')\n",
        "\n",
        "clf.fit(X_train, y_train)\n",
        "\n",
        "accuracy = clf.score(X_test, y_test)\n",
        "print(\"Accuracy on test set:\", accuracy)\n",
        "\n",
        "cross_val_scores = cross_val_score(clf, processed_df_pca, classification_labels_data, cv=5)\n",
        "print(\"Cross-validation scores:\", cross_val_scores)\n",
        "print(\"Mean cross-validation score:\", cross_val_scores.mean())\n"
      ]
    },
    {
      "cell_type": "code",
      "execution_count": null,
      "metadata": {
        "id": "HyiwB0CS_5kQ",
        "outputId": "ff06302b-26cd-4676-c52a-c431d2abe5e7"
      },
      "outputs": [
        {
          "name": "stdout",
          "output_type": "stream",
          "text": [
            "Accuracy on outer test set: 0.41830065359477125\n",
            "Accuracy on outer test set: 0.41830065359477125\n",
            "Accuracy on outer test set: 0.4407894736842105\n",
            "Accuracy on outer test set: 0.48026315789473684\n",
            "Accuracy on outer test set: 0.47368421052631576\n",
            "Best parameters for each outer fold: [{'C': 0.1, 'gamma': 0.1, 'kernel': 'linear'}, {'C': 0.1, 'gamma': 0.1, 'kernel': 'linear'}, {'C': 1, 'gamma': 0.1, 'kernel': 'rbf'}, {'C': 0.1, 'gamma': 0.1, 'kernel': 'linear'}, {'C': 0.1, 'gamma': 0.1, 'kernel': 'linear'}]\n"
          ]
        }
      ],
      "source": [
        "from sklearn.model_selection import GridSearchCV, KFold, train_test_split\n",
        "from sklearn.svm import SVC\n",
        "\n",
        "param_grid = {\n",
        "    'C': [0.1, 1, 10],\n",
        "    'gamma': [0.1, 1, 'scale'],\n",
        "    'kernel': ['linear', 'rbf', 'poly']\n",
        "}\n",
        "\n",
        "X_train, X_test, y_train, y_test = train_test_split(processed_df_pca, classification_labels_data, test_size=0.2)\n",
        "\n",
        "outer_cv = KFold(n_splits=5, shuffle=True)\n",
        "inner_cv = KFold(n_splits=3, shuffle=True)\n",
        "\n",
        "best_params = []\n",
        "\n",
        "for train_index, test_index in outer_cv.split(X_train):\n",
        "    X_train_outer, X_test_outer = X_train[train_index], X_train[test_index]\n",
        "    y_train_outer, y_test_outer = y_train.iloc[train_index], y_train.iloc[test_index]\n",
        "\n",
        "    clf = GridSearchCV(SVC(), param_grid, cv=inner_cv)\n",
        "    clf.fit(X_train_outer, y_train_outer)\n",
        "\n",
        "    best_params.append(clf.best_params_)\n",
        "\n",
        "    accuracy = clf.score(X_test_outer, y_test_outer)\n",
        "    print(\"Accuracy on outer test set:\", accuracy)\n",
        "\n",
        "print(\"Best parameters for each outer fold:\", best_params)"
      ]
    },
    {
      "cell_type": "markdown",
      "source": [
        "After hyperparameter tuning, our SVMs perform better than any other classifier with accuracies over 46%."
      ],
      "metadata": {
        "id": "g0EEmtT8DISa"
      }
    },
    {
      "cell_type": "code",
      "execution_count": null,
      "metadata": {
        "id": "zk8kAHb7_5kQ",
        "outputId": "f773108e-6ebb-4573-df3a-6c052c8318eb"
      },
      "outputs": [
        {
          "name": "stdout",
          "output_type": "stream",
          "text": [
            "Best parameters: {'C': 0.1, 'gamma': 0.1, 'kernel': 'linear'}\n",
            "Best cross-validation score: 0.46065379706234416\n"
          ]
        }
      ],
      "source": [
        "from sklearn.model_selection import GridSearchCV, KFold\n",
        "from sklearn.svm import SVC\n",
        "\n",
        "param_grid = {\n",
        "    'C': [0.1, 1, 10],\n",
        "    'gamma': [0.1, 1, 'scale'],\n",
        "    'kernel': ['linear', 'rbf', 'poly']\n",
        "}\n",
        "\n",
        "outer_cv = KFold(n_splits=5, shuffle=True)\n",
        "inner_cv = KFold(n_splits=3, shuffle=True)\n",
        "\n",
        "clf = GridSearchCV(SVC(), param_grid, cv=inner_cv)\n",
        "clf.fit(processed_df_pca, classification_labels_data)\n",
        "\n",
        "best_params = clf.best_params_\n",
        "best_score = clf.best_score_\n",
        "\n",
        "print(\"Best parameters:\", best_params)\n",
        "print(\"Best cross-validation score:\", best_score)"
      ]
    },
    {
      "cell_type": "markdown",
      "metadata": {
        "id": "BvwYxmm6_5kQ"
      },
      "source": [
        "Goal 2"
      ]
    },
    {
      "cell_type": "markdown",
      "source": [
        "Now we will do a regression to determine our stream rankings. To do so, we want to only consider features pre-release so we can potentially predict how new songs will perform. Because of this, we will drop features such as how many playlists is a song in."
      ],
      "metadata": {
        "id": "adhZIzUvDSFS"
      }
    },
    {
      "cell_type": "code",
      "execution_count": null,
      "metadata": {
        "id": "y3_PYlby_5kQ",
        "outputId": "28f3f0e0-1d1d-489c-aa0d-2e6ae416a39f"
      },
      "outputs": [
        {
          "name": "stdout",
          "output_type": "stream",
          "text": [
            "<class 'pandas.core.series.Series'>\n"
          ]
        }
      ],
      "source": [
        "#Picking features for our regression problem\n",
        "regression_data = useable_data.copy()\n",
        "regression_labels_data = regression_data['stream_ranking'].copy()\n",
        "regression_data.drop(['in_spotify_playlists', 'average_streams_per_year', 'stream_ranking', 'in_apple_playlists','class_label_apple_chart_category'], axis=1, inplace=True)\n",
        "\n",
        "\n",
        "print(type(regression_labels_data))\n",
        "#regression_data.to_csv('reg_data.csv', index=False) # sanity check to get an overview of the data\n",
        "\n",
        "\n"
      ]
    },
    {
      "cell_type": "markdown",
      "source": [
        "We will proceed to one hot encode our categorical variables to make sense of them in a regression. Furthermore, we will also scale our data so our PCA won't favor some features over others."
      ],
      "metadata": {
        "id": "lPFqVX-4DjLc"
      }
    },
    {
      "cell_type": "code",
      "execution_count": null,
      "metadata": {
        "id": "ETwhX-Uw_5kQ",
        "outputId": "f63b1fc0-81c3-413b-db97-d824f15c0ae0"
      },
      "outputs": [
        {
          "name": "stdout",
          "output_type": "stream",
          "text": [
            "    0    1    2    3    4    5    6    7    8    9   ...   16   17   18   19  \\\n",
            "0 1.00 0.04 0.78 0.91 0.84 0.32 0.00 0.05 0.03 0.00  ... 0.00 0.00 0.00 0.00   \n",
            "1 1.00 0.04 0.66 0.61 0.74 0.07 0.00 0.07 0.03 0.00  ... 0.00 0.00 0.00 0.00   \n",
            "2 1.00 0.04 0.38 0.30 0.50 0.18 0.00 0.30 0.06 0.00  ... 1.00 0.00 0.00 0.00   \n",
            "3 0.96 0.22 0.44 0.58 0.72 0.11 0.00 0.09 0.21 1.00  ... 0.00 0.00 0.00 0.00   \n",
            "4 1.00 0.08 0.58 0.20 0.81 0.14 0.69 0.09 0.06 1.00  ... 0.00 0.00 0.00 0.00   \n",
            "\n",
            "    20   21   22   23   24   25  \n",
            "0 1.00 0.00 0.00 0.00 1.00 0.00  \n",
            "1 1.00 0.00 0.00 1.00 0.00 0.00  \n",
            "2 1.00 0.00 0.00 0.00 1.00 0.00  \n",
            "3 1.00 0.00 0.00 0.00 1.00 0.00  \n",
            "4 0.00 1.00 0.00 1.00 0.00 0.00  \n",
            "\n",
            "[5 rows x 26 columns]\n"
          ]
        }
      ],
      "source": [
        "# One hot encoding our data and normalizing our data\n",
        "\n",
        "categorical_cols = list(regression_data.select_dtypes(include=['object']).columns)\n",
        "numeric_cols = list(regression_data.select_dtypes(include=['int64', 'float64']).columns)\n",
        "\n",
        "numeric_pipeline = Pipeline(steps=[\n",
        "    ('scaler', MinMaxScaler())\n",
        "])\n",
        "\n",
        "categorical_pipeline = Pipeline(steps=[\n",
        "    ('onehot', OneHotEncoder(sparse_output=False))\n",
        "])\n",
        "\n",
        "preprocessor = ColumnTransformer(\n",
        "    transformers=[\n",
        "        ('num', numeric_pipeline, numeric_cols),\n",
        "        ('cat', categorical_pipeline, categorical_cols)\n",
        "    ])\n",
        "\n",
        "processed_reg_data = preprocessor.fit_transform(regression_data)\n",
        "\n",
        "processed_reg_df = pd.DataFrame(processed_reg_data)\n",
        "print(processed_reg_df.head())\n",
        "#processed_reg_df.to_csv('processed_reg_df.csv', index=False) # sanity check to get an overview of the data"
      ]
    },
    {
      "cell_type": "markdown",
      "source": [
        "We perform a PCA because linear regression, which is a distance/residual based model, suffers from many dimensions."
      ],
      "metadata": {
        "id": "w9Kq4swAD2l9"
      }
    },
    {
      "cell_type": "code",
      "execution_count": null,
      "metadata": {
        "id": "-Y3tLl0J_5kQ",
        "outputId": "482e6d46-1a04-4c5e-e517-3fba7fe31c51"
      },
      "outputs": [
        {
          "name": "stdout",
          "output_type": "stream",
          "text": [
            "     0     1     2     3     4     5     6     7     8     9     10    11  \\\n",
            "0 -0.53 -0.01  0.36  0.89 -0.19 -0.50  0.05  0.36 -0.54 -0.52 -0.06  0.14   \n",
            "1 -0.61  0.73 -0.43  0.00  0.87 -0.12  0.02  0.03  0.05  0.03  0.05 -0.07   \n",
            "2 -0.58 -0.05  0.39  0.83 -0.23  0.30 -0.12  0.57  0.62 -0.22 -0.15  0.00   \n",
            "3 -0.59 -0.06  0.36  0.88 -0.18  0.32 -0.07 -0.08 -0.20 -0.11  0.59 -0.59   \n",
            "4  0.80  0.75 -0.28 -0.08 -0.13  0.43 -0.08 -0.14 -0.20 -0.08  0.48 -0.70   \n",
            "\n",
            "     12    13    14    15    16  \n",
            "0 -0.06  0.06  0.37  0.01 -0.05  \n",
            "1  0.05 -0.03  0.06 -0.01 -0.04  \n",
            "2  0.07 -0.09 -0.26 -0.04 -0.04  \n",
            "3  0.05 -0.04  0.05  0.00 -0.10  \n",
            "4  0.00 -0.19 -0.23 -0.07 -0.03  \n",
            "(953, 17)\n",
            "(953, 26)\n"
          ]
        }
      ],
      "source": [
        "# PCA on Regression Frame\n",
        "\n",
        "pca = PCA(n_components=.95)\n",
        "processed_reg_df_pca = pca.fit_transform(processed_reg_df)\n",
        "print(pd.DataFrame(processed_reg_df_pca).head())\n",
        "print(processed_reg_df_pca.shape)\n",
        "print(processed_reg_df.shape)"
      ]
    },
    {
      "cell_type": "markdown",
      "source": [
        "Our first linear regression doesn't perform that badly. In fact, we get an MAE of 122, whereas our MAE would be 250 if we guessed 500 every time for our rankings."
      ],
      "metadata": {
        "id": "Mae8pN5ZD_5_"
      }
    },
    {
      "cell_type": "code",
      "execution_count": null,
      "metadata": {
        "id": "m1FfaqS3_5kQ",
        "outputId": "dde3d5d6-bd09-4ac6-bb32-13b3bbcc006a"
      },
      "outputs": [
        {
          "name": "stdout",
          "output_type": "stream",
          "text": [
            "Mean Absolute Error (MAE): 122.35471204188482\n"
          ]
        }
      ],
      "source": [
        "from sklearn.linear_model import LinearRegression\n",
        "from sklearn.metrics import mean_squared_error, mean_absolute_error\n",
        "\n",
        "X_train, X_test, y_train, y_test = train_test_split(processed_reg_df, regression_labels_data, test_size=0.2)\n",
        "\n",
        "model = LinearRegression()\n",
        "\n",
        "model.fit(X_train, y_train)\n",
        "\n",
        "predictions = model.predict(X_test)\n",
        "\n",
        "\n",
        "mae = mean_absolute_error(y_test, predictions)\n",
        "print(\"Mean Absolute Error (MAE):\", mae)\n",
        "\n",
        "\n",
        "#coefficients = pd.DataFrame({'Column': pd.DataFrame(processed_reg_df_pca).columns, 'Coefficient': model.coef_/100000})"
      ]
    },
    {
      "cell_type": "markdown",
      "source": [
        "Let's visualize our predictions to see how we can increase the accuracy of our regression."
      ],
      "metadata": {
        "id": "Iq1yDQu4ELIK"
      }
    },
    {
      "cell_type": "code",
      "execution_count": null,
      "metadata": {
        "id": "t1RF0chG_5kR",
        "outputId": "eae41ec6-3d18-4387-d577-081fcd8053c6"
      },
      "outputs": [
        {
          "data": {
            "image/png": "[encoded data removed]",
            "text/plain": [
              "<Figure size 800x600 with 1 Axes>"
            ]
          },
          "metadata": {},
          "output_type": "display_data"
        }
      ],
      "source": [
        "plt.figure(figsize=(8, 6))\n",
        "plt.scatter(y_test, predictions, color='blue', alpha=0.5)  # Scatter plot of actual vs predicted\n",
        "plt.plot([y_test.min(), y_test.max()], [y_test.min(), y_test.max()], 'k--', lw=2)  # Diagonal line showing perfect prediction\n",
        "plt.xlabel('Actual')\n",
        "plt.ylabel('Predicted')\n",
        "plt.title('Actual vs Predicted')\n",
        "plt.show()"
      ]
    },
    {
      "cell_type": "markdown",
      "metadata": {
        "id": "JU6OBtPT_5kR"
      },
      "source": [
        "There is a very clear pattern in the residuals of our data, so we try a non-linear regressions, specifically a logarithmic regression because that is what our data seems to fit"
      ]
    },
    {
      "cell_type": "code",
      "execution_count": null,
      "metadata": {
        "id": "UWJdR58Y_5kR",
        "outputId": "fd980dca-6950-471a-d2e2-bfe35de10850"
      },
      "outputs": [
        {
          "name": "stdout",
          "output_type": "stream",
          "text": [
            "Mean Absolute Error (MAE) with Logarithmic Regression: 80.60906815347674\n"
          ]
        }
      ],
      "source": [
        "from sklearn.linear_model import LinearRegression\n",
        "from sklearn.preprocessing import PolynomialFeatures\n",
        "from sklearn.model_selection import train_test_split\n",
        "from sklearn.metrics import mean_squared_error, mean_absolute_error\n",
        "import numpy as np\n",
        "\n",
        "X_train, X_test, y_train, y_test = train_test_split(processed_reg_df, regression_labels_data, test_size=0.2)\n",
        "\n",
        "# Generate polynomial features\n",
        "poly = PolynomialFeatures(degree=3)\n",
        "X_train_poly = poly.fit_transform(X_train)\n",
        "X_test_poly = poly.transform(X_test)\n",
        "\n",
        "# Transform target variable using logarithm\n",
        "y_train_log = np.log(y_train)\n",
        "y_test_log = np.log(y_test)\n",
        "\n",
        "\n",
        "model = LinearRegression()\n",
        "model.fit(X_train_poly, y_train_log)\n",
        "\n",
        "# Predict using the model\n",
        "predictions_log = model.predict(X_test_poly)\n",
        "\n",
        "# Transform predictions back to original scale\n",
        "predictions = np.exp(predictions_log)\n",
        "\n",
        "mae = mean_absolute_error(y_test, predictions)\n",
        "print(\"Mean Absolute Error (MAE) with Logarithmic Regression:\", mae)"
      ]
    },
    {
      "cell_type": "markdown",
      "source": [
        "Already, we can see our accuracy of our logarithmic regressor heavily improved by curring our MAE down over 1/3. Let's visualize this as well."
      ],
      "metadata": {
        "id": "DGOTWWTlEQGM"
      }
    },
    {
      "cell_type": "code",
      "execution_count": null,
      "metadata": {
        "id": "98ogGswU_5kR",
        "outputId": "47ef3e9a-ec37-4bef-e3c3-16eb6e376998"
      },
      "outputs": [
        {
          "data": {
            "image/png": "[encoded data removed]",
            "text/plain": [
              "<Figure size 800x600 with 1 Axes>"
            ]
          },
          "metadata": {},
          "output_type": "display_data"
        }
      ],
      "source": [
        "plt.figure(figsize=(8, 6))\n",
        "plt.scatter(y_test, predictions, color='blue', alpha=0.5)  # Scatter plot of actual vs predicted\n",
        "plt.plot([y_test.min(), y_test.max()], [y_test.min(), y_test.max()], 'k--', lw=2)  # Diagonal line showing perfect prediction\n",
        "plt.xlabel('Actual')\n",
        "plt.ylabel('Predicted')\n",
        "plt.title('Actual vs Predicted')\n",
        "plt.show()"
      ]
    },
    {
      "cell_type": "markdown",
      "source": [
        "Notice that we are very accurate in predicting the more popular songs while songs with lower ranking are predicted much worse. This may be due to the fact that logs decrease variance within our features with higher value, and it may be harder to predict their rankings when there is less variance to work with."
      ],
      "metadata": {
        "id": "Lgw5E9gKEcmE"
      }
    },
    {
      "cell_type": "markdown",
      "source": [
        "Just to see how our logarithmic regressor performs to a neural net, we'll also compare it to an MLP regressor."
      ],
      "metadata": {
        "id": "-b7ssTu_Esw0"
      }
    },
    {
      "cell_type": "code",
      "execution_count": null,
      "metadata": {
        "id": "FfAiupt1_5kR",
        "outputId": "b2eeb3d4-cb6a-4ba5-fc14-25a4088d3cd0"
      },
      "outputs": [
        {
          "name": "stdout",
          "output_type": "stream",
          "text": [
            "Mean Absolute Error (MAE): 81.52950079332199\n"
          ]
        }
      ],
      "source": [
        "from sklearn.neural_network import MLPRegressor\n",
        "from sklearn.preprocessing import PolynomialFeatures\n",
        "from sklearn.model_selection import train_test_split\n",
        "from sklearn.metrics import mean_squared_error, mean_absolute_error\n",
        "import numpy as np\n",
        "\n",
        "X_train, X_test, y_train, y_test = train_test_split(processed_reg_df, regression_labels_data, test_size=0.2)\n",
        "\n",
        "poly = PolynomialFeatures(degree=3)\n",
        "X_train_poly = poly.fit_transform(X_train)\n",
        "X_test_poly = poly.transform(X_test)\n",
        "\n",
        "y_train_log = np.log(y_train)\n",
        "y_test_log = np.log(y_test)\n",
        "\n",
        "model = MLPRegressor(hidden_layer_sizes=(10,), activation='relu', solver='adam', max_iter=1000)\n",
        "model.fit(X_train_poly, y_train_log)\n",
        "\n",
        "predictions_log = model.predict(X_test_poly)\n",
        "\n",
        "predictions = np.exp(predictions_log)\n",
        "\n",
        "mae = mean_absolute_error(y_test, predictions)\n",
        "print(\"Mean Absolute Error (MAE):\", mae)\n"
      ]
    },
    {
      "cell_type": "markdown",
      "source": [
        "Our MAE is comparable to our logarithmic regressor."
      ],
      "metadata": {
        "id": "fg4nT8z4Eylw"
      }
    },
    {
      "cell_type": "code",
      "execution_count": null,
      "metadata": {
        "id": "gAUB5tKl_5kR",
        "outputId": "f0a773cf-ac0a-4af0-f84f-876397d0397e"
      },
      "outputs": [
        {
          "data": {
            "image/png": "[encoded data removed]",
            "text/plain": [
              "<Figure size 800x600 with 1 Axes>"
            ]
          },
          "metadata": {},
          "output_type": "display_data"
        }
      ],
      "source": [
        "\n",
        "plt.figure(figsize=(8, 6))\n",
        "plt.scatter(y_test, predictions, color='blue', alpha=0.5)  # Scatter plot of actual vs predicted\n",
        "plt.plot([y_test.min(), y_test.max()], [y_test.min(), y_test.max()], 'k--', lw=2)  # Diagonal line showing perfect prediction\n",
        "plt.xlabel('Actual')\n",
        "plt.ylabel('Predicted')\n",
        "plt.title('Actual vs Predicted')\n",
        "plt.show()"
      ]
    },
    {
      "cell_type": "markdown",
      "source": [
        "We see the same issue occuring with our MLP regressor in comparison to our logarithmic regressor. Because of this, the MLP is likely overkill and the logarithmic regressor is therefore our best option for something like this."
      ],
      "metadata": {
        "id": "XXDBiFLtE1Wy"
      }
    }
  ],
  "metadata": {
    "kernelspec": {
      "display_name": "Python 3 (ipykernel)",
      "language": "python",
      "name": "python3"
    },
    "language_info": {
      "codemirror_mode": {
        "name": "ipython",
        "version": 3
      },
      "file_extension": ".py",
      "mimetype": "text/x-python",
      "name": "python",
      "nbconvert_exporter": "python",
      "pygments_lexer": "ipython3",
      "version": "3.11.6"
    },
    "colab": {
      "provenance": []
    }
  },
  "nbformat": 4,
  "nbformat_minor": 0
}